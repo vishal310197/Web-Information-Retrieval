{
 "cells": [
  {
   "cell_type": "code",
   "execution_count": 1,
   "id": "955fb86b",
   "metadata": {},
   "outputs": [],
   "source": [
    "import pandas as pd\n",
    "#pivot_table(data, values=None, index=None, columns=None, aggfunc='mean', \n",
    "#            fill_value=None, margins=False, dropna=True, margins_name='All', \n",
    "#            observed=False, sort=True)"
   ]
  },
  {
   "cell_type": "code",
   "execution_count": 2,
   "id": "c8574222",
   "metadata": {},
   "outputs": [
    {
     "data": {
      "text/html": [
       "<div>\n",
       "<style scoped>\n",
       "    .dataframe tbody tr th:only-of-type {\n",
       "        vertical-align: middle;\n",
       "    }\n",
       "\n",
       "    .dataframe tbody tr th {\n",
       "        vertical-align: top;\n",
       "    }\n",
       "\n",
       "    .dataframe thead th {\n",
       "        text-align: right;\n",
       "    }\n",
       "</style>\n",
       "<table border=\"1\" class=\"dataframe\">\n",
       "  <thead>\n",
       "    <tr style=\"text-align: right;\">\n",
       "      <th></th>\n",
       "      <th>last</th>\n",
       "      <th>first</th>\n",
       "      <th>gender</th>\n",
       "      <th>age</th>\n",
       "      <th>class</th>\n",
       "      <th>fare</th>\n",
       "      <th>embarked</th>\n",
       "      <th>survived</th>\n",
       "    </tr>\n",
       "  </thead>\n",
       "  <tbody>\n",
       "    <tr>\n",
       "      <th>0</th>\n",
       "      <td>Braund</td>\n",
       "      <td>Mr. Owen Harris</td>\n",
       "      <td>M</td>\n",
       "      <td>22.0</td>\n",
       "      <td>3</td>\n",
       "      <td>7.2500</td>\n",
       "      <td>Southampton</td>\n",
       "      <td>no</td>\n",
       "    </tr>\n",
       "    <tr>\n",
       "      <th>1</th>\n",
       "      <td>Cumings</td>\n",
       "      <td>Mrs. John Bradley (Florence Briggs Thayer)</td>\n",
       "      <td>F</td>\n",
       "      <td>38.0</td>\n",
       "      <td>1</td>\n",
       "      <td>71.2833</td>\n",
       "      <td>Cherbourg</td>\n",
       "      <td>yes</td>\n",
       "    </tr>\n",
       "    <tr>\n",
       "      <th>2</th>\n",
       "      <td>Heikkinen</td>\n",
       "      <td>Miss Laina</td>\n",
       "      <td>F</td>\n",
       "      <td>26.0</td>\n",
       "      <td>3</td>\n",
       "      <td>7.9250</td>\n",
       "      <td>Southampton</td>\n",
       "      <td>yes</td>\n",
       "    </tr>\n",
       "    <tr>\n",
       "      <th>3</th>\n",
       "      <td>Futrelle</td>\n",
       "      <td>Mrs. Jacques Heath (Lily May Peel)</td>\n",
       "      <td>F</td>\n",
       "      <td>35.0</td>\n",
       "      <td>1</td>\n",
       "      <td>53.1000</td>\n",
       "      <td>Southampton</td>\n",
       "      <td>yes</td>\n",
       "    </tr>\n",
       "    <tr>\n",
       "      <th>4</th>\n",
       "      <td>Allen</td>\n",
       "      <td>Mr. William Henry</td>\n",
       "      <td>M</td>\n",
       "      <td>35.0</td>\n",
       "      <td>3</td>\n",
       "      <td>8.0500</td>\n",
       "      <td>Southampton</td>\n",
       "      <td>no</td>\n",
       "    </tr>\n",
       "    <tr>\n",
       "      <th>...</th>\n",
       "      <td>...</td>\n",
       "      <td>...</td>\n",
       "      <td>...</td>\n",
       "      <td>...</td>\n",
       "      <td>...</td>\n",
       "      <td>...</td>\n",
       "      <td>...</td>\n",
       "      <td>...</td>\n",
       "    </tr>\n",
       "    <tr>\n",
       "      <th>886</th>\n",
       "      <td>Montvila</td>\n",
       "      <td>Rev. Juozas</td>\n",
       "      <td>M</td>\n",
       "      <td>27.0</td>\n",
       "      <td>2</td>\n",
       "      <td>13.0000</td>\n",
       "      <td>Southampton</td>\n",
       "      <td>no</td>\n",
       "    </tr>\n",
       "    <tr>\n",
       "      <th>887</th>\n",
       "      <td>Graham</td>\n",
       "      <td>Miss Margaret Edith</td>\n",
       "      <td>F</td>\n",
       "      <td>19.0</td>\n",
       "      <td>1</td>\n",
       "      <td>30.0000</td>\n",
       "      <td>Southampton</td>\n",
       "      <td>yes</td>\n",
       "    </tr>\n",
       "    <tr>\n",
       "      <th>888</th>\n",
       "      <td>Johnston</td>\n",
       "      <td>Miss Catherine Helen \"Carrie\"</td>\n",
       "      <td>F</td>\n",
       "      <td>NaN</td>\n",
       "      <td>3</td>\n",
       "      <td>23.4500</td>\n",
       "      <td>Southampton</td>\n",
       "      <td>no</td>\n",
       "    </tr>\n",
       "    <tr>\n",
       "      <th>889</th>\n",
       "      <td>Behr</td>\n",
       "      <td>Mr. Karl Howell</td>\n",
       "      <td>M</td>\n",
       "      <td>26.0</td>\n",
       "      <td>1</td>\n",
       "      <td>30.0000</td>\n",
       "      <td>Cherbourg</td>\n",
       "      <td>yes</td>\n",
       "    </tr>\n",
       "    <tr>\n",
       "      <th>890</th>\n",
       "      <td>Dooley</td>\n",
       "      <td>Mr. Patrick</td>\n",
       "      <td>M</td>\n",
       "      <td>32.0</td>\n",
       "      <td>3</td>\n",
       "      <td>7.7500</td>\n",
       "      <td>Queenstown</td>\n",
       "      <td>no</td>\n",
       "    </tr>\n",
       "  </tbody>\n",
       "</table>\n",
       "<p>891 rows × 8 columns</p>\n",
       "</div>"
      ],
      "text/plain": [
       "          last                                       first gender   age  \\\n",
       "0       Braund                             Mr. Owen Harris      M  22.0   \n",
       "1      Cumings  Mrs. John Bradley (Florence Briggs Thayer)      F  38.0   \n",
       "2    Heikkinen                                  Miss Laina      F  26.0   \n",
       "3     Futrelle          Mrs. Jacques Heath (Lily May Peel)      F  35.0   \n",
       "4        Allen                           Mr. William Henry      M  35.0   \n",
       "..         ...                                         ...    ...   ...   \n",
       "886   Montvila                                 Rev. Juozas      M  27.0   \n",
       "887     Graham                         Miss Margaret Edith      F  19.0   \n",
       "888   Johnston               Miss Catherine Helen \"Carrie\"      F   NaN   \n",
       "889       Behr                             Mr. Karl Howell      M  26.0   \n",
       "890     Dooley                                 Mr. Patrick      M  32.0   \n",
       "\n",
       "     class     fare     embarked survived  \n",
       "0        3   7.2500  Southampton       no  \n",
       "1        1  71.2833    Cherbourg      yes  \n",
       "2        3   7.9250  Southampton      yes  \n",
       "3        1  53.1000  Southampton      yes  \n",
       "4        3   8.0500  Southampton       no  \n",
       "..     ...      ...          ...      ...  \n",
       "886      2  13.0000  Southampton       no  \n",
       "887      1  30.0000  Southampton      yes  \n",
       "888      3  23.4500  Southampton       no  \n",
       "889      1  30.0000    Cherbourg      yes  \n",
       "890      3   7.7500   Queenstown       no  \n",
       "\n",
       "[891 rows x 8 columns]"
      ]
     },
     "execution_count": 2,
     "metadata": {},
     "output_type": "execute_result"
    }
   ],
   "source": [
    "df = pd.read_csv(\"Titanic.csv\")\n",
    "df"
   ]
  },
  {
   "cell_type": "code",
   "execution_count": 3,
   "id": "e3083924",
   "metadata": {},
   "outputs": [
    {
     "data": {
      "text/plain": [
       "(891, 8)"
      ]
     },
     "execution_count": 3,
     "metadata": {},
     "output_type": "execute_result"
    }
   ],
   "source": [
    "df.shape"
   ]
  },
  {
   "cell_type": "code",
   "execution_count": 4,
   "id": "07c07124",
   "metadata": {},
   "outputs": [
    {
     "data": {
      "text/plain": [
       "0"
      ]
     },
     "execution_count": 4,
     "metadata": {},
     "output_type": "execute_result"
    }
   ],
   "source": [
    "#duplicate rows\n",
    "#dup = df[df.duplicated()]\n",
    "df.duplicated().sum()"
   ]
  },
  {
   "cell_type": "code",
   "execution_count": 5,
   "id": "f6a6b760",
   "metadata": {},
   "outputs": [
    {
     "data": {
      "text/plain": [
       "180"
      ]
     },
     "execution_count": 5,
     "metadata": {},
     "output_type": "execute_result"
    }
   ],
   "source": [
    "#duplicate rows of columns\n",
    "#dupc = df[df.duplicated(['age','fare'])]\n",
    "df.duplicated(['age','fare']).sum()"
   ]
  },
  {
   "cell_type": "code",
   "execution_count": 22,
   "id": "c0ec3df1",
   "metadata": {},
   "outputs": [
    {
     "data": {
      "text/plain": [
       "last          0\n",
       "first         0\n",
       "gender        0\n",
       "age         177\n",
       "class         0\n",
       "fare          0\n",
       "embarked      0\n",
       "survived      0\n",
       "dtype: int64"
      ]
     },
     "execution_count": 22,
     "metadata": {},
     "output_type": "execute_result"
    }
   ],
   "source": [
    "#null\n",
    "df.isnull().any()\n",
    "#df.isnull().any().any()\n",
    "df.isnull().sum()\n",
    "#fill = df.fillna(1)\n",
    "#fill2 = df[\"age\"].fillna(16)"
   ]
  },
  {
   "cell_type": "markdown",
   "id": "b4b7d9c3",
   "metadata": {},
   "source": [
    "# Solution 1"
   ]
  },
  {
   "cell_type": "code",
   "execution_count": 63,
   "id": "c38ddc7e",
   "metadata": {},
   "outputs": [],
   "source": [
    "#For a male passenger, chances of survival are higher than that for female passenger\n",
    "male = df.loc[(df['gender']=='M') & (df['survived'] == 'yes'),['survived']].count()\n",
    "female = df.loc[(df['gender']=='F') & (df['survived'] == 'yes'),['survived']].count()"
   ]
  },
  {
   "cell_type": "code",
   "execution_count": 64,
   "id": "d429ed52",
   "metadata": {},
   "outputs": [
    {
     "name": "stdout",
     "output_type": "stream",
     "text": [
      "no\n"
     ]
    }
   ],
   "source": [
    "for i,j in zip(male,female):\n",
    "    if(i>j):\n",
    "        print(\"Yes\")\n",
    "    else:\n",
    "        print(\"no\")"
   ]
  },
  {
   "cell_type": "code",
   "execution_count": 65,
   "id": "ecf24a02",
   "metadata": {},
   "outputs": [
    {
     "name": "stdout",
     "output_type": "stream",
     "text": [
      "yes\n"
     ]
    }
   ],
   "source": [
    "#More number of females on the ship survived than those died\n",
    "ded = df.loc[(df['gender']=='F') & (df['survived'] == 'no'),['survived']].count()\n",
    "for i,j in zip(female,ded):\n",
    "    if(i>j):\n",
    "        print(\"yes\")\n",
    "    else:\n",
    "        print(\"no\")"
   ]
  },
  {
   "cell_type": "code",
   "execution_count": 61,
   "id": "bfdec04c",
   "metadata": {},
   "outputs": [],
   "source": [
    "#The chances of survival are higher, if passenger would have purchased expensive ticket, \n",
    "#i.e. travelling with better class (3 being the least and 1 being the best)\n",
    "three = df.loc[(df['class']==3)& (df['survived'] == 'yes'),['survived']].count()\n",
    "two = df.loc[(df['class']==2) & (df['survived'] == 'yes'),['survived']].count()\n",
    "one = df.loc[(df['class']==1)& (df['survived'] == 'yes'),['survived']].count()"
   ]
  },
  {
   "cell_type": "code",
   "execution_count": 84,
   "id": "7dafb902",
   "metadata": {},
   "outputs": [
    {
     "name": "stdout",
     "output_type": "stream",
     "text": [
      "no\n"
     ]
    }
   ],
   "source": [
    "for i,j,k in zip(one,two,three):\n",
    "    if(i>j & j>k):\n",
    "        print(\"yes\")\n",
    "    else:\n",
    "        print(\"no\")"
   ]
  },
  {
   "cell_type": "code",
   "execution_count": 57,
   "id": "6d43c3d0",
   "metadata": {},
   "outputs": [
    {
     "data": {
      "text/plain": [
       "survived    136\n",
       "dtype: int64"
      ]
     },
     "execution_count": 57,
     "metadata": {},
     "output_type": "execute_result"
    }
   ],
   "source": []
  },
  {
   "cell_type": "code",
   "execution_count": 59,
   "id": "cb6e3b3d",
   "metadata": {},
   "outputs": [],
   "source": [
    "#The ratio of number of males to females is\n",
    "\n",
    "f = df.loc[(df['gender']=='F'),['gender']].count()\n",
    "m = df.loc[(df['gender']=='M'),['gender']].count()"
   ]
  },
  {
   "cell_type": "code",
   "execution_count": 60,
   "id": "9c290d5b",
   "metadata": {},
   "outputs": [
    {
     "name": "stdout",
     "output_type": "stream",
     "text": [
      "1.8375796178343948\n"
     ]
    }
   ],
   "source": [
    "for i,j in zip(f,m):\n",
    "    print(j/i)"
   ]
  },
  {
   "cell_type": "code",
   "execution_count": 66,
   "id": "c9b56918",
   "metadata": {},
   "outputs": [],
   "source": [
    "#The ratio of females to males with class 3 is\n",
    "mthree = df.loc[(df['class']==3)& (df['gender'] == 'M'),['gender']].count()\n",
    "fthree = df.loc[(df['class']==3)& (df['gender'] == 'F'),['gender']].count()"
   ]
  },
  {
   "cell_type": "code",
   "execution_count": 67,
   "id": "c0611884",
   "metadata": {},
   "outputs": [
    {
     "name": "stdout",
     "output_type": "stream",
     "text": [
      "0.414985590778098\n"
     ]
    }
   ],
   "source": [
    "for i,j in zip(fthree,mthree):\n",
    "    print(i/j)"
   ]
  },
  {
   "cell_type": "code",
   "execution_count": 68,
   "id": "ebe32597",
   "metadata": {},
   "outputs": [
    {
     "name": "stdout",
     "output_type": "stream",
     "text": [
      "4.293577981651376\n"
     ]
    }
   ],
   "source": [
    "#The ratio of males died to those survived  is\n",
    "males = df.loc[(df['gender']=='M') & (df['survived'] == 'yes'),['survived']].count()\n",
    "maled = df.loc[(df['gender']=='M') & (df['survived'] == 'no'),['survived']].count()\n",
    "for i,j in zip(maled,males):\n",
    "    print(i/j)"
   ]
  },
  {
   "cell_type": "code",
   "execution_count": 69,
   "id": "25c2e918",
   "metadata": {},
   "outputs": [
    {
     "name": "stdout",
     "output_type": "stream",
     "text": [
      "3.1260504201680672\n"
     ]
    }
   ],
   "source": [
    "#The ratio of dead and survivers passengers of class 3 is\n",
    "s3 = df.loc[(df['class']==3) & (df['survived'] == 'yes'),['survived']].count()\n",
    "d3 = df.loc[(df['class']==3) & (df['survived'] == 'no'),['survived']].count()\n",
    "for i,j in zip(d3,s3):\n",
    "    print(i/j)\n"
   ]
  },
  {
   "cell_type": "code",
   "execution_count": 71,
   "id": "38e2b506",
   "metadata": {},
   "outputs": [
    {
     "name": "stdout",
     "output_type": "stream",
     "text": [
      "1.24\n",
      "1.5957446808510638\n",
      "0.5128805620608899\n",
      "0.5128805620608899\n"
     ]
    }
   ],
   "source": [
    "#For which embarkment point, the ratio of people survived to those died was lowest\n",
    "chers = df.loc[(df['embarked']=='Cherbourg') & (df['survived'] == 'yes'),['survived']].count()\n",
    "cherd = df.loc[(df['embarked']=='Cherbourg') & (df['survived'] == 'no'),['survived']].count()\n",
    "queens = df.loc[(df['embarked']=='Queenstown') & (df['survived'] == 'yes'),['survived']].count()\n",
    "queend = df.loc[(df['embarked']=='Queenstown') & (df['survived'] == 'no'),['survived']].count()\n",
    "souths = df.loc[(df['embarked']=='Southampton') & (df['survived'] == 'yes'),['survived']].count()\n",
    "southd = df.loc[(df['embarked']=='Southampton') & (df['survived'] == 'no'),['survived']].count()\n",
    "\n",
    "for i,j,k,l,m,n in zip(chers,cherd,queens,queend,souths,southd):\n",
    "    a = i/j\n",
    "    b = j/l\n",
    "    c = m/n\n",
    "    print(a)\n",
    "    print(b)\n",
    "    print(c)\n",
    "    print(min(a,b,c))"
   ]
  },
  {
   "cell_type": "markdown",
   "id": "39c85b1a",
   "metadata": {},
   "source": [
    "# Solution 2"
   ]
  },
  {
   "cell_type": "code",
   "execution_count": 72,
   "id": "0497e627",
   "metadata": {},
   "outputs": [
    {
     "data": {
      "text/plain": [
       "<AxesSubplot:>"
      ]
     },
     "execution_count": 72,
     "metadata": {},
     "output_type": "execute_result"
    },
    {
     "data": {
      "image/png": "[encoded data removed]",
      "text/plain": [
       "<Figure size 432x288 with 1 Axes>"
      ]
     },
     "metadata": {
      "needs_background": "light"
     },
     "output_type": "display_data"
    }
   ],
   "source": [
    "#we want to plot analysis by gender indicating the ratio of men:woman in a bar chart\n",
    "df['gender'].value_counts().plot.bar()"
   ]
  },
  {
   "cell_type": "code",
   "execution_count": 74,
   "id": "9cabaaf9",
   "metadata": {},
   "outputs": [
    {
     "data": {
      "text/html": [
       "<div>\n",
       "<style scoped>\n",
       "    .dataframe tbody tr th:only-of-type {\n",
       "        vertical-align: middle;\n",
       "    }\n",
       "\n",
       "    .dataframe tbody tr th {\n",
       "        vertical-align: top;\n",
       "    }\n",
       "\n",
       "    .dataframe thead th {\n",
       "        text-align: right;\n",
       "    }\n",
       "</style>\n",
       "<table border=\"1\" class=\"dataframe\">\n",
       "  <thead>\n",
       "    <tr style=\"text-align: right;\">\n",
       "      <th></th>\n",
       "      <th>last</th>\n",
       "      <th>first</th>\n",
       "      <th>gender</th>\n",
       "      <th>age</th>\n",
       "      <th>class</th>\n",
       "      <th>fare</th>\n",
       "      <th>embarked</th>\n",
       "      <th>survived</th>\n",
       "    </tr>\n",
       "  </thead>\n",
       "  <tbody>\n",
       "    <tr>\n",
       "      <th>17</th>\n",
       "      <td>Williams</td>\n",
       "      <td>Mr. Charles Eugene</td>\n",
       "      <td>M</td>\n",
       "      <td>NaN</td>\n",
       "      <td>2</td>\n",
       "      <td>13.0000</td>\n",
       "      <td>Southampton</td>\n",
       "      <td>yes</td>\n",
       "    </tr>\n",
       "    <tr>\n",
       "      <th>21</th>\n",
       "      <td>Beesley</td>\n",
       "      <td>Mr. Lawrence</td>\n",
       "      <td>M</td>\n",
       "      <td>34.0</td>\n",
       "      <td>2</td>\n",
       "      <td>13.0000</td>\n",
       "      <td>Southampton</td>\n",
       "      <td>yes</td>\n",
       "    </tr>\n",
       "    <tr>\n",
       "      <th>23</th>\n",
       "      <td>Sloper</td>\n",
       "      <td>Mr. William Thompson</td>\n",
       "      <td>M</td>\n",
       "      <td>28.0</td>\n",
       "      <td>1</td>\n",
       "      <td>35.5000</td>\n",
       "      <td>Southampton</td>\n",
       "      <td>yes</td>\n",
       "    </tr>\n",
       "    <tr>\n",
       "      <th>36</th>\n",
       "      <td>Mamee</td>\n",
       "      <td>Mr. Hanna</td>\n",
       "      <td>M</td>\n",
       "      <td>NaN</td>\n",
       "      <td>3</td>\n",
       "      <td>7.2292</td>\n",
       "      <td>Cherbourg</td>\n",
       "      <td>yes</td>\n",
       "    </tr>\n",
       "    <tr>\n",
       "      <th>55</th>\n",
       "      <td>Woolner</td>\n",
       "      <td>Mr. Hugh</td>\n",
       "      <td>M</td>\n",
       "      <td>NaN</td>\n",
       "      <td>1</td>\n",
       "      <td>35.5000</td>\n",
       "      <td>Southampton</td>\n",
       "      <td>yes</td>\n",
       "    </tr>\n",
       "    <tr>\n",
       "      <th>...</th>\n",
       "      <td>...</td>\n",
       "      <td>...</td>\n",
       "      <td>...</td>\n",
       "      <td>...</td>\n",
       "      <td>...</td>\n",
       "      <td>...</td>\n",
       "      <td>...</td>\n",
       "      <td>...</td>\n",
       "    </tr>\n",
       "    <tr>\n",
       "      <th>838</th>\n",
       "      <td>Chip</td>\n",
       "      <td>Mr. Chang</td>\n",
       "      <td>M</td>\n",
       "      <td>32.0</td>\n",
       "      <td>3</td>\n",
       "      <td>56.4958</td>\n",
       "      <td>Southampton</td>\n",
       "      <td>yes</td>\n",
       "    </tr>\n",
       "    <tr>\n",
       "      <th>839</th>\n",
       "      <td>Marechal</td>\n",
       "      <td>Mr. Pierre</td>\n",
       "      <td>M</td>\n",
       "      <td>NaN</td>\n",
       "      <td>1</td>\n",
       "      <td>29.7000</td>\n",
       "      <td>Cherbourg</td>\n",
       "      <td>yes</td>\n",
       "    </tr>\n",
       "    <tr>\n",
       "      <th>857</th>\n",
       "      <td>Daly</td>\n",
       "      <td>Mr. Peter Denis</td>\n",
       "      <td>M</td>\n",
       "      <td>51.0</td>\n",
       "      <td>1</td>\n",
       "      <td>26.5500</td>\n",
       "      <td>Southampton</td>\n",
       "      <td>yes</td>\n",
       "    </tr>\n",
       "    <tr>\n",
       "      <th>869</th>\n",
       "      <td>Johnson</td>\n",
       "      <td>Master Harold Theodor</td>\n",
       "      <td>M</td>\n",
       "      <td>4.0</td>\n",
       "      <td>3</td>\n",
       "      <td>11.1333</td>\n",
       "      <td>Southampton</td>\n",
       "      <td>yes</td>\n",
       "    </tr>\n",
       "    <tr>\n",
       "      <th>889</th>\n",
       "      <td>Behr</td>\n",
       "      <td>Mr. Karl Howell</td>\n",
       "      <td>M</td>\n",
       "      <td>26.0</td>\n",
       "      <td>1</td>\n",
       "      <td>30.0000</td>\n",
       "      <td>Cherbourg</td>\n",
       "      <td>yes</td>\n",
       "    </tr>\n",
       "  </tbody>\n",
       "</table>\n",
       "<p>109 rows × 8 columns</p>\n",
       "</div>"
      ],
      "text/plain": [
       "         last                  first gender   age  class     fare  \\\n",
       "17   Williams     Mr. Charles Eugene      M   NaN      2  13.0000   \n",
       "21    Beesley           Mr. Lawrence      M  34.0      2  13.0000   \n",
       "23     Sloper   Mr. William Thompson      M  28.0      1  35.5000   \n",
       "36      Mamee              Mr. Hanna      M   NaN      3   7.2292   \n",
       "55    Woolner               Mr. Hugh      M   NaN      1  35.5000   \n",
       "..        ...                    ...    ...   ...    ...      ...   \n",
       "838      Chip              Mr. Chang      M  32.0      3  56.4958   \n",
       "839  Marechal             Mr. Pierre      M   NaN      1  29.7000   \n",
       "857      Daly        Mr. Peter Denis      M  51.0      1  26.5500   \n",
       "869   Johnson  Master Harold Theodor      M   4.0      3  11.1333   \n",
       "889      Behr        Mr. Karl Howell      M  26.0      1  30.0000   \n",
       "\n",
       "        embarked survived  \n",
       "17   Southampton      yes  \n",
       "21   Southampton      yes  \n",
       "23   Southampton      yes  \n",
       "36     Cherbourg      yes  \n",
       "55   Southampton      yes  \n",
       "..           ...      ...  \n",
       "838  Southampton      yes  \n",
       "839    Cherbourg      yes  \n",
       "857  Southampton      yes  \n",
       "869  Southampton      yes  \n",
       "889    Cherbourg      yes  \n",
       "\n",
       "[109 rows x 8 columns]"
      ]
     },
     "execution_count": 74,
     "metadata": {},
     "output_type": "execute_result"
    }
   ],
   "source": [
    "#rite the (SQL like) query for dataframe to retrieval records of males survived \n",
    "df.query('gender==\"M\" & survived==\"yes\"')"
   ]
  },
  {
   "cell_type": "code",
   "execution_count": 81,
   "id": "d223dca5",
   "metadata": {},
   "outputs": [
    {
     "data": {
      "text/plain": [
       "M    577\n",
       "F    314\n",
       "Name: gender, dtype: int64"
      ]
     },
     "execution_count": 81,
     "metadata": {},
     "output_type": "execute_result"
    }
   ],
   "source": [
    "#For a male passenger, chances of survival are higher than that for female passenger\n",
    "df['gender'].value_counts()"
   ]
  },
  {
   "cell_type": "code",
   "execution_count": 82,
   "id": "792e3170",
   "metadata": {},
   "outputs": [
    {
     "data": {
      "text/html": [
       "<div>\n",
       "<style scoped>\n",
       "    .dataframe tbody tr th:only-of-type {\n",
       "        vertical-align: middle;\n",
       "    }\n",
       "\n",
       "    .dataframe tbody tr th {\n",
       "        vertical-align: top;\n",
       "    }\n",
       "\n",
       "    .dataframe thead th {\n",
       "        text-align: right;\n",
       "    }\n",
       "</style>\n",
       "<table border=\"1\" class=\"dataframe\">\n",
       "  <thead>\n",
       "    <tr style=\"text-align: right;\">\n",
       "      <th></th>\n",
       "      <th></th>\n",
       "      <th>last</th>\n",
       "      <th>first</th>\n",
       "      <th>age</th>\n",
       "      <th>class</th>\n",
       "      <th>fare</th>\n",
       "      <th>embarked</th>\n",
       "    </tr>\n",
       "    <tr>\n",
       "      <th>gender</th>\n",
       "      <th>survived</th>\n",
       "      <th></th>\n",
       "      <th></th>\n",
       "      <th></th>\n",
       "      <th></th>\n",
       "      <th></th>\n",
       "      <th></th>\n",
       "    </tr>\n",
       "  </thead>\n",
       "  <tbody>\n",
       "    <tr>\n",
       "      <th rowspan=\"2\" valign=\"top\">F</th>\n",
       "      <th>no</th>\n",
       "      <td>81</td>\n",
       "      <td>81</td>\n",
       "      <td>64</td>\n",
       "      <td>81</td>\n",
       "      <td>81</td>\n",
       "      <td>81</td>\n",
       "    </tr>\n",
       "    <tr>\n",
       "      <th>yes</th>\n",
       "      <td>233</td>\n",
       "      <td>233</td>\n",
       "      <td>197</td>\n",
       "      <td>233</td>\n",
       "      <td>233</td>\n",
       "      <td>233</td>\n",
       "    </tr>\n",
       "    <tr>\n",
       "      <th rowspan=\"2\" valign=\"top\">M</th>\n",
       "      <th>no</th>\n",
       "      <td>468</td>\n",
       "      <td>468</td>\n",
       "      <td>360</td>\n",
       "      <td>468</td>\n",
       "      <td>468</td>\n",
       "      <td>468</td>\n",
       "    </tr>\n",
       "    <tr>\n",
       "      <th>yes</th>\n",
       "      <td>109</td>\n",
       "      <td>109</td>\n",
       "      <td>93</td>\n",
       "      <td>109</td>\n",
       "      <td>109</td>\n",
       "      <td>109</td>\n",
       "    </tr>\n",
       "  </tbody>\n",
       "</table>\n",
       "</div>"
      ],
      "text/plain": [
       "                 last  first  age  class  fare  embarked\n",
       "gender survived                                         \n",
       "F      no          81     81   64     81    81        81\n",
       "       yes        233    233  197    233   233       233\n",
       "M      no         468    468  360    468   468       468\n",
       "       yes        109    109   93    109   109       109"
      ]
     },
     "execution_count": 82,
     "metadata": {},
     "output_type": "execute_result"
    }
   ],
   "source": [
    "#More number of females on the ship survived than those died\n",
    "df.groupby(['gender','survived']).count()\n",
    "#df.groupby(['gender','survived']).count()['first']"
   ]
  },
  {
   "cell_type": "code",
   "execution_count": 83,
   "id": "f32612d1",
   "metadata": {},
   "outputs": [
    {
     "data": {
      "text/html": [
       "<div>\n",
       "<style scoped>\n",
       "    .dataframe tbody tr th:only-of-type {\n",
       "        vertical-align: middle;\n",
       "    }\n",
       "\n",
       "    .dataframe tbody tr th {\n",
       "        vertical-align: top;\n",
       "    }\n",
       "\n",
       "    .dataframe thead th {\n",
       "        text-align: right;\n",
       "    }\n",
       "</style>\n",
       "<table border=\"1\" class=\"dataframe\">\n",
       "  <thead>\n",
       "    <tr style=\"text-align: right;\">\n",
       "      <th></th>\n",
       "      <th></th>\n",
       "      <th>last</th>\n",
       "      <th>first</th>\n",
       "      <th>gender</th>\n",
       "      <th>age</th>\n",
       "      <th>fare</th>\n",
       "      <th>embarked</th>\n",
       "    </tr>\n",
       "    <tr>\n",
       "      <th>class</th>\n",
       "      <th>survived</th>\n",
       "      <th></th>\n",
       "      <th></th>\n",
       "      <th></th>\n",
       "      <th></th>\n",
       "      <th></th>\n",
       "      <th></th>\n",
       "    </tr>\n",
       "  </thead>\n",
       "  <tbody>\n",
       "    <tr>\n",
       "      <th rowspan=\"2\" valign=\"top\">1</th>\n",
       "      <th>no</th>\n",
       "      <td>80</td>\n",
       "      <td>80</td>\n",
       "      <td>80</td>\n",
       "      <td>64</td>\n",
       "      <td>80</td>\n",
       "      <td>80</td>\n",
       "    </tr>\n",
       "    <tr>\n",
       "      <th>yes</th>\n",
       "      <td>136</td>\n",
       "      <td>136</td>\n",
       "      <td>136</td>\n",
       "      <td>122</td>\n",
       "      <td>136</td>\n",
       "      <td>136</td>\n",
       "    </tr>\n",
       "    <tr>\n",
       "      <th rowspan=\"2\" valign=\"top\">2</th>\n",
       "      <th>no</th>\n",
       "      <td>97</td>\n",
       "      <td>97</td>\n",
       "      <td>97</td>\n",
       "      <td>90</td>\n",
       "      <td>97</td>\n",
       "      <td>97</td>\n",
       "    </tr>\n",
       "    <tr>\n",
       "      <th>yes</th>\n",
       "      <td>87</td>\n",
       "      <td>87</td>\n",
       "      <td>87</td>\n",
       "      <td>83</td>\n",
       "      <td>87</td>\n",
       "      <td>87</td>\n",
       "    </tr>\n",
       "    <tr>\n",
       "      <th rowspan=\"2\" valign=\"top\">3</th>\n",
       "      <th>no</th>\n",
       "      <td>372</td>\n",
       "      <td>372</td>\n",
       "      <td>372</td>\n",
       "      <td>270</td>\n",
       "      <td>372</td>\n",
       "      <td>372</td>\n",
       "    </tr>\n",
       "    <tr>\n",
       "      <th>yes</th>\n",
       "      <td>119</td>\n",
       "      <td>119</td>\n",
       "      <td>119</td>\n",
       "      <td>85</td>\n",
       "      <td>119</td>\n",
       "      <td>119</td>\n",
       "    </tr>\n",
       "  </tbody>\n",
       "</table>\n",
       "</div>"
      ],
      "text/plain": [
       "                last  first  gender  age  fare  embarked\n",
       "class survived                                          \n",
       "1     no          80     80      80   64    80        80\n",
       "      yes        136    136     136  122   136       136\n",
       "2     no          97     97      97   90    97        97\n",
       "      yes         87     87      87   83    87        87\n",
       "3     no         372    372     372  270   372       372\n",
       "      yes        119    119     119   85   119       119"
      ]
     },
     "execution_count": 83,
     "metadata": {},
     "output_type": "execute_result"
    }
   ],
   "source": [
    "#The chances of survival are higher, if passenger would have purchased expensive ticket, \n",
    "#i.e. travelling with better class (3 being the least and 1 being the best)\n",
    "df.groupby(['class','survived']).count()"
   ]
  },
  {
   "cell_type": "code",
   "execution_count": 88,
   "id": "d03352b3",
   "metadata": {},
   "outputs": [
    {
     "data": {
      "text/html": [
       "<div>\n",
       "<style scoped>\n",
       "    .dataframe tbody tr th:only-of-type {\n",
       "        vertical-align: middle;\n",
       "    }\n",
       "\n",
       "    .dataframe tbody tr th {\n",
       "        vertical-align: top;\n",
       "    }\n",
       "\n",
       "    .dataframe thead th {\n",
       "        text-align: right;\n",
       "    }\n",
       "</style>\n",
       "<table border=\"1\" class=\"dataframe\">\n",
       "  <thead>\n",
       "    <tr style=\"text-align: right;\">\n",
       "      <th>survived</th>\n",
       "      <th>no</th>\n",
       "      <th>yes</th>\n",
       "    </tr>\n",
       "    <tr>\n",
       "      <th>gender</th>\n",
       "      <th></th>\n",
       "      <th></th>\n",
       "    </tr>\n",
       "  </thead>\n",
       "  <tbody>\n",
       "    <tr>\n",
       "      <th>F</th>\n",
       "      <td>81</td>\n",
       "      <td>233</td>\n",
       "    </tr>\n",
       "    <tr>\n",
       "      <th>M</th>\n",
       "      <td>468</td>\n",
       "      <td>109</td>\n",
       "    </tr>\n",
       "  </tbody>\n",
       "</table>\n",
       "</div>"
      ],
      "text/plain": [
       "survived   no  yes\n",
       "gender            \n",
       "F          81  233\n",
       "M         468  109"
      ]
     },
     "execution_count": 88,
     "metadata": {},
     "output_type": "execute_result"
    }
   ],
   "source": [
    "pivot = pd.pivot_table(data = df,values='last',index='gender',columns='survived',aggfunc='count')\n",
    "pivot"
   ]
  },
  {
   "cell_type": "code",
   "execution_count": 89,
   "id": "b68e130f",
   "metadata": {},
   "outputs": [
    {
     "data": {
      "text/html": [
       "<div>\n",
       "<style scoped>\n",
       "    .dataframe tbody tr th:only-of-type {\n",
       "        vertical-align: middle;\n",
       "    }\n",
       "\n",
       "    .dataframe tbody tr th {\n",
       "        vertical-align: top;\n",
       "    }\n",
       "\n",
       "    .dataframe thead th {\n",
       "        text-align: right;\n",
       "    }\n",
       "</style>\n",
       "<table border=\"1\" class=\"dataframe\">\n",
       "  <thead>\n",
       "    <tr style=\"text-align: right;\">\n",
       "      <th>survived</th>\n",
       "      <th>no</th>\n",
       "      <th>yes</th>\n",
       "    </tr>\n",
       "    <tr>\n",
       "      <th>class</th>\n",
       "      <th></th>\n",
       "      <th></th>\n",
       "    </tr>\n",
       "  </thead>\n",
       "  <tbody>\n",
       "    <tr>\n",
       "      <th>1</th>\n",
       "      <td>80</td>\n",
       "      <td>136</td>\n",
       "    </tr>\n",
       "    <tr>\n",
       "      <th>2</th>\n",
       "      <td>97</td>\n",
       "      <td>87</td>\n",
       "    </tr>\n",
       "    <tr>\n",
       "      <th>3</th>\n",
       "      <td>372</td>\n",
       "      <td>119</td>\n",
       "    </tr>\n",
       "  </tbody>\n",
       "</table>\n",
       "</div>"
      ],
      "text/plain": [
       "survived   no  yes\n",
       "class             \n",
       "1          80  136\n",
       "2          97   87\n",
       "3         372  119"
      ]
     },
     "execution_count": 89,
     "metadata": {},
     "output_type": "execute_result"
    }
   ],
   "source": [
    "pivot2 = pd.pivot_table(data = df,values='last',index='class',columns='survived',aggfunc='count')\n",
    "pivot2"
   ]
  },
  {
   "cell_type": "code",
   "execution_count": 90,
   "id": "91215f93",
   "metadata": {},
   "outputs": [
    {
     "data": {
      "text/html": [
       "<div>\n",
       "<style scoped>\n",
       "    .dataframe tbody tr th:only-of-type {\n",
       "        vertical-align: middle;\n",
       "    }\n",
       "\n",
       "    .dataframe tbody tr th {\n",
       "        vertical-align: top;\n",
       "    }\n",
       "\n",
       "    .dataframe thead th {\n",
       "        text-align: right;\n",
       "    }\n",
       "</style>\n",
       "<table border=\"1\" class=\"dataframe\">\n",
       "  <thead>\n",
       "    <tr style=\"text-align: right;\">\n",
       "      <th>gender</th>\n",
       "      <th>F</th>\n",
       "      <th>M</th>\n",
       "    </tr>\n",
       "    <tr>\n",
       "      <th>class</th>\n",
       "      <th></th>\n",
       "      <th></th>\n",
       "    </tr>\n",
       "  </thead>\n",
       "  <tbody>\n",
       "    <tr>\n",
       "      <th>1</th>\n",
       "      <td>94</td>\n",
       "      <td>122</td>\n",
       "    </tr>\n",
       "    <tr>\n",
       "      <th>2</th>\n",
       "      <td>76</td>\n",
       "      <td>108</td>\n",
       "    </tr>\n",
       "    <tr>\n",
       "      <th>3</th>\n",
       "      <td>144</td>\n",
       "      <td>347</td>\n",
       "    </tr>\n",
       "  </tbody>\n",
       "</table>\n",
       "</div>"
      ],
      "text/plain": [
       "gender    F    M\n",
       "class           \n",
       "1        94  122\n",
       "2        76  108\n",
       "3       144  347"
      ]
     },
     "execution_count": 90,
     "metadata": {},
     "output_type": "execute_result"
    }
   ],
   "source": [
    "pivot3 = pd.pivot_table(data = df,values='last',index='class',columns='gender',aggfunc='count')\n",
    "pivot3"
   ]
  },
  {
   "cell_type": "code",
   "execution_count": 91,
   "id": "ee9600f7",
   "metadata": {},
   "outputs": [
    {
     "data": {
      "text/html": [
       "<div>\n",
       "<style scoped>\n",
       "    .dataframe tbody tr th:only-of-type {\n",
       "        vertical-align: middle;\n",
       "    }\n",
       "\n",
       "    .dataframe tbody tr th {\n",
       "        vertical-align: top;\n",
       "    }\n",
       "\n",
       "    .dataframe thead th {\n",
       "        text-align: right;\n",
       "    }\n",
       "</style>\n",
       "<table border=\"1\" class=\"dataframe\">\n",
       "  <thead>\n",
       "    <tr style=\"text-align: right;\">\n",
       "      <th>survived</th>\n",
       "      <th>no</th>\n",
       "      <th>yes</th>\n",
       "    </tr>\n",
       "    <tr>\n",
       "      <th>embarked</th>\n",
       "      <th></th>\n",
       "      <th></th>\n",
       "    </tr>\n",
       "  </thead>\n",
       "  <tbody>\n",
       "    <tr>\n",
       "      <th>Cherbourg</th>\n",
       "      <td>75</td>\n",
       "      <td>93</td>\n",
       "    </tr>\n",
       "    <tr>\n",
       "      <th>Queenstown</th>\n",
       "      <td>47</td>\n",
       "      <td>30</td>\n",
       "    </tr>\n",
       "    <tr>\n",
       "      <th>Southampton</th>\n",
       "      <td>427</td>\n",
       "      <td>219</td>\n",
       "    </tr>\n",
       "  </tbody>\n",
       "</table>\n",
       "</div>"
      ],
      "text/plain": [
       "survived      no  yes\n",
       "embarked             \n",
       "Cherbourg     75   93\n",
       "Queenstown    47   30\n",
       "Southampton  427  219"
      ]
     },
     "execution_count": 91,
     "metadata": {},
     "output_type": "execute_result"
    }
   ],
   "source": [
    "#For which embarkment point, the ratio of people survived to those died was lowest\n",
    "pivot4 = pd.pivot_table(data = df,values='last',index='embarked',columns='survived',aggfunc='count')\n",
    "pivot4"
   ]
  },
  {
   "cell_type": "code",
   "execution_count": 94,
   "id": "2a42f973",
   "metadata": {},
   "outputs": [
    {
     "name": "stdout",
     "output_type": "stream",
     "text": [
      "1.24\n",
      "0.64\n",
      "0.51\n"
     ]
    }
   ],
   "source": [
    "print(round(93/75,2))\n",
    "print(round(30/47,2))\n",
    "print(round(219/427,2))"
   ]
  },
  {
   "cell_type": "code",
   "execution_count": 103,
   "id": "67324af0",
   "metadata": {},
   "outputs": [],
   "source": [
    "#renaming column\n",
    "df.rename(columns = {'class':'passenger_class'}, inplace = True)"
   ]
  },
  {
   "cell_type": "code",
   "execution_count": 109,
   "id": "9e7a975f",
   "metadata": {},
   "outputs": [
    {
     "data": {
      "text/plain": [
       "891"
      ]
     },
     "execution_count": 109,
     "metadata": {},
     "output_type": "execute_result"
    }
   ],
   "source": [
    "#conditional probability\n",
    "#P(A|B) = P(A∩B)/P(B)\n",
    "#P(survived|male,class1) = P(survived ∩ male ∩ class1)/P(male ∩ class1)\n",
    "#df.query('gender == \"M\" and class == 1 and survived == \"yes\"').shape()\n",
    "df.query('survived==\"yes\" and passenger_class==1 and gender==\"M\"').shape[0]\n",
    "len_df = len(df)\n",
    "len_df"
   ]
  },
  {
   "cell_type": "code",
   "execution_count": 125,
   "id": "919ab406",
   "metadata": {},
   "outputs": [],
   "source": [
    "p_male_1 = df.query('passenger_class==1 and gender==\"M\"').shape[0]/len_df\n",
    "p_male_2 = df.query('passenger_class==2 and gender==\"M\"').shape[0]/len_df\n",
    "p_male_3 = df.query('passenger_class==3 and gender==\"M\"').shape[0]/len_df\n",
    "p_female_1 = df.query('passenger_class==1 and gender==\"F\"').shape[0]/len_df\n",
    "p_female_2 = df.query('passenger_class==2 and gender==\"F\"').shape[0]/len_df\n",
    "p_female_3 = df.query('passenger_class==3 and gender==\"F\"').shape[0]/len_df\n",
    "\n",
    "p_survived_male_1 = df.query('survived==\"yes\" and passenger_class==1 and gender==\"M\"').shape[0]/len_df\n",
    "p_survived_male_2 = df.query('survived==\"yes\" and passenger_class==2 and gender==\"M\"').shape[0]/len_df\n",
    "p_survived_male_3 = df.query('survived==\"yes\" and passenger_class==3 and gender==\"M\"').shape[0]/len_df\n",
    "p_survived_female_1 = df.query('survived==\"yes\" and passenger_class==1 and gender==\"F\"').shape[0]/len_df\n",
    "p_survived_female_2 = df.query('survived==\"yes\" and passenger_class==2 and gender==\"F\"').shape[0]/len_df\n",
    "p_survived_female_3 = df.query('survived==\"yes\" and passenger_class==3 and gender==\"F\"').shape[0]/len_df\n",
    "\n",
    "\n",
    "      \n",
    "\n"
   ]
  },
  {
   "cell_type": "code",
   "execution_count": 117,
   "id": "f41fbd04",
   "metadata": {},
   "outputs": [
    {
     "name": "stdout",
     "output_type": "stream",
     "text": [
      "0.97\n",
      "0.92\n",
      "0.5\n"
     ]
    }
   ],
   "source": [
    "p_survied_yes_female_1 = p_survived_female_1/p_female_1\n",
    "print(round(p_survied_yes_female_1,2))\n",
    "p_survied_yes_female_2 = p_survived_female_2/p_female_2\n",
    "print(round(p_survied_yes_female_2,2))\n",
    "p_survied_yes_female_3 = p_survived_female_3/p_female_3\n",
    "print(round(p_survied_yes_female_3,2))"
   ]
  },
  {
   "cell_type": "code",
   "execution_count": 120,
   "id": "de7ccdbc",
   "metadata": {},
   "outputs": [
    {
     "name": "stdout",
     "output_type": "stream",
     "text": [
      "0.37\n"
     ]
    }
   ],
   "source": [
    "p_survied_yes_male_1 = p_survived_male_1/p_male_1\n",
    "print(round(p_survied_yes_male_1,2))\n"
   ]
  },
  {
   "cell_type": "code",
   "execution_count": 122,
   "id": "b5a1b904",
   "metadata": {},
   "outputs": [
    {
     "name": "stdout",
     "output_type": "stream",
     "text": [
      "0.16\n"
     ]
    }
   ],
   "source": [
    "p_survied_yes_male_2 = p_survived_male_2/p_male_2\n",
    "print(round(p_survied_yes_male_2,2))\n"
   ]
  },
  {
   "cell_type": "code",
   "execution_count": 127,
   "id": "e2e5168b",
   "metadata": {},
   "outputs": [],
   "source": [
    "p_survied_yes_male_3 = p_survived_male_3/p_male_3\n"
   ]
  },
  {
   "cell_type": "code",
   "execution_count": 130,
   "id": "7a4bfe1e",
   "metadata": {},
   "outputs": [
    {
     "name": "stdout",
     "output_type": "stream",
     "text": [
      "0.14\n"
     ]
    }
   ],
   "source": [
    "print(round(p_survied_yes_male_3,2))"
   ]
  },
  {
   "cell_type": "code",
   "execution_count": 5,
   "id": "dae5271e",
   "metadata": {},
   "outputs": [
    {
     "data": {
      "text/plain": [
       "1.8375796178343948"
      ]
     },
     "execution_count": 5,
     "metadata": {},
     "output_type": "execute_result"
    }
   ],
   "source": [
    "df.query('gender==\"M\"').shape[0]/df.query('gender==\"F\" ').shape[0]"
   ]
  },
  {
   "cell_type": "code",
   "execution_count": null,
   "id": "ac965b7d",
   "metadata": {},
   "outputs": [],
   "source": []
  },
  {
   "cell_type": "code",
   "execution_count": null,
   "id": "7ad46fb4",
   "metadata": {},
   "outputs": [],
   "source": []
  }
 ],
 "metadata": {
  "kernelspec": {
   "display_name": "Python 3",
   "language": "python",
   "name": "python3"
  },
  "language_info": {
   "codemirror_mode": {
    "name": "ipython",
    "version": 3
   },
   "file_extension": ".py",
   "mimetype": "text/x-python",
   "name": "python",
   "nbconvert_exporter": "python",
   "pygments_lexer": "ipython3",
   "version": "3.8.8"
  }
 },
 "nbformat": 4,
 "nbformat_minor": 5
}

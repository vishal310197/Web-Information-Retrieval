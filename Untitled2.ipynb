{
 "cells": [
  {
   "cell_type": "code",
   "execution_count": 1,
   "id": "5c097dbe",
   "metadata": {},
   "outputs": [],
   "source": [
    "import numpy as np"
   ]
  },
  {
   "cell_type": "code",
   "execution_count": 2,
   "id": "d5223179",
   "metadata": {},
   "outputs": [],
   "source": [
    "x = np.array([0.1666,0.1666,0.1666,0.1666,0.1666,0.1666])\n",
    "a = np.array([[0.0333,0.0333,0.4333,0.0333,0.0333,0.4333],\n",
    "              [0.0333,0.0333,0.0333,0.0333,0.0333,0.8333],\n",
    "              [0.0333,0.8333,0.0333,0.0333,0.0333,0.0333],\n",
    "              [0.4333,0.4333,0.0333,0.0333,0.0333,0.0333],\n",
    "              [0.0333,0.0333,0.3,0.3,0.0333,0.3],\n",
    "              [0.1666,0.1666,0.1666,0.1666,0.1666,0.1666]\n",
    "            \n",
    "            ])\n"
   ]
  },
  {
   "cell_type": "code",
   "execution_count": 3,
   "id": "6dff23ab",
   "metadata": {},
   "outputs": [],
   "source": [
    "A = np.matrix(a)  ##converting transpose matrix vakues into float values matrix\n",
    "X0 = np.matrix([0.1666,0.1666,0.1666,0.1666,0.1666,0.1666]).T\n",
    "iteration = 6 "
   ]
  },
  {
   "cell_type": "code",
   "execution_count": 4,
   "id": "cdd7b60a",
   "metadata": {},
   "outputs": [],
   "source": [
    "a1 = X0.T*A\n",
    "a2 = X0.T*A**2\n",
    "a3 = X0.T*A**3\n",
    "a4 = X0.T*A**4\n",
    "a5 = X0.T*A**5\n",
    "\n",
    "a10 = X0.T*A**10\n",
    "a11 = X0.T*A**11\n",
    "a12 = X0.T*A**12"
   ]
  },
  {
   "cell_type": "code",
   "execution_count": 5,
   "id": "5aa65d6b",
   "metadata": {},
   "outputs": [
    {
     "name": "stdout",
     "output_type": "stream",
     "text": [
      "[[0.12213446 0.25541446 0.16656668 0.09992668 0.05549446 0.29984668]]\n"
     ]
    }
   ],
   "source": [
    "print(a1)"
   ]
  },
  {
   "cell_type": "code",
   "execution_count": 6,
   "id": "809f5cf4",
   "metadata": {},
   "outputs": [],
   "source": [
    "a6 = X0.T*A**6"
   ]
  },
  {
   "cell_type": "code",
   "execution_count": 7,
   "id": "99255a40",
   "metadata": {},
   "outputs": [
    {
     "name": "stdout",
     "output_type": "stream",
     "text": [
      "[[0.11633429 0.23204646 0.14428074 0.09774884 0.07735865 0.33032446]]\n"
     ]
    }
   ],
   "source": [
    "print(a6)"
   ]
  },
  {
   "cell_type": "code",
   "execution_count": null,
   "id": "3ccd1600",
   "metadata": {},
   "outputs": [],
   "source": []
  }
 ],
 "metadata": {
  "kernelspec": {
   "display_name": "Python 3",
   "language": "python",
   "name": "python3"
  },
  "language_info": {
   "codemirror_mode": {
    "name": "ipython",
    "version": 3
   },
   "file_extension": ".py",
   "mimetype": "text/x-python",
   "name": "python",
   "nbconvert_exporter": "python",
   "pygments_lexer": "ipython3",
   "version": "3.8.8"
  }
 },
 "nbformat": 4,
 "nbformat_minor": 5
}

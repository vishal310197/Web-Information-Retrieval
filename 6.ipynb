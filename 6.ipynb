{
 "cells": [
  {
   "cell_type": "code",
   "execution_count": 1,
   "id": "32898ffe",
   "metadata": {},
   "outputs": [],
   "source": [
    "import pandas as pd\n",
    "import numpy as np"
   ]
  },
  {
   "cell_type": "markdown",
   "id": "271503e6",
   "metadata": {},
   "source": [
    "# Shingles"
   ]
  },
  {
   "cell_type": "code",
   "execution_count": 7,
   "id": "36af7c52",
   "metadata": {},
   "outputs": [],
   "source": [
    "d0 = (\"i am visiting my friend in shimla today\").split()\n",
    "d1 = (\"i am visiting my aunt in patiala tomorrow\").split()"
   ]
  },
  {
   "cell_type": "code",
   "execution_count": 8,
   "id": "cd5b885b",
   "metadata": {},
   "outputs": [],
   "source": [
    "def shingles(d0,d1,n):\n",
    "    a = []\n",
    "    b = []\n",
    "    for i in range(0,len(d0)):\n",
    "        if(i<=len(d0)-n):\n",
    "            a.append(d0[i:i+n])\n",
    "    a = set(tuple(x) for x in a)\n",
    "    print(a)\n",
    "    \n",
    "    for i in range(0,len(d1)):\n",
    "        if(i<=len(d1)-n):\n",
    "            b.append(d1[i:i+n])\n",
    "    b = set(tuple(x) for x in b)\n",
    "    print(b)\n",
    "    \n",
    "    res = len(a.intersection(b))/len(a.union(b))\n",
    "    \n",
    "    \n",
    "    print(res)\n",
    "    "
   ]
  },
  {
   "cell_type": "code",
   "execution_count": 9,
   "id": "75d87ae1",
   "metadata": {},
   "outputs": [
    {
     "name": "stdout",
     "output_type": "stream",
     "text": [
      "{('my', 'friend'), ('i', 'am'), ('visiting', 'my'), ('in', 'shimla'), ('shimla', 'today'), ('friend', 'in'), ('am', 'visiting')}\n",
      "{('i', 'am'), ('visiting', 'my'), ('patiala', 'tomorrow'), ('aunt', 'in'), ('my', 'aunt'), ('in', 'patiala'), ('am', 'visiting')}\n",
      "0.2727272727272727\n"
     ]
    }
   ],
   "source": [
    "shingles(d0,d1,2)"
   ]
  },
  {
   "cell_type": "code",
   "execution_count": 10,
   "id": "f13621fc",
   "metadata": {},
   "outputs": [
    {
     "name": "stdout",
     "output_type": "stream",
     "text": [
      "{('my', 'friend', 'in'), ('i', 'am', 'visiting'), ('am', 'visiting', 'my'), ('visiting', 'my', 'friend'), ('in', 'shimla', 'today'), ('friend', 'in', 'shimla')}\n",
      "{('i', 'am', 'visiting'), ('in', 'patiala', 'tomorrow'), ('visiting', 'my', 'aunt'), ('am', 'visiting', 'my'), ('aunt', 'in', 'patiala'), ('my', 'aunt', 'in')}\n",
      "0.2\n"
     ]
    }
   ],
   "source": [
    "shingles(d0,d1,3)"
   ]
  },
  {
   "cell_type": "code",
   "execution_count": 41,
   "id": "8b6fa6f4",
   "metadata": {},
   "outputs": [],
   "source": [
    "d2 = (\"your mother drives you in the car\").split()\n",
    "d3 = (\"in mother russia car drives you\").split()"
   ]
  },
  {
   "cell_type": "code",
   "execution_count": 42,
   "id": "18aeeaeb",
   "metadata": {},
   "outputs": [
    {
     "name": "stdout",
     "output_type": "stream",
     "text": [
      "{('the', 'car'), ('you', 'in'), ('drives', 'you'), ('in', 'the'), ('mother', 'drives'), ('your', 'mother')}\n",
      "{('mother', 'russia'), ('drives', 'you'), ('in', 'mother'), ('russia', 'car'), ('car', 'drives')}\n",
      "0.1\n"
     ]
    }
   ],
   "source": [
    "shingles(d2,d3,2)"
   ]
  },
  {
   "cell_type": "code",
   "execution_count": 43,
   "id": "12a2fa8c",
   "metadata": {},
   "outputs": [
    {
     "name": "stdout",
     "output_type": "stream",
     "text": [
      "{('you', 'in', 'the'), ('mother', 'drives', 'you'), ('your', 'mother', 'drives'), ('in', 'the', 'car'), ('drives', 'you', 'in')}\n",
      "{('in', 'mother', 'russia'), ('mother', 'russia', 'car'), ('russia', 'car', 'drives'), ('car', 'drives', 'you')}\n",
      "0.0\n"
     ]
    }
   ],
   "source": [
    "shingles(d2,d3,3)"
   ]
  },
  {
   "cell_type": "code",
   "execution_count": null,
   "id": "f8379b28",
   "metadata": {},
   "outputs": [],
   "source": []
  }
 ],
 "metadata": {
  "kernelspec": {
   "display_name": "Python 3",
   "language": "python",
   "name": "python3"
  },
  "language_info": {
   "codemirror_mode": {
    "name": "ipython",
    "version": 3
   },
   "file_extension": ".py",
   "mimetype": "text/x-python",
   "name": "python",
   "nbconvert_exporter": "python",
   "pygments_lexer": "ipython3",
   "version": "3.8.8"
  }
 },
 "nbformat": 4,
 "nbformat_minor": 5
}

{
 "cells": [
  {
   "cell_type": "code",
   "execution_count": 1,
   "id": "775913c4",
   "metadata": {},
   "outputs": [],
   "source": [
    "import numpy as np\n",
    "matrix = [[0,1,1,0,0,1],\n",
    "         [0,0,0,0,0,1],\n",
    "         [1,0,0,1,1,0],\n",
    "         [1,0,0,0,0,1],\n",
    "         [0,1,0,0,0,0],\n",
    "         [0,0,0,0,0,0]]"
   ]
  },
  {
   "cell_type": "markdown",
   "id": "fdb8ad1d",
   "metadata": {},
   "source": []
  },
  {
   "cell_type": "code",
   "execution_count": 2,
   "id": "e08d105a",
   "metadata": {},
   "outputs": [],
   "source": [
    "def stochastic(matrix,alpha):\n",
    "    new_m = np.zeros((len(matrix[0]),len(matrix[0])))\n",
    "    for i in range(0,len(matrix[0])):\n",
    "        for j in range(0,len(matrix[0])):\n",
    "            if(sum(matrix[i])==0):\n",
    "                new_m[i][j] = 1/len(matrix[0])\n",
    "            else:\n",
    "                if(matrix[i][j] == 0):\n",
    "                    new_m[i][j] = alpha/len(matrix[0])\n",
    "                else:\n",
    "                    new_m[i][j] = (alpha/len(matrix[0])) + ((1-alpha) * (1/sum(matrix[i])))\n",
    "    return new_m"
   ]
  },
  {
   "cell_type": "code",
   "execution_count": 3,
   "id": "d57d6e4b",
   "metadata": {},
   "outputs": [
    {
     "data": {
      "text/plain": [
       "array([[0.03333333, 0.3       , 0.3       , 0.03333333, 0.03333333,\n",
       "        0.3       ],\n",
       "       [0.03333333, 0.03333333, 0.03333333, 0.03333333, 0.03333333,\n",
       "        0.83333333],\n",
       "       [0.3       , 0.03333333, 0.03333333, 0.3       , 0.3       ,\n",
       "        0.03333333],\n",
       "       [0.43333333, 0.03333333, 0.03333333, 0.03333333, 0.03333333,\n",
       "        0.43333333],\n",
       "       [0.03333333, 0.83333333, 0.03333333, 0.03333333, 0.03333333,\n",
       "        0.03333333],\n",
       "       [0.16666667, 0.16666667, 0.16666667, 0.16666667, 0.16666667,\n",
       "        0.16666667]])"
      ]
     },
     "execution_count": 3,
     "metadata": {},
     "output_type": "execute_result"
    }
   ],
   "source": [
    "m = stochastic(matrix,0.2)\n",
    "m"
   ]
  },
  {
   "cell_type": "code",
   "execution_count": 4,
   "id": "543c249a",
   "metadata": {},
   "outputs": [],
   "source": [
    "def rank_calc(stm,X):\n",
    "    c = len(stm.sum(axis=1))\n",
    "    prob = 1/c\n",
    "    vec_x0 = np.full((1,c),prob)\n",
    "    print(\"intial vetor\",vec_x0)\n",
    "    while(X!=0):\n",
    "        vec_x0 = np.dot(vec_x0,stm)\n",
    "        X = X-1\n",
    "        print(vec_x0)"
   ]
  },
  {
   "cell_type": "code",
   "execution_count": 8,
   "id": "ea210d59",
   "metadata": {},
   "outputs": [
    {
     "name": "stdout",
     "output_type": "stream",
     "text": [
      "intial vetor [[0.2 0.2 0.2 0.2 0.2]]\n",
      "[[0.232      0.20533333 0.12533333 0.20533333 0.232     ]]\n",
      "[[0.26272    0.21400889 0.13187556 0.21400889 0.17738667]]\n",
      "[[0.27855787 0.21105446 0.1254509  0.21105446 0.17388231]]\n",
      "[[0.29066746 0.20852414 0.12410236 0.20852414 0.16818189]]\n",
      "[[0.29944307 0.2059252  0.12251554 0.2059252  0.16619099]]\n"
     ]
    }
   ],
   "source": [
    "rank_calc(m,5)"
   ]
  },
  {
   "cell_type": "code",
   "execution_count": null,
   "id": "bcf240ae",
   "metadata": {},
   "outputs": [],
   "source": []
  }
 ],
 "metadata": {
  "kernelspec": {
   "display_name": "Python 3",
   "language": "python",
   "name": "python3"
  },
  "language_info": {
   "codemirror_mode": {
    "name": "ipython",
    "version": 3
   },
   "file_extension": ".py",
   "mimetype": "text/x-python",
   "name": "python",
   "nbconvert_exporter": "python",
   "pygments_lexer": "ipython3",
   "version": "3.8.8"
  }
 },
 "nbformat": 4,
 "nbformat_minor": 5
}

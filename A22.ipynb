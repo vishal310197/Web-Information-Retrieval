{
 "cells": [
  {
   "cell_type": "code",
   "execution_count": 6,
   "id": "768dede1",
   "metadata": {},
   "outputs": [],
   "source": [
    "import pandas as pd\n",
    "import numpy as np"
   ]
  },
  {
   "cell_type": "code",
   "execution_count": 7,
   "id": "73f040bd",
   "metadata": {},
   "outputs": [
    {
     "data": {
      "text/html": [
       "<div>\n",
       "<style scoped>\n",
       "    .dataframe tbody tr th:only-of-type {\n",
       "        vertical-align: middle;\n",
       "    }\n",
       "\n",
       "    .dataframe tbody tr th {\n",
       "        vertical-align: top;\n",
       "    }\n",
       "\n",
       "    .dataframe thead th {\n",
       "        text-align: right;\n",
       "    }\n",
       "</style>\n",
       "<table border=\"1\" class=\"dataframe\">\n",
       "  <thead>\n",
       "    <tr style=\"text-align: right;\">\n",
       "      <th></th>\n",
       "      <th>retrieved</th>\n",
       "      <th>gold_standard</th>\n",
       "    </tr>\n",
       "  </thead>\n",
       "  <tbody>\n",
       "    <tr>\n",
       "      <th>0</th>\n",
       "      <td>setosa</td>\n",
       "      <td>setosa</td>\n",
       "    </tr>\n",
       "    <tr>\n",
       "      <th>1</th>\n",
       "      <td>setosa</td>\n",
       "      <td>setosa</td>\n",
       "    </tr>\n",
       "    <tr>\n",
       "      <th>2</th>\n",
       "      <td>setosa</td>\n",
       "      <td>setosa</td>\n",
       "    </tr>\n",
       "    <tr>\n",
       "      <th>3</th>\n",
       "      <td>versicolor</td>\n",
       "      <td>versicolor</td>\n",
       "    </tr>\n",
       "    <tr>\n",
       "      <th>4</th>\n",
       "      <td>setosa</td>\n",
       "      <td>setosa</td>\n",
       "    </tr>\n",
       "    <tr>\n",
       "      <th>5</th>\n",
       "      <td>versicolor</td>\n",
       "      <td>versicolor</td>\n",
       "    </tr>\n",
       "    <tr>\n",
       "      <th>6</th>\n",
       "      <td>virginica</td>\n",
       "      <td>versicolor</td>\n",
       "    </tr>\n",
       "    <tr>\n",
       "      <th>7</th>\n",
       "      <td>setosa</td>\n",
       "      <td>setosa</td>\n",
       "    </tr>\n",
       "    <tr>\n",
       "      <th>8</th>\n",
       "      <td>setosa</td>\n",
       "      <td>setosa</td>\n",
       "    </tr>\n",
       "    <tr>\n",
       "      <th>9</th>\n",
       "      <td>setosa</td>\n",
       "      <td>setosa</td>\n",
       "    </tr>\n",
       "    <tr>\n",
       "      <th>10</th>\n",
       "      <td>virginica</td>\n",
       "      <td>virginica</td>\n",
       "    </tr>\n",
       "    <tr>\n",
       "      <th>11</th>\n",
       "      <td>versicolor</td>\n",
       "      <td>versicolor</td>\n",
       "    </tr>\n",
       "    <tr>\n",
       "      <th>12</th>\n",
       "      <td>versicolor</td>\n",
       "      <td>versicolor</td>\n",
       "    </tr>\n",
       "    <tr>\n",
       "      <th>13</th>\n",
       "      <td>setosa</td>\n",
       "      <td>setosa</td>\n",
       "    </tr>\n",
       "    <tr>\n",
       "      <th>14</th>\n",
       "      <td>virginica</td>\n",
       "      <td>virginica</td>\n",
       "    </tr>\n",
       "    <tr>\n",
       "      <th>15</th>\n",
       "      <td>versicolor</td>\n",
       "      <td>versicolor</td>\n",
       "    </tr>\n",
       "    <tr>\n",
       "      <th>16</th>\n",
       "      <td>setosa</td>\n",
       "      <td>setosa</td>\n",
       "    </tr>\n",
       "    <tr>\n",
       "      <th>17</th>\n",
       "      <td>versicolor</td>\n",
       "      <td>versicolor</td>\n",
       "    </tr>\n",
       "    <tr>\n",
       "      <th>18</th>\n",
       "      <td>setosa</td>\n",
       "      <td>setosa</td>\n",
       "    </tr>\n",
       "    <tr>\n",
       "      <th>19</th>\n",
       "      <td>setosa</td>\n",
       "      <td>setosa</td>\n",
       "    </tr>\n",
       "    <tr>\n",
       "      <th>20</th>\n",
       "      <td>setosa</td>\n",
       "      <td>setosa</td>\n",
       "    </tr>\n",
       "    <tr>\n",
       "      <th>21</th>\n",
       "      <td>virginica</td>\n",
       "      <td>virginica</td>\n",
       "    </tr>\n",
       "    <tr>\n",
       "      <th>22</th>\n",
       "      <td>virginica</td>\n",
       "      <td>virginica</td>\n",
       "    </tr>\n",
       "    <tr>\n",
       "      <th>23</th>\n",
       "      <td>versicolor</td>\n",
       "      <td>versicolor</td>\n",
       "    </tr>\n",
       "    <tr>\n",
       "      <th>24</th>\n",
       "      <td>versicolor</td>\n",
       "      <td>versicolor</td>\n",
       "    </tr>\n",
       "    <tr>\n",
       "      <th>25</th>\n",
       "      <td>setosa</td>\n",
       "      <td>setosa</td>\n",
       "    </tr>\n",
       "    <tr>\n",
       "      <th>26</th>\n",
       "      <td>virginica</td>\n",
       "      <td>virginica</td>\n",
       "    </tr>\n",
       "    <tr>\n",
       "      <th>27</th>\n",
       "      <td>versicolor</td>\n",
       "      <td>versicolor</td>\n",
       "    </tr>\n",
       "    <tr>\n",
       "      <th>28</th>\n",
       "      <td>versicolor</td>\n",
       "      <td>versicolor</td>\n",
       "    </tr>\n",
       "    <tr>\n",
       "      <th>29</th>\n",
       "      <td>virginica</td>\n",
       "      <td>virginica</td>\n",
       "    </tr>\n",
       "    <tr>\n",
       "      <th>30</th>\n",
       "      <td>setosa</td>\n",
       "      <td>setosa</td>\n",
       "    </tr>\n",
       "    <tr>\n",
       "      <th>31</th>\n",
       "      <td>versicolor</td>\n",
       "      <td>versicolor</td>\n",
       "    </tr>\n",
       "    <tr>\n",
       "      <th>32</th>\n",
       "      <td>setosa</td>\n",
       "      <td>setosa</td>\n",
       "    </tr>\n",
       "    <tr>\n",
       "      <th>33</th>\n",
       "      <td>virginica</td>\n",
       "      <td>versicolor</td>\n",
       "    </tr>\n",
       "    <tr>\n",
       "      <th>34</th>\n",
       "      <td>virginica</td>\n",
       "      <td>virginica</td>\n",
       "    </tr>\n",
       "    <tr>\n",
       "      <th>35</th>\n",
       "      <td>versicolor</td>\n",
       "      <td>versicolor</td>\n",
       "    </tr>\n",
       "    <tr>\n",
       "      <th>36</th>\n",
       "      <td>setosa</td>\n",
       "      <td>setosa</td>\n",
       "    </tr>\n",
       "    <tr>\n",
       "      <th>37</th>\n",
       "      <td>versicolor</td>\n",
       "      <td>versicolor</td>\n",
       "    </tr>\n",
       "    <tr>\n",
       "      <th>38</th>\n",
       "      <td>versicolor</td>\n",
       "      <td>versicolor</td>\n",
       "    </tr>\n",
       "    <tr>\n",
       "      <th>39</th>\n",
       "      <td>setosa</td>\n",
       "      <td>setosa</td>\n",
       "    </tr>\n",
       "    <tr>\n",
       "      <th>40</th>\n",
       "      <td>setosa</td>\n",
       "      <td>setosa</td>\n",
       "    </tr>\n",
       "    <tr>\n",
       "      <th>41</th>\n",
       "      <td>setosa</td>\n",
       "      <td>setosa</td>\n",
       "    </tr>\n",
       "    <tr>\n",
       "      <th>42</th>\n",
       "      <td>virginica</td>\n",
       "      <td>versicolor</td>\n",
       "    </tr>\n",
       "    <tr>\n",
       "      <th>43</th>\n",
       "      <td>versicolor</td>\n",
       "      <td>versicolor</td>\n",
       "    </tr>\n",
       "    <tr>\n",
       "      <th>44</th>\n",
       "      <td>virginica</td>\n",
       "      <td>versicolor</td>\n",
       "    </tr>\n",
       "  </tbody>\n",
       "</table>\n",
       "</div>"
      ],
      "text/plain": [
       "     retrieved gold_standard\n",
       "0       setosa        setosa\n",
       "1       setosa        setosa\n",
       "2       setosa        setosa\n",
       "3   versicolor    versicolor\n",
       "4       setosa        setosa\n",
       "5   versicolor    versicolor\n",
       "6    virginica    versicolor\n",
       "7       setosa        setosa\n",
       "8       setosa        setosa\n",
       "9       setosa        setosa\n",
       "10   virginica     virginica\n",
       "11  versicolor    versicolor\n",
       "12  versicolor    versicolor\n",
       "13      setosa        setosa\n",
       "14   virginica     virginica\n",
       "15  versicolor    versicolor\n",
       "16      setosa        setosa\n",
       "17  versicolor    versicolor\n",
       "18      setosa        setosa\n",
       "19      setosa        setosa\n",
       "20      setosa        setosa\n",
       "21   virginica     virginica\n",
       "22   virginica     virginica\n",
       "23  versicolor    versicolor\n",
       "24  versicolor    versicolor\n",
       "25      setosa        setosa\n",
       "26   virginica     virginica\n",
       "27  versicolor    versicolor\n",
       "28  versicolor    versicolor\n",
       "29   virginica     virginica\n",
       "30      setosa        setosa\n",
       "31  versicolor    versicolor\n",
       "32      setosa        setosa\n",
       "33   virginica    versicolor\n",
       "34   virginica     virginica\n",
       "35  versicolor    versicolor\n",
       "36      setosa        setosa\n",
       "37  versicolor    versicolor\n",
       "38  versicolor    versicolor\n",
       "39      setosa        setosa\n",
       "40      setosa        setosa\n",
       "41      setosa        setosa\n",
       "42   virginica    versicolor\n",
       "43  versicolor    versicolor\n",
       "44   virginica    versicolor"
      ]
     },
     "execution_count": 7,
     "metadata": {},
     "output_type": "execute_result"
    }
   ],
   "source": [
    "df = pd.read_csv(\"flower.csv\")\n",
    "df"
   ]
  },
  {
   "cell_type": "code",
   "execution_count": 10,
   "id": "8ff4e755",
   "metadata": {},
   "outputs": [
    {
     "data": {
      "text/html": [
       "<div>\n",
       "<style scoped>\n",
       "    .dataframe tbody tr th:only-of-type {\n",
       "        vertical-align: middle;\n",
       "    }\n",
       "\n",
       "    .dataframe tbody tr th {\n",
       "        vertical-align: top;\n",
       "    }\n",
       "\n",
       "    .dataframe thead th {\n",
       "        text-align: right;\n",
       "    }\n",
       "</style>\n",
       "<table border=\"1\" class=\"dataframe\">\n",
       "  <thead>\n",
       "    <tr style=\"text-align: right;\">\n",
       "      <th></th>\n",
       "      <th>retrieved</th>\n",
       "      <th>gold</th>\n",
       "    </tr>\n",
       "  </thead>\n",
       "  <tbody>\n",
       "    <tr>\n",
       "      <th>0</th>\n",
       "      <td>setosa</td>\n",
       "      <td>setosa</td>\n",
       "    </tr>\n",
       "    <tr>\n",
       "      <th>1</th>\n",
       "      <td>setosa</td>\n",
       "      <td>setosa</td>\n",
       "    </tr>\n",
       "    <tr>\n",
       "      <th>2</th>\n",
       "      <td>setosa</td>\n",
       "      <td>setosa</td>\n",
       "    </tr>\n",
       "    <tr>\n",
       "      <th>3</th>\n",
       "      <td>versicolor</td>\n",
       "      <td>versicolor</td>\n",
       "    </tr>\n",
       "    <tr>\n",
       "      <th>4</th>\n",
       "      <td>setosa</td>\n",
       "      <td>setosa</td>\n",
       "    </tr>\n",
       "    <tr>\n",
       "      <th>5</th>\n",
       "      <td>versicolor</td>\n",
       "      <td>versicolor</td>\n",
       "    </tr>\n",
       "    <tr>\n",
       "      <th>6</th>\n",
       "      <td>virginica</td>\n",
       "      <td>versicolor</td>\n",
       "    </tr>\n",
       "    <tr>\n",
       "      <th>7</th>\n",
       "      <td>setosa</td>\n",
       "      <td>setosa</td>\n",
       "    </tr>\n",
       "    <tr>\n",
       "      <th>8</th>\n",
       "      <td>setosa</td>\n",
       "      <td>setosa</td>\n",
       "    </tr>\n",
       "    <tr>\n",
       "      <th>9</th>\n",
       "      <td>setosa</td>\n",
       "      <td>setosa</td>\n",
       "    </tr>\n",
       "    <tr>\n",
       "      <th>10</th>\n",
       "      <td>virginica</td>\n",
       "      <td>virginica</td>\n",
       "    </tr>\n",
       "    <tr>\n",
       "      <th>11</th>\n",
       "      <td>versicolor</td>\n",
       "      <td>versicolor</td>\n",
       "    </tr>\n",
       "    <tr>\n",
       "      <th>12</th>\n",
       "      <td>versicolor</td>\n",
       "      <td>versicolor</td>\n",
       "    </tr>\n",
       "    <tr>\n",
       "      <th>13</th>\n",
       "      <td>setosa</td>\n",
       "      <td>setosa</td>\n",
       "    </tr>\n",
       "    <tr>\n",
       "      <th>14</th>\n",
       "      <td>virginica</td>\n",
       "      <td>virginica</td>\n",
       "    </tr>\n",
       "    <tr>\n",
       "      <th>15</th>\n",
       "      <td>versicolor</td>\n",
       "      <td>versicolor</td>\n",
       "    </tr>\n",
       "    <tr>\n",
       "      <th>16</th>\n",
       "      <td>setosa</td>\n",
       "      <td>setosa</td>\n",
       "    </tr>\n",
       "    <tr>\n",
       "      <th>17</th>\n",
       "      <td>versicolor</td>\n",
       "      <td>versicolor</td>\n",
       "    </tr>\n",
       "    <tr>\n",
       "      <th>18</th>\n",
       "      <td>setosa</td>\n",
       "      <td>setosa</td>\n",
       "    </tr>\n",
       "    <tr>\n",
       "      <th>19</th>\n",
       "      <td>setosa</td>\n",
       "      <td>setosa</td>\n",
       "    </tr>\n",
       "    <tr>\n",
       "      <th>20</th>\n",
       "      <td>setosa</td>\n",
       "      <td>setosa</td>\n",
       "    </tr>\n",
       "    <tr>\n",
       "      <th>21</th>\n",
       "      <td>virginica</td>\n",
       "      <td>virginica</td>\n",
       "    </tr>\n",
       "    <tr>\n",
       "      <th>22</th>\n",
       "      <td>virginica</td>\n",
       "      <td>virginica</td>\n",
       "    </tr>\n",
       "    <tr>\n",
       "      <th>23</th>\n",
       "      <td>versicolor</td>\n",
       "      <td>versicolor</td>\n",
       "    </tr>\n",
       "    <tr>\n",
       "      <th>24</th>\n",
       "      <td>versicolor</td>\n",
       "      <td>versicolor</td>\n",
       "    </tr>\n",
       "    <tr>\n",
       "      <th>25</th>\n",
       "      <td>setosa</td>\n",
       "      <td>setosa</td>\n",
       "    </tr>\n",
       "    <tr>\n",
       "      <th>26</th>\n",
       "      <td>virginica</td>\n",
       "      <td>virginica</td>\n",
       "    </tr>\n",
       "    <tr>\n",
       "      <th>27</th>\n",
       "      <td>versicolor</td>\n",
       "      <td>versicolor</td>\n",
       "    </tr>\n",
       "    <tr>\n",
       "      <th>28</th>\n",
       "      <td>versicolor</td>\n",
       "      <td>versicolor</td>\n",
       "    </tr>\n",
       "    <tr>\n",
       "      <th>29</th>\n",
       "      <td>virginica</td>\n",
       "      <td>virginica</td>\n",
       "    </tr>\n",
       "    <tr>\n",
       "      <th>30</th>\n",
       "      <td>setosa</td>\n",
       "      <td>setosa</td>\n",
       "    </tr>\n",
       "    <tr>\n",
       "      <th>31</th>\n",
       "      <td>versicolor</td>\n",
       "      <td>versicolor</td>\n",
       "    </tr>\n",
       "    <tr>\n",
       "      <th>32</th>\n",
       "      <td>setosa</td>\n",
       "      <td>setosa</td>\n",
       "    </tr>\n",
       "    <tr>\n",
       "      <th>33</th>\n",
       "      <td>virginica</td>\n",
       "      <td>versicolor</td>\n",
       "    </tr>\n",
       "    <tr>\n",
       "      <th>34</th>\n",
       "      <td>virginica</td>\n",
       "      <td>virginica</td>\n",
       "    </tr>\n",
       "    <tr>\n",
       "      <th>35</th>\n",
       "      <td>versicolor</td>\n",
       "      <td>versicolor</td>\n",
       "    </tr>\n",
       "    <tr>\n",
       "      <th>36</th>\n",
       "      <td>setosa</td>\n",
       "      <td>setosa</td>\n",
       "    </tr>\n",
       "    <tr>\n",
       "      <th>37</th>\n",
       "      <td>versicolor</td>\n",
       "      <td>versicolor</td>\n",
       "    </tr>\n",
       "    <tr>\n",
       "      <th>38</th>\n",
       "      <td>versicolor</td>\n",
       "      <td>versicolor</td>\n",
       "    </tr>\n",
       "    <tr>\n",
       "      <th>39</th>\n",
       "      <td>setosa</td>\n",
       "      <td>setosa</td>\n",
       "    </tr>\n",
       "    <tr>\n",
       "      <th>40</th>\n",
       "      <td>setosa</td>\n",
       "      <td>setosa</td>\n",
       "    </tr>\n",
       "    <tr>\n",
       "      <th>41</th>\n",
       "      <td>setosa</td>\n",
       "      <td>setosa</td>\n",
       "    </tr>\n",
       "    <tr>\n",
       "      <th>42</th>\n",
       "      <td>virginica</td>\n",
       "      <td>versicolor</td>\n",
       "    </tr>\n",
       "    <tr>\n",
       "      <th>43</th>\n",
       "      <td>versicolor</td>\n",
       "      <td>versicolor</td>\n",
       "    </tr>\n",
       "    <tr>\n",
       "      <th>44</th>\n",
       "      <td>virginica</td>\n",
       "      <td>versicolor</td>\n",
       "    </tr>\n",
       "  </tbody>\n",
       "</table>\n",
       "</div>"
      ],
      "text/plain": [
       "     retrieved        gold\n",
       "0       setosa      setosa\n",
       "1       setosa      setosa\n",
       "2       setosa      setosa\n",
       "3   versicolor  versicolor\n",
       "4       setosa      setosa\n",
       "5   versicolor  versicolor\n",
       "6    virginica  versicolor\n",
       "7       setosa      setosa\n",
       "8       setosa      setosa\n",
       "9       setosa      setosa\n",
       "10   virginica   virginica\n",
       "11  versicolor  versicolor\n",
       "12  versicolor  versicolor\n",
       "13      setosa      setosa\n",
       "14   virginica   virginica\n",
       "15  versicolor  versicolor\n",
       "16      setosa      setosa\n",
       "17  versicolor  versicolor\n",
       "18      setosa      setosa\n",
       "19      setosa      setosa\n",
       "20      setosa      setosa\n",
       "21   virginica   virginica\n",
       "22   virginica   virginica\n",
       "23  versicolor  versicolor\n",
       "24  versicolor  versicolor\n",
       "25      setosa      setosa\n",
       "26   virginica   virginica\n",
       "27  versicolor  versicolor\n",
       "28  versicolor  versicolor\n",
       "29   virginica   virginica\n",
       "30      setosa      setosa\n",
       "31  versicolor  versicolor\n",
       "32      setosa      setosa\n",
       "33   virginica  versicolor\n",
       "34   virginica   virginica\n",
       "35  versicolor  versicolor\n",
       "36      setosa      setosa\n",
       "37  versicolor  versicolor\n",
       "38  versicolor  versicolor\n",
       "39      setosa      setosa\n",
       "40      setosa      setosa\n",
       "41      setosa      setosa\n",
       "42   virginica  versicolor\n",
       "43  versicolor  versicolor\n",
       "44   virginica  versicolor"
      ]
     },
     "execution_count": 10,
     "metadata": {},
     "output_type": "execute_result"
    }
   ],
   "source": [
    "\n",
    "\n",
    "df = df.rename(columns = {'gold_standard':'gold'})\n",
    "\n",
    "df"
   ]
  },
  {
   "cell_type": "code",
   "execution_count": 11,
   "id": "81a468e7",
   "metadata": {},
   "outputs": [
    {
     "data": {
      "text/plain": [
       "1.0"
      ]
     },
     "execution_count": 11,
     "metadata": {},
     "output_type": "execute_result"
    }
   ],
   "source": [
    "#precision \n",
    "#out of retrieved results , which fraction is relevant\n",
    "#setosa\n",
    "df.query('retrieved == \"setosa\" and gold==\"setosa\"').shape[0]/df.query('retrieved == \"setosa\" ').shape[0]"
   ]
  },
  {
   "cell_type": "code",
   "execution_count": 31,
   "id": "b3d7443a",
   "metadata": {},
   "outputs": [
    {
     "data": {
      "text/plain": [
       "0.6363636363636364"
      ]
     },
     "execution_count": 31,
     "metadata": {},
     "output_type": "execute_result"
    }
   ],
   "source": [
    "#virginica\n",
    "df.query('retrieved == \"virginica\" and gold==\"virginica\"').shape[0]/df.query('retrieved == \"virginica\" ').shape[0]"
   ]
  },
  {
   "cell_type": "code",
   "execution_count": 32,
   "id": "d01c4921",
   "metadata": {},
   "outputs": [
    {
     "data": {
      "text/plain": [
       "1.0"
      ]
     },
     "execution_count": 32,
     "metadata": {},
     "output_type": "execute_result"
    }
   ],
   "source": [
    "#versicolor\n",
    "df.query('retrieved == \"versicolor\" and gold==\"versicolor\"').shape[0]/df.query('retrieved == \"versicolor\" ').shape[0]"
   ]
  },
  {
   "cell_type": "code",
   "execution_count": 33,
   "id": "bb627ccc",
   "metadata": {},
   "outputs": [
    {
     "data": {
      "text/plain": [
       "1.0"
      ]
     },
     "execution_count": 33,
     "metadata": {},
     "output_type": "execute_result"
    }
   ],
   "source": [
    "#Recall\n",
    "#out of all relevant results, which fraction is retrieved\n",
    "#setosa\n",
    "df.query('retrieved == \"setosa\" and gold==\"setosa\"').shape[0]/df.query('gold == \"setosa\" ').shape[0]"
   ]
  },
  {
   "cell_type": "code",
   "execution_count": 34,
   "id": "4dbb003a",
   "metadata": {},
   "outputs": [
    {
     "data": {
      "text/plain": [
       "1.0"
      ]
     },
     "execution_count": 34,
     "metadata": {},
     "output_type": "execute_result"
    }
   ],
   "source": [
    "#virginica\n",
    "df.query('retrieved == \"virginica\" and gold==\"virginica\"').shape[0]/df.query('gold == \"virginica\" ').shape[0]"
   ]
  },
  {
   "cell_type": "code",
   "execution_count": 35,
   "id": "66fc1a47",
   "metadata": {},
   "outputs": [
    {
     "data": {
      "text/plain": [
       "0.7894736842105263"
      ]
     },
     "execution_count": 35,
     "metadata": {},
     "output_type": "execute_result"
    }
   ],
   "source": [
    "#versicolor\n",
    "df.query('retrieved == \"versicolor\" and gold==\"versicolor\"').shape[0]/df.query('gold == \"versicolor\" ').shape[0]"
   ]
  },
  {
   "cell_type": "code",
   "execution_count": 38,
   "id": "c075033f",
   "metadata": {},
   "outputs": [
    {
     "data": {
      "text/plain": [
       "array(['setosa', 'setosa', 'setosa', 'versicolor', 'setosa', 'versicolor',\n",
       "       'virginica', 'setosa', 'setosa', 'setosa', 'virginica',\n",
       "       'versicolor', 'versicolor', 'setosa', 'virginica', 'versicolor',\n",
       "       'setosa', 'versicolor', 'setosa', 'setosa', 'setosa', 'virginica',\n",
       "       'virginica', 'versicolor', 'versicolor', 'setosa', 'virginica',\n",
       "       'versicolor', 'versicolor', 'virginica', 'setosa', 'versicolor',\n",
       "       'setosa', 'virginica', 'virginica', 'versicolor', 'setosa',\n",
       "       'versicolor', 'versicolor', 'setosa', 'setosa', 'setosa',\n",
       "       'virginica', 'versicolor', 'virginica'], dtype=object)"
      ]
     },
     "execution_count": 38,
     "metadata": {},
     "output_type": "execute_result"
    }
   ],
   "source": [
    "retrieved = df.loc[:,'retrieved'].to_numpy()\n",
    "retrieved"
   ]
  },
  {
   "cell_type": "code",
   "execution_count": 39,
   "id": "ba64c8a9",
   "metadata": {},
   "outputs": [
    {
     "data": {
      "text/plain": [
       "array(['setosa', 'setosa', 'setosa', 'versicolor', 'setosa', 'versicolor',\n",
       "       'versicolor', 'setosa', 'setosa', 'setosa', 'virginica',\n",
       "       'versicolor', 'versicolor', 'setosa', 'virginica', 'versicolor',\n",
       "       'setosa', 'versicolor', 'setosa', 'setosa', 'setosa', 'virginica',\n",
       "       'virginica', 'versicolor', 'versicolor', 'setosa', 'virginica',\n",
       "       'versicolor', 'versicolor', 'virginica', 'setosa', 'versicolor',\n",
       "       'setosa', 'versicolor', 'virginica', 'versicolor', 'setosa',\n",
       "       'versicolor', 'versicolor', 'setosa', 'setosa', 'setosa',\n",
       "       'versicolor', 'versicolor', 'versicolor'], dtype=object)"
      ]
     },
     "execution_count": 39,
     "metadata": {},
     "output_type": "execute_result"
    }
   ],
   "source": [
    "gold =df.loc[:,'gold'].to_numpy()\n",
    "gold"
   ]
  },
  {
   "cell_type": "code",
   "execution_count": 58,
   "id": "2602aad5",
   "metadata": {},
   "outputs": [],
   "source": [
    "def precisionrecallf(gold,retrieved):\n",
    "    p_s = 0\n",
    "    p_vir = 0\n",
    "    p_ver = 0\n",
    "    for a,b in zip(gold,retrieved):\n",
    "        if(a==b):\n",
    "            if(a=='setosa'):\n",
    "                p_s+=1\n",
    "            if(a=='virginica'):\n",
    "                p_vir+=1\n",
    "            if(a=='versicolor'):\n",
    "                p_ver+=1\n",
    "            \n",
    "    pr_s = p_s/list(retrieved).count('setosa')\n",
    "    pr_vir = p_vir/list(retrieved).count('virginica')\n",
    "    pr_ver = p_ver/list(retrieved).count('versicolor')\n",
    "    \n",
    "    print(\"Precision is:\")\n",
    "    print(pr_s)\n",
    "    print(pr_vir)\n",
    "    print(pr_ver)\n",
    "    \n",
    "    r_s = p_s/list(gold).count('setosa')\n",
    "    r_vir = p_vir/list(gold).count('virginica')\n",
    "    r_ver = p_ver/list(gold).count('versicolor')\n",
    "    \n",
    "    print(\"Recall is:\")\n",
    "    print(r_s)\n",
    "    print(r_vir)\n",
    "    print(r_ver)\n",
    "    \n",
    "    f1_s = 2 * ((r_s * pr_s)/(r_s + pr_s))\n",
    "    f1_vir = 2 * ((r_vir * pr_vir)/(r_vir + pr_vir))\n",
    "    f1_ver = 2 * ((r_ver * pr_ver)/(r_ver + pr_ver))\n",
    "    print(\"F1 score is:\")\n",
    "    print(f1_s)\n",
    "    print(f1_vir)\n",
    "    print(f1_ver)"
   ]
  },
  {
   "cell_type": "code",
   "execution_count": 59,
   "id": "3d22bcb9",
   "metadata": {},
   "outputs": [
    {
     "name": "stdout",
     "output_type": "stream",
     "text": [
      "Precision is:\n",
      "1.0\n",
      "0.6363636363636364\n",
      "1.0\n",
      "Recall is:\n",
      "1.0\n",
      "1.0\n",
      "0.7894736842105263\n",
      "F1 score is:\n",
      "1.0\n",
      "0.7777777777777778\n",
      "0.8823529411764706\n"
     ]
    }
   ],
   "source": [
    "precisionrecallf(gold,retrieved)"
   ]
  },
  {
   "cell_type": "code",
   "execution_count": 61,
   "id": "3002a571",
   "metadata": {},
   "outputs": [],
   "source": []
  },
  {
   "cell_type": "code",
   "execution_count": 63,
   "id": "98267de1",
   "metadata": {},
   "outputs": [],
   "source": [
    "def precision(gold,retrieved):\n",
    "    p_s = 0\n",
    "    p_vir = 0\n",
    "    p_ver = 0\n",
    "    for a,b in zip(gold,retrieved):\n",
    "        if(a==b):\n",
    "            if(a=='setosa'):\n",
    "                p_s+=1\n",
    "            if(a=='virginica'):\n",
    "                p_vir+=1\n",
    "            if(a=='versicolor'):\n",
    "                p_ver+=1\n",
    "            \n",
    "    pr_s = p_s/list(retrieved).count('setosa')\n",
    "    pr_vir = p_vir/list(retrieved).count('virginica')\n",
    "    pr_ver = p_ver/list(retrieved).count('versicolor')\n",
    "    \n",
    "    print(\"Precision is:\")\n",
    "    print(pr_s)\n",
    "    print(pr_vir)\n",
    "    print(pr_ver)\n",
    "    "
   ]
  },
  {
   "cell_type": "code",
   "execution_count": 64,
   "id": "d8b2fe13",
   "metadata": {},
   "outputs": [],
   "source": [
    "def recall(gold,retrieved):\n",
    "    p_s = 0\n",
    "    p_vir = 0\n",
    "    p_ver = 0\n",
    "    for a,b in zip(gold,retrieved):\n",
    "        if(a==b):\n",
    "            if(a=='setosa'):\n",
    "                p_s+=1\n",
    "            if(a=='virginica'):\n",
    "                p_vir+=1\n",
    "            if(a=='versicolor'):\n",
    "                p_ver+=1\n",
    "            \n",
    "    r_s = p_s/list(gold).count('setosa')\n",
    "    r_vir = p_vir/list(gold).count('virginica')\n",
    "    r_ver = p_ver/list(gold).count('versicolor')\n",
    "    \n",
    "    print(\"Recall is:\")\n",
    "    print(r_s)\n",
    "    print(r_vir)\n",
    "    print(r_ver)"
   ]
  },
  {
   "cell_type": "code",
   "execution_count": 65,
   "id": "3793ba4c",
   "metadata": {},
   "outputs": [],
   "source": [
    "def f1score(gold,retrieved):\n",
    "    p_s = 0\n",
    "    p_vir = 0\n",
    "    p_ver = 0\n",
    "    for a,b in zip(gold,retrieved):\n",
    "        if(a==b):\n",
    "            if(a=='setosa'):\n",
    "                p_s+=1\n",
    "            if(a=='virginica'):\n",
    "                p_vir+=1\n",
    "            if(a=='versicolor'):\n",
    "                p_ver+=1\n",
    "    f1_s = 2 * ((r_s * pr_s)/(r_s + pr_s))\n",
    "    f1_vir = 2 * ((r_vir * pr_vir)/(r_vir + pr_vir))\n",
    "    f1_ver = 2 * ((r_ver * pr_ver)/(r_ver + pr_ver))\n",
    "    print(\"F1 score is:\")\n",
    "    print(f1_s)\n",
    "    print(f1_vir)\n",
    "    print(f1_ver)\n",
    "            "
   ]
  },
  {
   "cell_type": "code",
   "execution_count": 68,
   "id": "2eac030a",
   "metadata": {},
   "outputs": [],
   "source": [
    "def precision_k(gold,retrieved,k):\n",
    "    retrieved_k = retrieved[:k]\n",
    "    gold_k = gold[:k]\n",
    "    \n",
    "    return precision(gold_k,retrieved_k)"
   ]
  },
  {
   "cell_type": "code",
   "execution_count": 69,
   "id": "f6dafc73",
   "metadata": {},
   "outputs": [
    {
     "name": "stdout",
     "output_type": "stream",
     "text": [
      "Precision is:\n",
      "1.0\n",
      "0.0\n",
      "1.0\n"
     ]
    }
   ],
   "source": [
    "precision_k(gold,retrieved,10)"
   ]
  },
  {
   "cell_type": "code",
   "execution_count": 78,
   "id": "f062257d",
   "metadata": {},
   "outputs": [],
   "source": [
    "def recall_k(gold,retrieved,k):\n",
    "    retrieved_k = retrieved[:k]\n",
    "    gold_k = gold[:k]\n",
    "    \n",
    "    return recall(gold_k,retrieved_k)"
   ]
  },
  {
   "cell_type": "code",
   "execution_count": 79,
   "id": "8b077be8",
   "metadata": {},
   "outputs": [
    {
     "ename": "ZeroDivisionError",
     "evalue": "division by zero",
     "output_type": "error",
     "traceback": [
      "\u001b[1;31m---------------------------------------------------------------------------\u001b[0m",
      "\u001b[1;31mZeroDivisionError\u001b[0m                         Traceback (most recent call last)",
      "\u001b[1;32m<ipython-input-79-596b78a03a18>\u001b[0m in \u001b[0;36m<module>\u001b[1;34m\u001b[0m\n\u001b[1;32m----> 1\u001b[1;33m \u001b[0mrecall_k\u001b[0m\u001b[1;33m(\u001b[0m\u001b[0mgold\u001b[0m\u001b[1;33m,\u001b[0m\u001b[0mretrieved\u001b[0m\u001b[1;33m,\u001b[0m\u001b[1;36m10\u001b[0m\u001b[1;33m)\u001b[0m\u001b[1;33m\u001b[0m\u001b[1;33m\u001b[0m\u001b[0m\n\u001b[0m",
      "\u001b[1;32m<ipython-input-78-97317ac8c027>\u001b[0m in \u001b[0;36mrecall_k\u001b[1;34m(gold, retrieved, k)\u001b[0m\n\u001b[0;32m      3\u001b[0m     \u001b[0mgold_k\u001b[0m \u001b[1;33m=\u001b[0m \u001b[0mgold\u001b[0m\u001b[1;33m[\u001b[0m\u001b[1;33m:\u001b[0m\u001b[0mk\u001b[0m\u001b[1;33m]\u001b[0m\u001b[1;33m\u001b[0m\u001b[1;33m\u001b[0m\u001b[0m\n\u001b[0;32m      4\u001b[0m \u001b[1;33m\u001b[0m\u001b[0m\n\u001b[1;32m----> 5\u001b[1;33m     \u001b[1;32mreturn\u001b[0m \u001b[0mrecall\u001b[0m\u001b[1;33m(\u001b[0m\u001b[0mgold_k\u001b[0m\u001b[1;33m,\u001b[0m\u001b[0mretrieved_k\u001b[0m\u001b[1;33m)\u001b[0m\u001b[1;33m\u001b[0m\u001b[1;33m\u001b[0m\u001b[0m\n\u001b[0m",
      "\u001b[1;32m<ipython-input-64-6dcaf9c9486b>\u001b[0m in \u001b[0;36mrecall\u001b[1;34m(gold, retrieved)\u001b[0m\n\u001b[0;32m     13\u001b[0m \u001b[1;33m\u001b[0m\u001b[0m\n\u001b[0;32m     14\u001b[0m     \u001b[0mr_s\u001b[0m \u001b[1;33m=\u001b[0m \u001b[0mp_s\u001b[0m\u001b[1;33m/\u001b[0m\u001b[0mlist\u001b[0m\u001b[1;33m(\u001b[0m\u001b[0mgold\u001b[0m\u001b[1;33m)\u001b[0m\u001b[1;33m.\u001b[0m\u001b[0mcount\u001b[0m\u001b[1;33m(\u001b[0m\u001b[1;34m'setosa'\u001b[0m\u001b[1;33m)\u001b[0m\u001b[1;33m\u001b[0m\u001b[1;33m\u001b[0m\u001b[0m\n\u001b[1;32m---> 15\u001b[1;33m     \u001b[0mr_vir\u001b[0m \u001b[1;33m=\u001b[0m \u001b[0mp_vir\u001b[0m\u001b[1;33m/\u001b[0m\u001b[0mlist\u001b[0m\u001b[1;33m(\u001b[0m\u001b[0mgold\u001b[0m\u001b[1;33m)\u001b[0m\u001b[1;33m.\u001b[0m\u001b[0mcount\u001b[0m\u001b[1;33m(\u001b[0m\u001b[1;34m'virginica'\u001b[0m\u001b[1;33m)\u001b[0m\u001b[1;33m\u001b[0m\u001b[1;33m\u001b[0m\u001b[0m\n\u001b[0m\u001b[0;32m     16\u001b[0m     \u001b[0mr_ver\u001b[0m \u001b[1;33m=\u001b[0m \u001b[0mp_ver\u001b[0m\u001b[1;33m/\u001b[0m\u001b[0mlist\u001b[0m\u001b[1;33m(\u001b[0m\u001b[0mgold\u001b[0m\u001b[1;33m)\u001b[0m\u001b[1;33m.\u001b[0m\u001b[0mcount\u001b[0m\u001b[1;33m(\u001b[0m\u001b[1;34m'versicolor'\u001b[0m\u001b[1;33m)\u001b[0m\u001b[1;33m\u001b[0m\u001b[1;33m\u001b[0m\u001b[0m\n\u001b[0;32m     17\u001b[0m \u001b[1;33m\u001b[0m\u001b[0m\n",
      "\u001b[1;31mZeroDivisionError\u001b[0m: division by zero"
     ]
    }
   ],
   "source": [
    "recall_k(gold,retrieved,10)"
   ]
  },
  {
   "cell_type": "code",
   "execution_count": 82,
   "id": "6b4cd63d",
   "metadata": {},
   "outputs": [],
   "source": [
    "#accuracy is fraction of correct decisions\n",
    "#make a confusion matrix first\n",
    "\n",
    "def confusion_matrix(gold,retrieved):\n",
    "    cm = np.zeros((3,3))\n",
    "    \n",
    "    for real,predicted in zip(gold,retrieved):\n",
    "        if(predicted=='setosa'):\n",
    "            if(predicted==real):\n",
    "                cm[0][0]+=1\n",
    "            elif(real=='virginica'):\n",
    "                cm[0][1]+=1\n",
    "            else:\n",
    "                cm[0][2]+=1\n",
    "        if(predicted=='virginica'):\n",
    "            if(predicted==real):\n",
    "                cm[1][1]+=1\n",
    "            elif(real=='setosa'):\n",
    "                cm[1][0]+=1\n",
    "            else:\n",
    "                cm[1][2]+=1\n",
    "        if(predicted=='versicolor'):\n",
    "            if(predicted==real):\n",
    "                cm[2][2]+=1\n",
    "            elif(real=='virginica'):\n",
    "                cm[2][1]+=1\n",
    "            else:\n",
    "                cm[2][0]+=1\n",
    "    \n",
    "    return cm\n",
    "        \n",
    "        "
   ]
  },
  {
   "cell_type": "code",
   "execution_count": 83,
   "id": "d0085613",
   "metadata": {},
   "outputs": [
    {
     "data": {
      "text/plain": [
       "array([[19.,  0.,  0.],\n",
       "       [ 0.,  7.,  4.],\n",
       "       [ 0.,  0., 15.]])"
      ]
     },
     "execution_count": 83,
     "metadata": {},
     "output_type": "execute_result"
    }
   ],
   "source": [
    "confusion_matrix(gold,retrieved)"
   ]
  },
  {
   "cell_type": "code",
   "execution_count": 86,
   "id": "5199f5a9",
   "metadata": {},
   "outputs": [],
   "source": [
    "def accuracy(gold,retrieved):\n",
    "    cm = confusion_matrix(gold,retrieved)\n",
    "    res = np.sum(np.diag(cm))/np.sum(cm)\n",
    "    return res"
   ]
  },
  {
   "cell_type": "code",
   "execution_count": 87,
   "id": "dfc7c487",
   "metadata": {},
   "outputs": [
    {
     "data": {
      "text/plain": [
       "0.9111111111111111"
      ]
     },
     "execution_count": 87,
     "metadata": {},
     "output_type": "execute_result"
    }
   ],
   "source": [
    "accuracy(gold,retrieved)"
   ]
  },
  {
   "cell_type": "code",
   "execution_count": 92,
   "id": "cfa81e6a",
   "metadata": {},
   "outputs": [],
   "source": [
    "#mean average precision\n",
    "#calculate average precision of each query\n",
    "#then find mean of all of them\n",
    "\n",
    "def mean_average_precision(gold,retrieved):\n",
    "    p_s = []\n",
    "    p_vir = []\n",
    "    p_ver = []\n",
    "    i = 1\n",
    "    p_setosa = 0\n",
    "    p_virginica = 0\n",
    "    p_versicolor = 0\n",
    "    \n",
    "    for a,b in zip(gold,retrieved):\n",
    "        if(a==b):\n",
    "            if(a=='setosa'):\n",
    "                p_setosa += 1\n",
    "                p_s.append(p_setosa/i)\n",
    "            if(a=='virginica'):\n",
    "                p_virginica +=1 \n",
    "                p_vir.append(p_virginica/i)\n",
    "            if(a=='versicolor'):\n",
    "                p_versicolor +=1\n",
    "                p_ver.append(p_versicolor/i)\n",
    "        i+=1\n",
    "            \n",
    "    avg_p_s = sum(p_s)/len(p_s)\n",
    "    avg_p_vir = sum(p_vir)/len(p_vir)\n",
    "    avg_p_ver = sum(p_ver)/len(p_ver)\n",
    "    \n",
    "    return((avg_p_s + avg_p_vir + avg_p_ver)/3)\n",
    "            "
   ]
  },
  {
   "cell_type": "code",
   "execution_count": 93,
   "id": "dd0f5044",
   "metadata": {},
   "outputs": [
    {
     "data": {
      "text/plain": [
       "0.36480689573390496"
      ]
     },
     "execution_count": 93,
     "metadata": {},
     "output_type": "execute_result"
    }
   ],
   "source": [
    "mean_average_precision(gold,retrieved)"
   ]
  },
  {
   "cell_type": "code",
   "execution_count": 5,
   "id": "614f8505",
   "metadata": {},
   "outputs": [
    {
     "ename": "AttributeError",
     "evalue": "module 'numpy' has no attribute 'twos'",
     "output_type": "error",
     "traceback": [
      "\u001b[1;31m---------------------------------------------------------------------------\u001b[0m",
      "\u001b[1;31mAttributeError\u001b[0m                            Traceback (most recent call last)",
      "\u001b[1;32m<ipython-input-5-cb02e618169f>\u001b[0m in \u001b[0;36m<module>\u001b[1;34m\u001b[0m\n\u001b[1;32m----> 1\u001b[1;33m \u001b[0mnp\u001b[0m\u001b[1;33m.\u001b[0m\u001b[0mtwos\u001b[0m\u001b[1;33m(\u001b[0m\u001b[1;33m(\u001b[0m\u001b[1;36m3\u001b[0m\u001b[1;33m,\u001b[0m\u001b[1;36m3\u001b[0m\u001b[1;33m)\u001b[0m\u001b[1;33m)\u001b[0m\u001b[1;33m\u001b[0m\u001b[1;33m\u001b[0m\u001b[0m\n\u001b[0m",
      "\u001b[1;32m~\\anaconda3\\lib\\site-packages\\numpy\\__init__.py\u001b[0m in \u001b[0;36m__getattr__\u001b[1;34m(attr)\u001b[0m\n\u001b[0;32m    301\u001b[0m                 \u001b[1;32mreturn\u001b[0m \u001b[0mTester\u001b[0m\u001b[1;33m\u001b[0m\u001b[1;33m\u001b[0m\u001b[0m\n\u001b[0;32m    302\u001b[0m \u001b[1;33m\u001b[0m\u001b[0m\n\u001b[1;32m--> 303\u001b[1;33m             raise AttributeError(\"module {!r} has no attribute \"\n\u001b[0m\u001b[0;32m    304\u001b[0m                                  \"{!r}\".format(__name__, attr))\n\u001b[0;32m    305\u001b[0m \u001b[1;33m\u001b[0m\u001b[0m\n",
      "\u001b[1;31mAttributeError\u001b[0m: module 'numpy' has no attribute 'twos'"
     ]
    }
   ],
   "source": []
  },
  {
   "cell_type": "code",
   "execution_count": 16,
   "id": "f7c1ca05",
   "metadata": {},
   "outputs": [
    {
     "data": {
      "text/plain": [
       "1.0"
      ]
     },
     "execution_count": 16,
     "metadata": {},
     "output_type": "execute_result"
    }
   ],
   "source": [
    "#fallout\n",
    "df.query('retrieved==\"virginica\" and retrieved != gold ').shape[0]/df.query('retrieved != gold').shape[0]"
   ]
  },
  {
   "cell_type": "code",
   "execution_count": null,
   "id": "b5185d34",
   "metadata": {},
   "outputs": [],
   "source": []
  },
  {
   "cell_type": "code",
   "execution_count": null,
   "id": "44e23cd7",
   "metadata": {},
   "outputs": [],
   "source": []
  },
  {
   "cell_type": "code",
   "execution_count": null,
   "id": "5f603634",
   "metadata": {},
   "outputs": [],
   "source": []
  }
 ],
 "metadata": {
  "kernelspec": {
   "display_name": "Python 3",
   "language": "python",
   "name": "python3"
  },
  "language_info": {
   "codemirror_mode": {
    "name": "ipython",
    "version": 3
   },
   "file_extension": ".py",
   "mimetype": "text/x-python",
   "name": "python",
   "nbconvert_exporter": "python",
   "pygments_lexer": "ipython3",
   "version": "3.8.8"
  }
 },
 "nbformat": 4,
 "nbformat_minor": 5
}

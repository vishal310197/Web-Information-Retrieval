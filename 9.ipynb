{
 "cells": [
  {
   "cell_type": "code",
   "execution_count": 2,
   "id": "c908c433",
   "metadata": {},
   "outputs": [],
   "source": [
    "import numpy as np\n",
    "a = np.array([[4/15, 5/15, 6/15],\n",
    "             [1/15,13/15,1/15],\n",
    "             [13/15,1/15,1/15]])"
   ]
  },
  {
   "cell_type": "code",
   "execution_count": 3,
   "id": "b7c12df0",
   "metadata": {},
   "outputs": [
    {
     "data": {
      "text/plain": [
       "(matrix([[0.33333333, 0.33333333, 0.33333333]]),\n",
       " matrix([[0.26666667, 0.33333333, 0.4       ],\n",
       "         [0.06666667, 0.86666667, 0.06666667],\n",
       "         [0.86666667, 0.06666667, 0.06666667]]))"
      ]
     },
     "execution_count": 3,
     "metadata": {},
     "output_type": "execute_result"
    }
   ],
   "source": [
    "a = np.matrix(a)\n",
    "x0 = np.matrix([1/3,1/3,1/3])\n",
    "x0,a"
   ]
  },
  {
   "cell_type": "code",
   "execution_count": 4,
   "id": "a1f583c6",
   "metadata": {},
   "outputs": [
    {
     "data": {
      "text/plain": [
       "matrix([[0.24663704, 0.60205432, 0.15130864]])"
      ]
     },
     "execution_count": 4,
     "metadata": {},
     "output_type": "execute_result"
    }
   ],
   "source": [
    "#for i in range(0,6):\n",
    " #   x0 = x0*a**i\n",
    " #   print(\" Iteration \" + str(i) + \" : \" + str(x0))\n",
    "\n",
    "#5th iteration\n",
    "x0*a**5"
   ]
  },
  {
   "cell_type": "code",
   "execution_count": 5,
   "id": "288b9e22",
   "metadata": {},
   "outputs": [],
   "source": [
    "a0 = x0*a**0\n",
    "a1 = x0*a**1\n",
    "a2 = x0*a**2\n",
    "a3 = x0*a**3\n",
    "a4 = x0*a**4\n",
    "a5 = x0*a**5\n",
    "a6 = x0*a**6\n",
    "a7 = x0*a**7\n",
    "a8 = x0*a**8\n",
    "a9 = x0*a**9\n",
    "a10 = x0*a**10\n",
    "a11 = x0*a**11\n",
    "a12 = x0*a**12"
   ]
  },
  {
   "cell_type": "code",
   "execution_count": 8,
   "id": "84dbfe26",
   "metadata": {},
   "outputs": [
    {
     "name": "stdout",
     "output_type": "stream",
     "text": [
      "2 [[-0.11111111  0.08888889  0.02222222]] [[ True False False]]\n",
      "3 [[-0.00444444  0.04148148 -0.03703704]] [[ True False  True]]\n",
      "2 [[-0.03051852  0.032      -0.00148148]] [[ True False  True]]\n",
      "2 [[-0.00728889  0.01746173 -0.01017284]] [[ True False  True]]\n",
      "2 [[-0.00959605  0.01202568 -0.00242963]] [[ True False  True]]\n",
      "2 [[-0.00386291  0.0070616  -0.00319868]] [[ True False  True]]\n",
      "2 [[-0.00333153  0.00461917 -0.00128764]] [[ True False  True]]\n",
      "2 [[-0.00169642  0.00280693 -0.00111051]] [[ True False  True]]\n",
      "2 [[-0.00122769  0.00179316 -0.00056547]] [[ True False  True]]\n",
      "2 [[-0.00069792  0.00110715 -0.00040923]] [[ True False  True]]\n",
      "2 [[-0.00046697  0.00069961 -0.00023264]] [[ True  True  True]]\n"
     ]
    }
   ],
   "source": [
    "print(\"2\",a2-a1,a2-a1 <= [0.001,0.001,0.001])\n",
    "print(\"3\",a3-a2,a3-a2 <= [0.001,0.001,0.001])\n",
    "print(\"2\",a4-a3,a4-a3 <= [0.001,0.001,0.001])\n",
    "print(\"2\",a5-a4,a5-a4 <= [0.001,0.001,0.001])\n",
    "print(\"2\",a6-a5,a6-a5 <= [0.001,0.001,0.001])\n",
    "print(\"2\",a7-a6,a7-a6 <= [0.001,0.001,0.001])\n",
    "print(\"2\",a8-a7,a8-a7 <= [0.001,0.001,0.001])\n",
    "print(\"2\",a9-a8,a9-a8 <= [0.001,0.001,0.001])\n",
    "print(\"2\",a10-a9,a10-a9 <= [0.001,0.001,0.001])\n",
    "print(\"2\",a11-a10,a11-a10 <= [0.001,0.001,0.001])\n",
    "print(\"2\",a12-a11,a12-a11 <= [0.001,0.001,0.001])"
   ]
  },
  {
   "cell_type": "code",
   "execution_count": 7,
   "id": "6fc385cc",
   "metadata": {},
   "outputs": [
    {
     "data": {
      "text/plain": [
       "matrix([[-0.11111111,  0.08888889,  0.02222222]])"
      ]
     },
     "execution_count": 7,
     "metadata": {},
     "output_type": "execute_result"
    }
   ],
   "source": []
  },
  {
   "cell_type": "code",
   "execution_count": null,
   "id": "28f26e0c",
   "metadata": {},
   "outputs": [],
   "source": []
  }
 ],
 "metadata": {
  "kernelspec": {
   "display_name": "Python 3",
   "language": "python",
   "name": "python3"
  },
  "language_info": {
   "codemirror_mode": {
    "name": "ipython",
    "version": 3
   },
   "file_extension": ".py",
   "mimetype": "text/x-python",
   "name": "python",
   "nbconvert_exporter": "python",
   "pygments_lexer": "ipython3",
   "version": "3.8.8"
  }
 },
 "nbformat": 4,
 "nbformat_minor": 5
}

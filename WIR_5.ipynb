{
 "cells": [
  {
   "cell_type": "code",
   "execution_count": 2,
   "metadata": {},
   "outputs": [],
   "source": [
    "import pandas as pd\n",
    "import numpy as np\n",
    "\n",
    "\n",
    "D1 = \"vaccine research corona virus research\"\n",
    "D2 = \"research research cancer vaccine vaccine\"\n",
    "D3 = \"virus virus corona vaccine lab\"\n",
    "D4 = \"cancer lab research lab\"\n",
    "\n",
    "corpus=[D1,D2,D3,D4]\n",
    "word_bag= set(D1.split()+D2.split()+D3.split()+D4.split())"
   ]
  },
  {
   "cell_type": "code",
   "execution_count": 26,
   "metadata": {},
   "outputs": [],
   "source": [
    "#term frequency\n",
    "def term_frequency(word_bag, corpus):\n",
    "    lis = []\n",
    "    for word in word_bag:\n",
    "        for match in corpus:\n",
    "            m = match.count(word)\n",
    "            lis.append(m)\n",
    "    lis2 = []\n",
    "   \n",
    "    for i in range(0,len(corpus)):\n",
    "         lis2.append(lis[i::len(corpus)])\n",
    "    lis2 = np.array(lis2)\n",
    "    lis2 = lis2.transpose()\n",
    "    return(pd.DataFrame(lis2,index = word_bag, columns = corpus))"
   ]
  },
  {
   "cell_type": "code",
   "execution_count": 33,
   "metadata": {},
   "outputs": [
    {
     "data": {
      "text/html": [
       "<div>\n",
       "<style scoped>\n",
       "    .dataframe tbody tr th:only-of-type {\n",
       "        vertical-align: middle;\n",
       "    }\n",
       "\n",
       "    .dataframe tbody tr th {\n",
       "        vertical-align: top;\n",
       "    }\n",
       "\n",
       "    .dataframe thead th {\n",
       "        text-align: right;\n",
       "    }\n",
       "</style>\n",
       "<table border=\"1\" class=\"dataframe\">\n",
       "  <thead>\n",
       "    <tr style=\"text-align: right;\">\n",
       "      <th></th>\n",
       "      <th>D1</th>\n",
       "      <th>D2</th>\n",
       "      <th>D3</th>\n",
       "      <th>D4</th>\n",
       "    </tr>\n",
       "  </thead>\n",
       "  <tbody>\n",
       "    <tr>\n",
       "      <th>cancer</th>\n",
       "      <td>0</td>\n",
       "      <td>1</td>\n",
       "      <td>0</td>\n",
       "      <td>1</td>\n",
       "    </tr>\n",
       "    <tr>\n",
       "      <th>corona</th>\n",
       "      <td>1</td>\n",
       "      <td>0</td>\n",
       "      <td>1</td>\n",
       "      <td>0</td>\n",
       "    </tr>\n",
       "    <tr>\n",
       "      <th>lab</th>\n",
       "      <td>0</td>\n",
       "      <td>0</td>\n",
       "      <td>1</td>\n",
       "      <td>2</td>\n",
       "    </tr>\n",
       "    <tr>\n",
       "      <th>research</th>\n",
       "      <td>2</td>\n",
       "      <td>2</td>\n",
       "      <td>0</td>\n",
       "      <td>1</td>\n",
       "    </tr>\n",
       "    <tr>\n",
       "      <th>vaccine</th>\n",
       "      <td>1</td>\n",
       "      <td>2</td>\n",
       "      <td>1</td>\n",
       "      <td>0</td>\n",
       "    </tr>\n",
       "    <tr>\n",
       "      <th>virus</th>\n",
       "      <td>1</td>\n",
       "      <td>0</td>\n",
       "      <td>2</td>\n",
       "      <td>0</td>\n",
       "    </tr>\n",
       "  </tbody>\n",
       "</table>\n",
       "</div>"
      ],
      "text/plain": [
       "          D1  D2  D3  D4\n",
       "cancer     0   1   0   1\n",
       "corona     1   0   1   0\n",
       "lab        0   0   1   2\n",
       "research   2   2   0   1\n",
       "vaccine    1   2   1   0\n",
       "virus      1   0   2   0"
      ]
     },
     "execution_count": 33,
     "metadata": {},
     "output_type": "execute_result"
    }
   ],
   "source": [
    "df = term_frequency(sorted(word_bag), corpus)\n",
    "df.columns = ['D1','D2','D3','D4']\n",
    "df"
   ]
  },
  {
   "cell_type": "code",
   "execution_count": 34,
   "metadata": {},
   "outputs": [
    {
     "data": {
      "text/plain": [
       "19"
      ]
     },
     "execution_count": 34,
     "metadata": {},
     "output_type": "execute_result"
    }
   ],
   "source": [
    "len_corpus = len(D1.split()+D2.split()+D3.split()+D4.split())\n",
    "len_corpus"
   ]
  },
  {
   "cell_type": "code",
   "execution_count": 35,
   "metadata": {},
   "outputs": [
    {
     "data": {
      "text/html": [
       "<div>\n",
       "<style scoped>\n",
       "    .dataframe tbody tr th:only-of-type {\n",
       "        vertical-align: middle;\n",
       "    }\n",
       "\n",
       "    .dataframe tbody tr th {\n",
       "        vertical-align: top;\n",
       "    }\n",
       "\n",
       "    .dataframe thead th {\n",
       "        text-align: right;\n",
       "    }\n",
       "</style>\n",
       "<table border=\"1\" class=\"dataframe\">\n",
       "  <thead>\n",
       "    <tr style=\"text-align: right;\">\n",
       "      <th></th>\n",
       "      <th>D1</th>\n",
       "      <th>D2</th>\n",
       "      <th>D3</th>\n",
       "      <th>D4</th>\n",
       "      <th>P_Mc(t)</th>\n",
       "    </tr>\n",
       "  </thead>\n",
       "  <tbody>\n",
       "    <tr>\n",
       "      <th>cancer</th>\n",
       "      <td>0</td>\n",
       "      <td>1</td>\n",
       "      <td>0</td>\n",
       "      <td>1</td>\n",
       "      <td>0.105263</td>\n",
       "    </tr>\n",
       "    <tr>\n",
       "      <th>corona</th>\n",
       "      <td>1</td>\n",
       "      <td>0</td>\n",
       "      <td>1</td>\n",
       "      <td>0</td>\n",
       "      <td>0.105263</td>\n",
       "    </tr>\n",
       "    <tr>\n",
       "      <th>lab</th>\n",
       "      <td>0</td>\n",
       "      <td>0</td>\n",
       "      <td>1</td>\n",
       "      <td>2</td>\n",
       "      <td>0.157895</td>\n",
       "    </tr>\n",
       "    <tr>\n",
       "      <th>research</th>\n",
       "      <td>2</td>\n",
       "      <td>2</td>\n",
       "      <td>0</td>\n",
       "      <td>1</td>\n",
       "      <td>0.263158</td>\n",
       "    </tr>\n",
       "    <tr>\n",
       "      <th>vaccine</th>\n",
       "      <td>1</td>\n",
       "      <td>2</td>\n",
       "      <td>1</td>\n",
       "      <td>0</td>\n",
       "      <td>0.210526</td>\n",
       "    </tr>\n",
       "    <tr>\n",
       "      <th>virus</th>\n",
       "      <td>1</td>\n",
       "      <td>0</td>\n",
       "      <td>2</td>\n",
       "      <td>0</td>\n",
       "      <td>0.157895</td>\n",
       "    </tr>\n",
       "  </tbody>\n",
       "</table>\n",
       "</div>"
      ],
      "text/plain": [
       "          D1  D2  D3  D4   P_Mc(t)\n",
       "cancer     0   1   0   1  0.105263\n",
       "corona     1   0   1   0  0.105263\n",
       "lab        0   0   1   2  0.157895\n",
       "research   2   2   0   1  0.263158\n",
       "vaccine    1   2   1   0  0.210526\n",
       "virus      1   0   2   0  0.157895"
      ]
     },
     "execution_count": 35,
     "metadata": {},
     "output_type": "execute_result"
    }
   ],
   "source": [
    "#P_Mc(t)\n",
    "df['P_Mc(t)'] = df.sum(axis=1)/19\n",
    "df"
   ]
  },
  {
   "cell_type": "code",
   "execution_count": 36,
   "metadata": {},
   "outputs": [
    {
     "data": {
      "text/html": [
       "<div>\n",
       "<style scoped>\n",
       "    .dataframe tbody tr th:only-of-type {\n",
       "        vertical-align: middle;\n",
       "    }\n",
       "\n",
       "    .dataframe tbody tr th {\n",
       "        vertical-align: top;\n",
       "    }\n",
       "\n",
       "    .dataframe thead th {\n",
       "        text-align: right;\n",
       "    }\n",
       "</style>\n",
       "<table border=\"1\" class=\"dataframe\">\n",
       "  <thead>\n",
       "    <tr style=\"text-align: right;\">\n",
       "      <th></th>\n",
       "      <th>D1</th>\n",
       "      <th>D2</th>\n",
       "      <th>D3</th>\n",
       "      <th>D4</th>\n",
       "      <th>P_Mc(t)</th>\n",
       "      <th>PMd1(t)</th>\n",
       "      <th>PMd2(t)</th>\n",
       "      <th>PMd3(t)</th>\n",
       "      <th>PMd4(t)</th>\n",
       "    </tr>\n",
       "  </thead>\n",
       "  <tbody>\n",
       "    <tr>\n",
       "      <th>cancer</th>\n",
       "      <td>0</td>\n",
       "      <td>1</td>\n",
       "      <td>0</td>\n",
       "      <td>1</td>\n",
       "      <td>0.105263</td>\n",
       "      <td>0.0</td>\n",
       "      <td>0.2</td>\n",
       "      <td>0.0</td>\n",
       "      <td>0.25</td>\n",
       "    </tr>\n",
       "    <tr>\n",
       "      <th>corona</th>\n",
       "      <td>1</td>\n",
       "      <td>0</td>\n",
       "      <td>1</td>\n",
       "      <td>0</td>\n",
       "      <td>0.105263</td>\n",
       "      <td>0.2</td>\n",
       "      <td>0.0</td>\n",
       "      <td>0.2</td>\n",
       "      <td>0.00</td>\n",
       "    </tr>\n",
       "    <tr>\n",
       "      <th>lab</th>\n",
       "      <td>0</td>\n",
       "      <td>0</td>\n",
       "      <td>1</td>\n",
       "      <td>2</td>\n",
       "      <td>0.157895</td>\n",
       "      <td>0.0</td>\n",
       "      <td>0.0</td>\n",
       "      <td>0.2</td>\n",
       "      <td>0.50</td>\n",
       "    </tr>\n",
       "    <tr>\n",
       "      <th>research</th>\n",
       "      <td>2</td>\n",
       "      <td>2</td>\n",
       "      <td>0</td>\n",
       "      <td>1</td>\n",
       "      <td>0.263158</td>\n",
       "      <td>0.4</td>\n",
       "      <td>0.4</td>\n",
       "      <td>0.0</td>\n",
       "      <td>0.25</td>\n",
       "    </tr>\n",
       "    <tr>\n",
       "      <th>vaccine</th>\n",
       "      <td>1</td>\n",
       "      <td>2</td>\n",
       "      <td>1</td>\n",
       "      <td>0</td>\n",
       "      <td>0.210526</td>\n",
       "      <td>0.2</td>\n",
       "      <td>0.4</td>\n",
       "      <td>0.2</td>\n",
       "      <td>0.00</td>\n",
       "    </tr>\n",
       "    <tr>\n",
       "      <th>virus</th>\n",
       "      <td>1</td>\n",
       "      <td>0</td>\n",
       "      <td>2</td>\n",
       "      <td>0</td>\n",
       "      <td>0.157895</td>\n",
       "      <td>0.2</td>\n",
       "      <td>0.0</td>\n",
       "      <td>0.4</td>\n",
       "      <td>0.00</td>\n",
       "    </tr>\n",
       "  </tbody>\n",
       "</table>\n",
       "</div>"
      ],
      "text/plain": [
       "          D1  D2  D3  D4   P_Mc(t)  PMd1(t)  PMd2(t)  PMd3(t)  PMd4(t)\n",
       "cancer     0   1   0   1  0.105263      0.0      0.2      0.0     0.25\n",
       "corona     1   0   1   0  0.105263      0.2      0.0      0.2     0.00\n",
       "lab        0   0   1   2  0.157895      0.0      0.0      0.2     0.50\n",
       "research   2   2   0   1  0.263158      0.4      0.4      0.0     0.25\n",
       "vaccine    1   2   1   0  0.210526      0.2      0.4      0.2     0.00\n",
       "virus      1   0   2   0  0.157895      0.2      0.0      0.4     0.00"
      ]
     },
     "execution_count": 36,
     "metadata": {},
     "output_type": "execute_result"
    }
   ],
   "source": [
    "#PMd(t)\n",
    "df['PMd1(t)'] = df['D1']/(len(D1.split()))\n",
    "df['PMd2(t)'] = df['D2']/(len(D2.split()))\n",
    "df['PMd3(t)'] = df['D3']/(len(D3.split()))\n",
    "df['PMd4(t)'] = df['D4']/(len(D4.split()))\n",
    "df\n"
   ]
  },
  {
   "cell_type": "code",
   "execution_count": 47,
   "metadata": {},
   "outputs": [
    {
     "name": "stdout",
     "output_type": "stream",
     "text": [
      "[0.0, 0.012800000000000004, 0.0, 0.0]\n",
      "[0.012800000000000004, 0.0, 0.0, 0.0]\n"
     ]
    }
   ],
   "source": [
    "#Query 1 Model 1\n",
    "q = \"vaccine vaccine research cancer\"\n",
    "p =1\n",
    "t=1\n",
    "r=1\n",
    "s=1\n",
    "for i in q.split():\n",
    "    p = p * df['PMd1(t)'][i]\n",
    "    t = t * df['PMd2(t)'][i]\n",
    "    r = r * df['PMd3(t)'][i]\n",
    "    s = s * df['PMd4(t)'][i]\n",
    "l = [p,t,r,s]\n",
    "print(l)\n",
    "print(sorted(l, reverse = True))"
   ]
  },
  {
   "cell_type": "code",
   "execution_count": 38,
   "metadata": {},
   "outputs": [
    {
     "name": "stdout",
     "output_type": "stream",
     "text": [
      "[0.0007, 0.0047, 0.0003, 0.0005]\n",
      "[0.0047, 0.0007, 0.0005, 0.0003]\n"
     ]
    }
   ],
   "source": [
    "#Query 1 Model 2\n",
    "q = \"vaccine vaccine research cancer\"\n",
    "lam = 0.5\n",
    "u = 1\n",
    "v = 1\n",
    "w = 1\n",
    "x = 1\n",
    "for i in q.split():\n",
    "    u = u *((lam*df['PMd1(t)'][i]) + ((1-lam)*(df['P_Mc(t)'][i])))\n",
    "    v = v *((lam*df['PMd2(t)'][i]) + ((1-lam)*(df['P_Mc(t)'][i])))\n",
    "    w = w *((lam*df['PMd3(t)'][i]) + ((1-lam)*(df['P_Mc(t)'][i])))\n",
    "    x = x *((lam*df['PMd4(t)'][i]) + ((1-lam)*(df['P_Mc(t)'][i])))\n",
    "lis = [round(u,4),round(v,4),round(w,4),round(x,4)]\n",
    "print(lis)\n",
    "print(sorted(lis, reverse = True))\n",
    "    "
   ]
  },
  {
   "cell_type": "code",
   "execution_count": 39,
   "metadata": {},
   "outputs": [
    {
     "name": "stdout",
     "output_type": "stream",
     "text": [
      "[0.08000000000000002, 0.16000000000000003, 0.0, 0.0]\n",
      "[0.16000000000000003, 0.08000000000000002, 0.0, 0.0]\n",
      "0.08\n"
     ]
    }
   ],
   "source": [
    "#Query 2 Model 1\n",
    "q2 = \"vaccine research\"\n",
    "p =1\n",
    "t=1\n",
    "r=1\n",
    "s=1\n",
    "for i in q2.split():\n",
    "    p = p * df['PMd1(t)'][i]\n",
    "    t = t * df['PMd2(t)'][i]\n",
    "    r = r * df['PMd3(t)'][i]\n",
    "    s = s * df['PMd4(t)'][i]\n",
    "l = [p,t,r,s]\n",
    "print(l)\n",
    "print(sorted(l, reverse = True))\n",
    "print(round(p,2))"
   ]
  },
  {
   "cell_type": "code",
   "execution_count": 40,
   "metadata": {},
   "outputs": [
    {
     "name": "stdout",
     "output_type": "stream",
     "text": [
      "[0.0681, 0.1012, 0.027, 0.027]\n",
      "[0.027, 0.027, 0.0681, 0.1012]\n",
      "[0.1012, 0.0681, 0.027, 0.027]\n"
     ]
    }
   ],
   "source": [
    "#Query 2 Model 2\n",
    "q2 = \"vaccine research\"\n",
    "lam = 0.5\n",
    "u = 1\n",
    "v = 1\n",
    "w = 1\n",
    "x = 1\n",
    "for i in q2.split():\n",
    "    u = u *((lam*df['PMd1(t)'][i]) + ((1-lam)*(df['P_Mc(t)'][i])))\n",
    "    v = v *((lam*df['PMd2(t)'][i]) + ((1-lam)*(df['P_Mc(t)'][i])))\n",
    "    w = w *((lam*df['PMd3(t)'][i]) + ((1-lam)*(df['P_Mc(t)'][i])))\n",
    "    x = x *((lam*df['PMd4(t)'][i]) + ((1-lam)*(df['P_Mc(t)'][i])))\n",
    "lis = [round(u,4),round(v,4),round(w,4),round(x,4)]\n",
    "print(lis)\n",
    "print(sorted(lis))\n",
    "print(sorted(lis, reverse = True))"
   ]
  },
  {
   "cell_type": "code",
   "execution_count": 11,
   "metadata": {},
   "outputs": [],
   "source": [
    "#D2 is highest ranked "
   ]
  },
  {
   "cell_type": "code",
   "execution_count": 46,
   "metadata": {},
   "outputs": [
    {
     "name": "stdout",
     "output_type": "stream",
     "text": [
      "{'the', 'tomorrow', 'weather', 'Koblenz', 'week', 'next', 'Amsterdam', 'forecast', 'in'}\n",
      "5\n",
      "[0, 2, 0, 0, 0, 0, 0, 3, 0]\n",
      "[0.6, 0.4, 0.0, 0.0, 0.0, 0.0, 0.0, 0.0, 0.0]\n"
     ]
    }
   ],
   "source": [
    "#Bigram model\n",
    "\n",
    "𝑞0 =  \"the weather forecast in Koblenz\"\n",
    "𝑞1 =  \"next week weather forecast\"\n",
    "𝑞2 = \"the weather tomorrow\"\n",
    "𝑞3 = \"weather forecast Amsterdam\"\n",
    "𝑞4 = \"the weather tomorrow in\"\n",
    "corp = [q0,q1,q2,q3,q4]\n",
    "\n",
    "q = \"the weather\"\n",
    "\n",
    "\n",
    "words = set(q0.split()+q1.split()+q2.split()+q3.split()+q4.split())\n",
    "print(words)\n",
    "\n",
    "l = []\n",
    "for i in corp:\n",
    "    c = i.count(\"weather\")\n",
    "    l.append(c)\n",
    "print(sum(l))\n",
    "\n",
    "l2 = []\n",
    "for i in words:\n",
    "    q0_c = q0.count(\"weather \"+i)\n",
    "    q1_c = q1.count(\"weather \"+i)\n",
    "    q2_c = q2.count(\"weather \"+i)\n",
    "    q3_c = q3.count(\"weather \"+i)\n",
    "    q4_c = q4.count(\"weather \"+i)\n",
    "    l2.append(q0_c+q1_c+q2_c+q3_c+q4_c)\n",
    "print(l2)\n",
    "\n",
    "l3 = []\n",
    "for j in l2:\n",
    "    m = j/5\n",
    "    l3.append(m)\n",
    "print(sorted(l3,reverse=True))"
   ]
  },
  {
   "cell_type": "code",
   "execution_count": 45,
   "metadata": {},
   "outputs": [
    {
     "name": "stdout",
     "output_type": "stream",
     "text": [
      "{'the', 'tomorrow', 'weather', 'Koblenz', 'week', 'next', 'Amsterdam', 'forecast', 'in'}\n",
      "3\n",
      "[0, 2, 0, 0, 0, 0, 0, 1, 0]\n",
      "[0.6667, 0.3333, 0, 0, 0, 0, 0, 0, 0]\n"
     ]
    }
   ],
   "source": [
    "#Trigram model\n",
    "\n",
    "𝑞0 =  \"the weather forecast in Koblenz\"\n",
    "𝑞1 =  \"next week weather forecast\"\n",
    "𝑞2 = \"the weather tomorrow\"\n",
    "𝑞3 = \"weather forecast Amsterdam\"\n",
    "𝑞4 = \"the weather tomorrow in\"\n",
    "corp = [q0,q1,q2,q3,q4]\n",
    "\n",
    "q = \"the weather\"\n",
    "\n",
    "\n",
    "words = set(q0.split()+q1.split()+q2.split()+q3.split()+q4.split())\n",
    "print(words)\n",
    "\n",
    "l = []\n",
    "for i in corp:\n",
    "    c = i.count(\"the weather\")\n",
    "    l.append(c)\n",
    "s = sum(l)\n",
    "print(s)\n",
    "\n",
    "l2 = []\n",
    "for i in words:\n",
    "    q0_c = q0.count(\"the weather \"+i)\n",
    "    q1_c = q1.count(\"the weather \"+i)\n",
    "    q2_c = q2.count(\"the weather \"+i)\n",
    "    q3_c = q3.count(\"the weather \"+i)\n",
    "    q4_c = q4.count(\"the weather \"+i)\n",
    "    l2.append(q0_c+q1_c+q2_c+q3_c+q4_c)\n",
    "print(l2)\n",
    "\n",
    "l3 = []\n",
    "for j in l2:\n",
    "    if j==0:\n",
    "        l3.append(0)\n",
    "    else:\n",
    "        m = j/s\n",
    "        l3.append(round(m,4))\n",
    "print(sorted(l3,reverse=True))"
   ]
  },
  {
   "cell_type": "code",
   "execution_count": null,
   "metadata": {},
   "outputs": [],
   "source": []
  },
  {
   "cell_type": "code",
   "execution_count": null,
   "metadata": {},
   "outputs": [],
   "source": []
  },
  {
   "cell_type": "code",
   "execution_count": null,
   "metadata": {},
   "outputs": [],
   "source": []
  }
 ],
 "metadata": {
  "kernelspec": {
   "display_name": "Python 3",
   "language": "python",
   "name": "python3"
  },
  "language_info": {
   "codemirror_mode": {
    "name": "ipython",
    "version": 3
   },
   "file_extension": ".py",
   "mimetype": "text/x-python",
   "name": "python",
   "nbconvert_exporter": "python",
   "pygments_lexer": "ipython3",
   "version": "3.8.8"
  }
 },
 "nbformat": 4,
 "nbformat_minor": 4
}

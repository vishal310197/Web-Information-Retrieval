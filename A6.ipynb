{
 "cells": [
  {
   "cell_type": "code",
   "execution_count": 1,
   "id": "32898ffe",
   "metadata": {},
   "outputs": [],
   "source": [
    "import pandas as pd\n",
    "import numpy as np"
   ]
  },
  {
   "cell_type": "markdown",
   "id": "271503e6",
   "metadata": {},
   "source": [
    "# Shingles"
   ]
  },
  {
   "cell_type": "code",
   "execution_count": 2,
   "id": "36af7c52",
   "metadata": {},
   "outputs": [],
   "source": [
    "d0 = (\"shall see sun soon\").split()\n",
    "d1 = (\"we shall see sun shine soon\").split()"
   ]
  },
  {
   "cell_type": "code",
   "execution_count": 3,
   "id": "cd5b885b",
   "metadata": {},
   "outputs": [],
   "source": [
    "def shingles(d0,d1,n):\n",
    "    a = []\n",
    "    b = []\n",
    "    for i in range(0,len(d0)):\n",
    "        if(i<=len(d0)-n):\n",
    "            a.append(d0[i:i+n])\n",
    "    a = set(tuple(x) for x in a)\n",
    "    print(a)\n",
    "    \n",
    "    for i in range(0,len(d1)):\n",
    "        if(i<=len(d1)-n):\n",
    "            b.append(d1[i:i+n])\n",
    "    b = set(tuple(x) for x in b)\n",
    "    print(b)\n",
    "    \n",
    "    res = len(a.intersection(b))/len(a.union(b))\n",
    "    print(res)\n",
    "    "
   ]
  },
  {
   "cell_type": "code",
   "execution_count": 4,
   "id": "75d87ae1",
   "metadata": {},
   "outputs": [
    {
     "name": "stdout",
     "output_type": "stream",
     "text": [
      "{('see', 'sun'), ('sun', 'soon'), ('shall', 'see')}\n",
      "{('see', 'sun'), ('shall', 'see'), ('we', 'shall'), ('sun', 'shine'), ('shine', 'soon')}\n",
      "0.3333333333333333\n"
     ]
    }
   ],
   "source": [
    "shingles(d0,d1,2)"
   ]
  },
  {
   "cell_type": "code",
   "execution_count": 38,
   "id": "f13621fc",
   "metadata": {},
   "outputs": [
    {
     "name": "stdout",
     "output_type": "stream",
     "text": [
      "{('the', 'bottom', 'of'), ('the', 'log', 'in'), ('bottom', 'of', 'the'), ('the', 'hole', 'in'), ('on', 'the', 'log'), ('in', 'the', 'hole'), ('in', 'the', 'bottom'), ('hole', 'in', 'the'), ('of', 'the', 'sea'), ('a', 'bump', 'on'), ('log', 'in', 'the'), ('bump', 'on', 'the')}\n",
      "{('the', 'bump', 'on'), ('the', 'bottom', 'of'), ('the', 'log', 'in'), ('on', 'the', 'bump'), ('bottom', 'of', 'the'), ('the', 'hole', 'in'), ('on', 'the', 'log'), ('in', 'the', 'hole'), ('in', 'the', 'bottom'), ('frog', 'on', 'the'), ('hole', 'in', 'the'), ('of', 'the', 'sea'), ('log', 'in', 'the'), ('a', 'frog', 'on'), ('bump', 'on', 'the')}\n",
      "0.6875\n"
     ]
    }
   ],
   "source": [
    "shingles(d0,d1,3)"
   ]
  },
  {
   "cell_type": "code",
   "execution_count": 41,
   "id": "8b6fa6f4",
   "metadata": {},
   "outputs": [],
   "source": [
    "d2 = (\"your mother drives you in the car\").split()\n",
    "d3 = (\"in mother russia car drives you\").split()"
   ]
  },
  {
   "cell_type": "code",
   "execution_count": 42,
   "id": "18aeeaeb",
   "metadata": {},
   "outputs": [
    {
     "name": "stdout",
     "output_type": "stream",
     "text": [
      "{('the', 'car'), ('you', 'in'), ('drives', 'you'), ('in', 'the'), ('mother', 'drives'), ('your', 'mother')}\n",
      "{('mother', 'russia'), ('drives', 'you'), ('in', 'mother'), ('russia', 'car'), ('car', 'drives')}\n",
      "0.1\n"
     ]
    }
   ],
   "source": [
    "shingles(d2,d3,2)"
   ]
  },
  {
   "cell_type": "code",
   "execution_count": 43,
   "id": "12a2fa8c",
   "metadata": {},
   "outputs": [
    {
     "name": "stdout",
     "output_type": "stream",
     "text": [
      "{('you', 'in', 'the'), ('mother', 'drives', 'you'), ('your', 'mother', 'drives'), ('in', 'the', 'car'), ('drives', 'you', 'in')}\n",
      "{('in', 'mother', 'russia'), ('mother', 'russia', 'car'), ('russia', 'car', 'drives'), ('car', 'drives', 'you')}\n",
      "0.0\n"
     ]
    }
   ],
   "source": [
    "shingles(d2,d3,3)"
   ]
  },
  {
   "cell_type": "code",
   "execution_count": null,
   "id": "f8379b28",
   "metadata": {},
   "outputs": [],
   "source": []
  }
 ],
 "metadata": {
  "kernelspec": {
   "display_name": "Python 3",
   "language": "python",
   "name": "python3"
  },
  "language_info": {
   "codemirror_mode": {
    "name": "ipython",
    "version": 3
   },
   "file_extension": ".py",
   "mimetype": "text/x-python",
   "name": "python",
   "nbconvert_exporter": "python",
   "pygments_lexer": "ipython3",
   "version": "3.8.8"
  }
 },
 "nbformat": 4,
 "nbformat_minor": 5
}

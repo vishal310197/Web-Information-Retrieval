{
 "cells": [
  {
   "cell_type": "code",
   "execution_count": 3,
   "id": "9119c689",
   "metadata": {},
   "outputs": [],
   "source": [
    "## Assignment 9\n",
    "## Power Iteration Method\n",
    "import numpy as np"
   ]
  },
  {
   "cell_type": "code",
   "execution_count": 4,
   "id": "609e92e5",
   "metadata": {},
   "outputs": [],
   "source": [
    "## start vector x and a is transition matrix which is given in th question\n",
    "x = np.array([0.1666,0.1666,0.1666,0.1666,0.1666,0.1666])\n",
    "a = np.array([[0.0333,0.0333,0.4333,0.0333,0.0333,0.4333],\n",
    "              [0.0333,0.0333,0.0333,0.0333,0.0333,0.8333],\n",
    "              [0.0333,0.8333,0.0333,0.0333,0.0333,0.0333],\n",
    "              [0.4333,0.4333,0.0333,0.0333,0.0333,0.0333],\n",
    "              [0.0333,0.0333,0.3,0.3,0.0333,0.3],\n",
    "              [0.1666,0.1666,0.1666,0.1666,0.1666,0.1666]\n",
    "            \n",
    "            ])\n",
    "\n",
    "## .T means transpose\n"
   ]
  },
  {
   "cell_type": "code",
   "execution_count": 5,
   "id": "fddc65ee",
   "metadata": {},
   "outputs": [
    {
     "data": {
      "text/plain": [
       "array([[0.00554778, 0.00554778, 0.07218778, 0.00554778, 0.00554778,\n",
       "        0.07218778],\n",
       "       [0.00554778, 0.00554778, 0.00554778, 0.00554778, 0.00554778,\n",
       "        0.13882778],\n",
       "       [0.00554778, 0.13882778, 0.00554778, 0.00554778, 0.00554778,\n",
       "        0.00554778],\n",
       "       [0.07218778, 0.07218778, 0.00554778, 0.00554778, 0.00554778,\n",
       "        0.00554778],\n",
       "       [0.00554778, 0.00554778, 0.04998   , 0.04998   , 0.00554778,\n",
       "        0.04998   ],\n",
       "       [0.02775556, 0.02775556, 0.02775556, 0.02775556, 0.02775556,\n",
       "        0.02775556]])"
      ]
     },
     "execution_count": 5,
     "metadata": {},
     "output_type": "execute_result"
    }
   ],
   "source": [
    "a*x"
   ]
  },
  {
   "cell_type": "code",
   "execution_count": 6,
   "id": "11f6241e",
   "metadata": {},
   "outputs": [],
   "source": [
    "A = np.matrix(a)  ##converting transpose matrix vakues into float values matrix\n",
    "X0 = np.matrix([1/6,1/6,1/6,1/6,1/6,1/6]).T\n",
    "iteration = 5     ## depend on the number of iteration required in question"
   ]
  },
  {
   "cell_type": "code",
   "execution_count": 7,
   "id": "fe5f9b4a",
   "metadata": {},
   "outputs": [
    {
     "data": {
      "text/plain": [
       "matrix([[0.0333, 0.0333, 0.4333, 0.0333, 0.0333, 0.4333],\n",
       "        [0.0333, 0.0333, 0.0333, 0.0333, 0.0333, 0.8333],\n",
       "        [0.0333, 0.8333, 0.0333, 0.0333, 0.0333, 0.0333],\n",
       "        [0.4333, 0.4333, 0.0333, 0.0333, 0.0333, 0.0333],\n",
       "        [0.0333, 0.0333, 0.3   , 0.3   , 0.0333, 0.3   ],\n",
       "        [0.1666, 0.1666, 0.1666, 0.1666, 0.1666, 0.1666]])"
      ]
     },
     "execution_count": 7,
     "metadata": {},
     "output_type": "execute_result"
    }
   ],
   "source": [
    "A"
   ]
  },
  {
   "cell_type": "code",
   "execution_count": 9,
   "id": "60f51036",
   "metadata": {},
   "outputs": [],
   "source": [
    "# ax where x defines the number of iterations\n",
    "a1 = X0.T*A\n",
    "a2 = X0.T*A**2\n",
    "a3 = X0.T*A**3\n",
    "a4 = X0.T*A**4\n",
    "a5 = X0.T*A**5\n",
    "\n",
    "a10 = X0.T*A**10\n",
    "a11 = X0.T*A**11\n",
    "a12 = X0.T*A**12"
   ]
  },
  {
   "cell_type": "code",
   "execution_count": 10,
   "id": "e1632e84",
   "metadata": {},
   "outputs": [
    {
     "name": "stdout",
     "output_type": "stream",
     "text": [
      "[[0.12218333 0.25551667 0.16663333 0.09996667 0.05551667 0.29996667]]\n",
      "[[0.11326501 0.24657168 0.13695797 0.08808464 0.07327834 0.3413713 ]]\n",
      "[[0.11402296 0.22358934 0.14363845 0.09833244 0.07878911 0.34089579]]\n",
      "[[0.11805001 0.23296077 0.14533928 0.09973009 0.07871704 0.32421075]]\n",
      "[[0.11637629 0.23264771 0.14469809 0.09747809 0.07648426 0.33106671]]\n"
     ]
    }
   ],
   "source": [
    "print(a1)\n",
    "print(a2)\n",
    "print(a3)\n",
    "print(a4)\n",
    "print(a5)\n",
    " \n",
    "## printing out the desired values for here it was 5 iteration \"a5\" is the answere for it\n"
   ]
  },
  {
   "cell_type": "code",
   "execution_count": 13,
   "id": "2d1af9e0",
   "metadata": {},
   "outputs": [
    {
     "name": "stdout",
     "output_type": "stream",
     "text": [
      "2 iteration [[-0.00891833 -0.00894499 -0.02967536 -0.01188203  0.01776167  0.04140464]] [[ True  True  True  True False False]]\n",
      "3 iteration [[ 0.00075795 -0.02298234  0.00668048  0.01024781  0.00551077 -0.00047552]] [[ True  True False False False  True]]\n",
      "4 iteration [[ 4.02704920e-03  9.37142946e-03  1.70083037e-03  1.39764852e-03\n",
      "  -7.20729291e-05 -1.66850385e-02]] [[False False False False  True  True]]\n",
      "5 iteration [[-0.00167372 -0.00031306 -0.00064118 -0.002252   -0.00223278  0.00685596]] [[ True  True  True  True  True False]]\n",
      "11 iteration [[-3.01076365e-05 -6.11833642e-05 -3.41319460e-05 -2.55847976e-05\n",
      "  -2.56436157e-05 -8.10965247e-05]] [[ True  True  True  True  True  True]]\n",
      "12 iteration [[-2.96270903e-05 -5.69326471e-05 -3.82753782e-05 -2.62323236e-05\n",
      "  -1.93931713e-05 -8.72220695e-05]] [[ True  True  True  True  True  True]]\n"
     ]
    }
   ],
   "source": [
    "## For Convergence check the iteration as well as difference between two a's\n",
    "print(\"2 iteration\",a2-a1,a2-a1 <= [0.001,0.001,0.001,0.001,0.001,0.001])\n",
    "print(\"3 iteration\",a3-a2,a3-a2 <= [0.001,0.001,0.001,0.001,0.001,0.001])\n",
    "print(\"4 iteration\",a4-a3,a4-a3 <= [0.001,0.001,0.001,0.001,0.001,0.001])\n",
    "print(\"5 iteration\",a5-a4,a5-a4 <= [0.001,0.001,0.001,0.001,0.001,0.001])\n",
    "\n",
    "\n",
    "print(\"11 iteration\",a11-a10,a11-a10 <= [0.001,0.001,0.001,0.001,0.001,0.001])\n",
    "\n",
    "print(\"12 iteration\",a12-a11,a12-a11 <= [0.001,0.001,0.001,0.001,0.001,0.001])"
   ]
  },
  {
   "cell_type": "code",
   "execution_count": 38,
   "id": "2ddf7c30",
   "metadata": {},
   "outputs": [],
   "source": [
    "## Rank Questions of Assignement 9"
   ]
  },
  {
   "cell_type": "code",
   "execution_count": 39,
   "id": "faca7ed2",
   "metadata": {},
   "outputs": [],
   "source": [
    "A = np.array([[1,0,1,0,1],[0,0,0,1,1],[1,0,0,0,1],[0,0,0,1,1],[1,0,0,0,0]])  ##according to question\n",
    "A = A.astype('float64')"
   ]
  },
  {
   "cell_type": "code",
   "execution_count": 40,
   "id": "006a157c",
   "metadata": {},
   "outputs": [
    {
     "data": {
      "text/plain": [
       "array([[1., 0., 1., 0., 1.],\n",
       "       [0., 0., 0., 1., 1.],\n",
       "       [1., 0., 0., 0., 1.],\n",
       "       [0., 0., 0., 1., 1.],\n",
       "       [1., 0., 0., 0., 0.]])"
      ]
     },
     "execution_count": 40,
     "metadata": {},
     "output_type": "execute_result"
    }
   ],
   "source": [
    "A"
   ]
  },
  {
   "cell_type": "code",
   "execution_count": 41,
   "id": "3bf013e7",
   "metadata": {},
   "outputs": [],
   "source": [
    "import matplotlib.pyplot as plt\n",
    "import networkx as nx\n",
    "import numpy as np\n"
   ]
  },
  {
   "cell_type": "code",
   "execution_count": 42,
   "id": "dd6f1488",
   "metadata": {},
   "outputs": [],
   "source": [
    "# ## for drawing the matrix\n",
    "# G = nx.from_numpy_matrix(np.matrix(A),create_using=nx.DiGraph)\n",
    "# layout = nx.spring_layout(G)\n",
    "# nx.draw_networkx_edge_lables(G,pos=layout)\n",
    "# plt.show()"
   ]
  },
  {
   "cell_type": "code",
   "execution_count": 43,
   "id": "2ab2441d",
   "metadata": {},
   "outputs": [],
   "source": [
    "## converting to adj matrix with transpose\n",
    "adj_mat =A.T"
   ]
  },
  {
   "cell_type": "code",
   "execution_count": 44,
   "id": "7c0de0b6",
   "metadata": {},
   "outputs": [],
   "source": [
    "## Degree Calculation\n",
    "def deg_calc(adj_mat):\n",
    "    return(adj_mat.sum(axis=0),adj_mat.sum(axis=1))"
   ]
  },
  {
   "cell_type": "code",
   "execution_count": 45,
   "id": "09cfbc75",
   "metadata": {},
   "outputs": [],
   "source": [
    "in_d,out_d = deg_calc(A)"
   ]
  },
  {
   "cell_type": "code",
   "execution_count": 46,
   "id": "17bb9c3d",
   "metadata": {},
   "outputs": [
    {
     "data": {
      "text/plain": [
       "(array([3., 0., 1., 2., 4.]), array([3., 2., 2., 2., 1.]))"
      ]
     },
     "execution_count": 46,
     "metadata": {},
     "output_type": "execute_result"
    }
   ],
   "source": [
    "in_d,out_d"
   ]
  },
  {
   "cell_type": "code",
   "execution_count": 47,
   "id": "8785889d",
   "metadata": {},
   "outputs": [
    {
     "data": {
      "text/plain": [
       "array([ True, False, False,  True, False])"
      ]
     },
     "execution_count": 47,
     "metadata": {},
     "output_type": "execute_result"
    }
   ],
   "source": [
    "in_d == out_d"
   ]
  },
  {
   "cell_type": "code",
   "execution_count": 48,
   "id": "292c6172",
   "metadata": {},
   "outputs": [],
   "source": [
    "diff_array = in_d - out_d"
   ]
  },
  {
   "cell_type": "code",
   "execution_count": 49,
   "id": "abd33a33",
   "metadata": {},
   "outputs": [
    {
     "data": {
      "text/plain": [
       "array([0., 2., 1., 0., 3.])"
      ]
     },
     "execution_count": 49,
     "metadata": {},
     "output_type": "execute_result"
    }
   ],
   "source": [
    "##difference between In and Out-Degree\n",
    "np.absolute(diff_array)\n",
    "\n",
    "## Range is found from max - min degree i.e 3-0 = 3"
   ]
  },
  {
   "cell_type": "code",
   "execution_count": 50,
   "id": "9678fb02",
   "metadata": {},
   "outputs": [],
   "source": [
    "### STM  Stochastic Transition Matrix (STM) \n",
    "def stm_calc(adj_mat, alpha):\n",
    "    count = adj_mat.sum(axis = 1)\n",
    "    print(\"count of degrees\",count)\n",
    "    z_row = np.where(~adj_mat.any(axis=1))[0]\n",
    "    print(z_row)\n",
    "    if(z_row.size):\n",
    "        for item in z-row:\n",
    "            #print item\n",
    "            adj_mat[item,:] = float(1/len(adj_mat))\n",
    "    print(\"\\n when encouraging a row with all zeroes\\n\",adj_mat)\n",
    "    \n",
    "    for i in range(len(count)):\n",
    "        if(i in z_row):\n",
    "            continue\n",
    "        else:\n",
    "            adj_mat[i] = adj_mat[i]/count[i]\n",
    "    \n",
    "    adj_mat = np.where(np.isnan(adj_mat),0,adj_mat)\n",
    "    print(\"\\n divide all by the number of \",adj_mat)\n",
    "    \n",
    "    adj_mat = (adj_mat*(1-alpha))\n",
    "    print(\"\\n multiply matrix by 1-alpha of \",adj_mat)\n",
    "    \n",
    "    adj_mat = adj_mat + (alpha/len(count))\n",
    "    print(\"\\n adding alpha/n to all matrix \",adj_mat)\n",
    "        \n",
    "    return(adj_mat)    "
   ]
  },
  {
   "cell_type": "code",
   "execution_count": 51,
   "id": "a78ed347",
   "metadata": {},
   "outputs": [
    {
     "name": "stdout",
     "output_type": "stream",
     "text": [
      "count of degrees [3. 2. 2. 2. 1.]\n",
      "[]\n",
      "\n",
      " when encouraging a row with all zeroes\n",
      " [[1. 0. 1. 0. 1.]\n",
      " [0. 0. 0. 1. 1.]\n",
      " [1. 0. 0. 0. 1.]\n",
      " [0. 0. 0. 1. 1.]\n",
      " [1. 0. 0. 0. 0.]]\n",
      "\n",
      " divide all by the number of  [[0.33333333 0.         0.33333333 0.         0.33333333]\n",
      " [0.         0.         0.         0.5        0.5       ]\n",
      " [0.5        0.         0.         0.         0.5       ]\n",
      " [0.         0.         0.         0.5        0.5       ]\n",
      " [1.         0.         0.         0.         0.        ]]\n",
      "\n",
      " multiply matrix by 1-alpha of  [[0.3  0.   0.3  0.   0.3 ]\n",
      " [0.   0.   0.   0.45 0.45]\n",
      " [0.45 0.   0.   0.   0.45]\n",
      " [0.   0.   0.   0.45 0.45]\n",
      " [0.9  0.   0.   0.   0.  ]]\n",
      "\n",
      " adding alpha/n to all matrix  [[0.32 0.02 0.32 0.02 0.32]\n",
      " [0.02 0.02 0.02 0.47 0.47]\n",
      " [0.47 0.02 0.02 0.02 0.47]\n",
      " [0.02 0.02 0.02 0.47 0.47]\n",
      " [0.92 0.02 0.02 0.02 0.02]]\n",
      "\n",
      " STM \n",
      " [[0.32 0.02 0.32 0.02 0.32]\n",
      " [0.02 0.02 0.02 0.47 0.47]\n",
      " [0.47 0.02 0.02 0.02 0.47]\n",
      " [0.02 0.02 0.02 0.47 0.47]\n",
      " [0.92 0.02 0.02 0.02 0.02]]\n"
     ]
    }
   ],
   "source": [
    "S_T_M = stm_calc(A,0.1)\n",
    "print(\"\\n STM \\n\",S_T_M)"
   ]
  },
  {
   "cell_type": "code",
   "execution_count": 52,
   "id": "5313c528",
   "metadata": {},
   "outputs": [
    {
     "data": {
      "text/plain": [
       "0.2"
      ]
     },
     "execution_count": 52,
     "metadata": {},
     "output_type": "execute_result"
    }
   ],
   "source": [
    "# Page Rank Inintial Vector is 1/n where n is number nodes(rows)\n",
    "1/5"
   ]
  },
  {
   "cell_type": "code",
   "execution_count": 53,
   "id": "b5cc361b",
   "metadata": {},
   "outputs": [],
   "source": [
    "#[0.2,0.2,0.2,0.2,0.2] is the initial vector then"
   ]
  },
  {
   "cell_type": "code",
   "execution_count": 54,
   "id": "fa5ea8d8",
   "metadata": {},
   "outputs": [],
   "source": [
    "def rank_calc(stm,X):\n",
    "    c = len(stm.sum(axis=1))\n",
    "    prob = 1/c\n",
    "    vec_x0 = np.full((1,c),prob)\n",
    "    print(\"intial vetor\",vec_x0)\n",
    "    while(X!=0):\n",
    "        vec_x0 = np.dot(vec_x0,stm)\n",
    "        X = X-1\n",
    "        print(vec_x0)"
   ]
  },
  {
   "cell_type": "code",
   "execution_count": 55,
   "id": "388f27c2",
   "metadata": {},
   "outputs": [
    {
     "name": "stdout",
     "output_type": "stream",
     "text": [
      "intial vetor [[0.2 0.2 0.2 0.2 0.2]]\n",
      "[[0.35 0.02 0.08 0.2  0.35]]\n",
      "[[0.476 0.02  0.125 0.119 0.26 ]]\n",
      "[[0.45305 0.02    0.1628  0.08255 0.2816 ]]\n",
      "[[0.482615  0.02      0.155915  0.0661475 0.2753225]]\n",
      "[[0.4827365  0.02       0.1647845  0.05876638 0.27371263]]\n"
     ]
    }
   ],
   "source": [
    "rank_calc(S_T_M,5)"
   ]
  },
  {
   "cell_type": "markdown",
   "id": "f0aa363a",
   "metadata": {},
   "source": [
    "# After 5 itertation PAger rank solution\n",
    "\n",
    "[[0.4827365  0.02       0.1647845  0.05876638 0.27371263]]\n",
    "is answerer for"
   ]
  },
  {
   "cell_type": "code",
   "execution_count": null,
   "id": "a5bc2c31",
   "metadata": {},
   "outputs": [],
   "source": []
  },
  {
   "cell_type": "code",
   "execution_count": null,
   "id": "ada1c4b6",
   "metadata": {},
   "outputs": [],
   "source": []
  }
 ],
 "metadata": {
  "kernelspec": {
   "display_name": "Python 3",
   "language": "python",
   "name": "python3"
  },
  "language_info": {
   "codemirror_mode": {
    "name": "ipython",
    "version": 3
   },
   "file_extension": ".py",
   "mimetype": "text/x-python",
   "name": "python",
   "nbconvert_exporter": "python",
   "pygments_lexer": "ipython3",
   "version": "3.8.8"
  }
 },
 "nbformat": 4,
 "nbformat_minor": 5
}

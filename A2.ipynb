{
 "cells": [
  {
   "cell_type": "code",
   "execution_count": 1,
   "id": "768dede1",
   "metadata": {},
   "outputs": [],
   "source": [
    "import pandas as pd\n",
    "import numpy as np\n"
   ]
  },
  {
   "cell_type": "code",
   "execution_count": 2,
   "id": "73f040bd",
   "metadata": {},
   "outputs": [
    {
     "data": {
      "text/html": [
       "<div>\n",
       "<style scoped>\n",
       "    .dataframe tbody tr th:only-of-type {\n",
       "        vertical-align: middle;\n",
       "    }\n",
       "\n",
       "    .dataframe tbody tr th {\n",
       "        vertical-align: top;\n",
       "    }\n",
       "\n",
       "    .dataframe thead th {\n",
       "        text-align: right;\n",
       "    }\n",
       "</style>\n",
       "<table border=\"1\" class=\"dataframe\">\n",
       "  <thead>\n",
       "    <tr style=\"text-align: right;\">\n",
       "      <th></th>\n",
       "      <th>result</th>\n",
       "      <th>prediction</th>\n",
       "    </tr>\n",
       "  </thead>\n",
       "  <tbody>\n",
       "    <tr>\n",
       "      <th>0</th>\n",
       "      <td>a</td>\n",
       "      <td>a</td>\n",
       "    </tr>\n",
       "    <tr>\n",
       "      <th>1</th>\n",
       "      <td>a</td>\n",
       "      <td>d</td>\n",
       "    </tr>\n",
       "    <tr>\n",
       "      <th>2</th>\n",
       "      <td>c</td>\n",
       "      <td>b</td>\n",
       "    </tr>\n",
       "    <tr>\n",
       "      <th>3</th>\n",
       "      <td>b</td>\n",
       "      <td>b</td>\n",
       "    </tr>\n",
       "    <tr>\n",
       "      <th>4</th>\n",
       "      <td>d</td>\n",
       "      <td>e</td>\n",
       "    </tr>\n",
       "    <tr>\n",
       "      <th>5</th>\n",
       "      <td>d</td>\n",
       "      <td>d</td>\n",
       "    </tr>\n",
       "    <tr>\n",
       "      <th>6</th>\n",
       "      <td>a</td>\n",
       "      <td>a</td>\n",
       "    </tr>\n",
       "    <tr>\n",
       "      <th>7</th>\n",
       "      <td>a</td>\n",
       "      <td>e</td>\n",
       "    </tr>\n",
       "    <tr>\n",
       "      <th>8</th>\n",
       "      <td>a</td>\n",
       "      <td>b</td>\n",
       "    </tr>\n",
       "    <tr>\n",
       "      <th>9</th>\n",
       "      <td>c</td>\n",
       "      <td>a</td>\n",
       "    </tr>\n",
       "    <tr>\n",
       "      <th>10</th>\n",
       "      <td>c</td>\n",
       "      <td>c</td>\n",
       "    </tr>\n",
       "    <tr>\n",
       "      <th>11</th>\n",
       "      <td>e</td>\n",
       "      <td>e</td>\n",
       "    </tr>\n",
       "    <tr>\n",
       "      <th>12</th>\n",
       "      <td>e</td>\n",
       "      <td>a</td>\n",
       "    </tr>\n",
       "    <tr>\n",
       "      <th>13</th>\n",
       "      <td>e</td>\n",
       "      <td>b</td>\n",
       "    </tr>\n",
       "    <tr>\n",
       "      <th>14</th>\n",
       "      <td>e</td>\n",
       "      <td>d</td>\n",
       "    </tr>\n",
       "    <tr>\n",
       "      <th>15</th>\n",
       "      <td>b</td>\n",
       "      <td>b</td>\n",
       "    </tr>\n",
       "    <tr>\n",
       "      <th>16</th>\n",
       "      <td>a</td>\n",
       "      <td>a</td>\n",
       "    </tr>\n",
       "    <tr>\n",
       "      <th>17</th>\n",
       "      <td>b</td>\n",
       "      <td>b</td>\n",
       "    </tr>\n",
       "    <tr>\n",
       "      <th>18</th>\n",
       "      <td>c</td>\n",
       "      <td>c</td>\n",
       "    </tr>\n",
       "    <tr>\n",
       "      <th>19</th>\n",
       "      <td>e</td>\n",
       "      <td>e</td>\n",
       "    </tr>\n",
       "    <tr>\n",
       "      <th>20</th>\n",
       "      <td>c</td>\n",
       "      <td>c</td>\n",
       "    </tr>\n",
       "    <tr>\n",
       "      <th>21</th>\n",
       "      <td>d</td>\n",
       "      <td>d</td>\n",
       "    </tr>\n",
       "    <tr>\n",
       "      <th>22</th>\n",
       "      <td>c</td>\n",
       "      <td>a</td>\n",
       "    </tr>\n",
       "    <tr>\n",
       "      <th>23</th>\n",
       "      <td>c</td>\n",
       "      <td>b</td>\n",
       "    </tr>\n",
       "    <tr>\n",
       "      <th>24</th>\n",
       "      <td>d</td>\n",
       "      <td>d</td>\n",
       "    </tr>\n",
       "    <tr>\n",
       "      <th>25</th>\n",
       "      <td>d</td>\n",
       "      <td>b</td>\n",
       "    </tr>\n",
       "    <tr>\n",
       "      <th>26</th>\n",
       "      <td>d</td>\n",
       "      <td>d</td>\n",
       "    </tr>\n",
       "    <tr>\n",
       "      <th>27</th>\n",
       "      <td>b</td>\n",
       "      <td>b</td>\n",
       "    </tr>\n",
       "    <tr>\n",
       "      <th>28</th>\n",
       "      <td>b</td>\n",
       "      <td>e</td>\n",
       "    </tr>\n",
       "    <tr>\n",
       "      <th>29</th>\n",
       "      <td>b</td>\n",
       "      <td>a</td>\n",
       "    </tr>\n",
       "  </tbody>\n",
       "</table>\n",
       "</div>"
      ],
      "text/plain": [
       "   result prediction\n",
       "0       a          a\n",
       "1       a          d\n",
       "2       c          b\n",
       "3       b          b\n",
       "4       d          e\n",
       "5       d          d\n",
       "6       a          a\n",
       "7       a          e\n",
       "8       a          b\n",
       "9       c          a\n",
       "10      c          c\n",
       "11      e          e\n",
       "12      e          a\n",
       "13      e          b\n",
       "14      e          d\n",
       "15      b          b\n",
       "16      a          a\n",
       "17      b          b\n",
       "18      c          c\n",
       "19      e          e\n",
       "20      c          c\n",
       "21      d          d\n",
       "22      c          a\n",
       "23      c          b\n",
       "24      d          d\n",
       "25      d          b\n",
       "26      d          d\n",
       "27      b          b\n",
       "28      b          e\n",
       "29      b          a"
      ]
     },
     "execution_count": 2,
     "metadata": {},
     "output_type": "execute_result"
    }
   ],
   "source": [
    "df = pd.read_csv(\"prf.csv\")\n",
    "df"
   ]
  },
  {
   "cell_type": "code",
   "execution_count": null,
   "id": "8ff4e755",
   "metadata": {},
   "outputs": [],
   "source": []
  },
  {
   "cell_type": "markdown",
   "id": "b0439549",
   "metadata": {},
   "source": [
    "# Precision,Recall,Accuracy By CM"
   ]
  },
  {
   "cell_type": "code",
   "execution_count": 3,
   "id": "aea06265",
   "metadata": {},
   "outputs": [
    {
     "data": {
      "text/html": [
       "<div>\n",
       "<style scoped>\n",
       "    .dataframe tbody tr th:only-of-type {\n",
       "        vertical-align: middle;\n",
       "    }\n",
       "\n",
       "    .dataframe tbody tr th {\n",
       "        vertical-align: top;\n",
       "    }\n",
       "\n",
       "    .dataframe thead th {\n",
       "        text-align: right;\n",
       "    }\n",
       "</style>\n",
       "<table border=\"1\" class=\"dataframe\">\n",
       "  <thead>\n",
       "    <tr style=\"text-align: right;\">\n",
       "      <th>prediction</th>\n",
       "      <th>a</th>\n",
       "      <th>b</th>\n",
       "      <th>c</th>\n",
       "      <th>d</th>\n",
       "      <th>e</th>\n",
       "    </tr>\n",
       "    <tr>\n",
       "      <th>result</th>\n",
       "      <th></th>\n",
       "      <th></th>\n",
       "      <th></th>\n",
       "      <th></th>\n",
       "      <th></th>\n",
       "    </tr>\n",
       "  </thead>\n",
       "  <tbody>\n",
       "    <tr>\n",
       "      <th>a</th>\n",
       "      <td>3</td>\n",
       "      <td>1</td>\n",
       "      <td>0</td>\n",
       "      <td>1</td>\n",
       "      <td>1</td>\n",
       "    </tr>\n",
       "    <tr>\n",
       "      <th>b</th>\n",
       "      <td>1</td>\n",
       "      <td>4</td>\n",
       "      <td>0</td>\n",
       "      <td>0</td>\n",
       "      <td>1</td>\n",
       "    </tr>\n",
       "    <tr>\n",
       "      <th>c</th>\n",
       "      <td>2</td>\n",
       "      <td>2</td>\n",
       "      <td>3</td>\n",
       "      <td>0</td>\n",
       "      <td>0</td>\n",
       "    </tr>\n",
       "    <tr>\n",
       "      <th>d</th>\n",
       "      <td>0</td>\n",
       "      <td>1</td>\n",
       "      <td>0</td>\n",
       "      <td>4</td>\n",
       "      <td>1</td>\n",
       "    </tr>\n",
       "    <tr>\n",
       "      <th>e</th>\n",
       "      <td>1</td>\n",
       "      <td>1</td>\n",
       "      <td>0</td>\n",
       "      <td>1</td>\n",
       "      <td>2</td>\n",
       "    </tr>\n",
       "  </tbody>\n",
       "</table>\n",
       "</div>"
      ],
      "text/plain": [
       "prediction  a  b  c  d  e\n",
       "result                   \n",
       "a           3  1  0  1  1\n",
       "b           1  4  0  0  1\n",
       "c           2  2  3  0  0\n",
       "d           0  1  0  4  1\n",
       "e           1  1  0  1  2"
      ]
     },
     "execution_count": 3,
     "metadata": {},
     "output_type": "execute_result"
    }
   ],
   "source": [
    "cm = pd.crosstab(df['result'],df['prediction'], rownames =['result'], colnames = ['prediction'])\n",
    "cm"
   ]
  },
  {
   "cell_type": "code",
   "execution_count": 17,
   "id": "4775e5f3",
   "metadata": {},
   "outputs": [],
   "source": [
    "def pre(cm):\n",
    "    res = []\n",
    "    for i in (np.diag(cm),list(np.sum(cm, axis=1))):\n",
    "        res.append(np.diag(cm)/list(np.sum(cm, axis=1)))\n",
    "        return res"
   ]
  },
  {
   "cell_type": "code",
   "execution_count": 18,
   "id": "60ad77f6",
   "metadata": {},
   "outputs": [],
   "source": [
    "def rec(cm):\n",
    "    res = []\n",
    "    for i in (np.diag(cm),list(np.sum(cm))):\n",
    "        res.append(np.diag(cm)/list(np.sum(cm)))\n",
    "        return res"
   ]
  },
  {
   "cell_type": "code",
   "execution_count": 19,
   "id": "57f12eda",
   "metadata": {},
   "outputs": [],
   "source": [
    "def f1(cm):\n",
    "    res = []\n",
    "    p = pre(cm)\n",
    "    r = rec(cm)\n",
    "    for i,j in zip(p,r):\n",
    "        res.append((2*i*j)/(i+j))\n",
    "    return res"
   ]
  },
  {
   "cell_type": "code",
   "execution_count": 20,
   "id": "9b60b247",
   "metadata": {},
   "outputs": [],
   "source": [
    "def accuracy(cm):\n",
    "    return((np.sum(np.diag(cm)))/(np.sum(np.sum(cm))))"
   ]
  },
  {
   "cell_type": "code",
   "execution_count": 21,
   "id": "06a4c11a",
   "metadata": {},
   "outputs": [
    {
     "data": {
      "text/plain": [
       "[array([0.5       , 0.66666667, 0.42857143, 0.66666667, 0.4       ])]"
      ]
     },
     "execution_count": 21,
     "metadata": {},
     "output_type": "execute_result"
    }
   ],
   "source": [
    "pre(cm)"
   ]
  },
  {
   "cell_type": "code",
   "execution_count": 22,
   "id": "9eee1af0",
   "metadata": {},
   "outputs": [
    {
     "data": {
      "text/plain": [
       "[array([0.42857143, 0.44444444, 1.        , 0.66666667, 0.4       ])]"
      ]
     },
     "execution_count": 22,
     "metadata": {},
     "output_type": "execute_result"
    }
   ],
   "source": [
    "rec(cm)"
   ]
  },
  {
   "cell_type": "code",
   "execution_count": 23,
   "id": "70049eca",
   "metadata": {},
   "outputs": [
    {
     "data": {
      "text/plain": [
       "[array([0.46153846, 0.53333333, 0.6       , 0.66666667, 0.4       ])]"
      ]
     },
     "execution_count": 23,
     "metadata": {},
     "output_type": "execute_result"
    }
   ],
   "source": [
    "f1(cm)"
   ]
  },
  {
   "cell_type": "code",
   "execution_count": 24,
   "id": "4879667b",
   "metadata": {},
   "outputs": [
    {
     "data": {
      "text/plain": [
       "0.5333333333333333"
      ]
     },
     "execution_count": 24,
     "metadata": {},
     "output_type": "execute_result"
    }
   ],
   "source": [
    "accuracy(cm)"
   ]
  },
  {
   "cell_type": "markdown",
   "id": "a8d9e788",
   "metadata": {},
   "source": [
    "# Precision,Recall By Query"
   ]
  },
  {
   "cell_type": "code",
   "execution_count": 5,
   "id": "81a468e7",
   "metadata": {},
   "outputs": [
    {
     "data": {
      "text/plain": [
       "0.5"
      ]
     },
     "execution_count": 5,
     "metadata": {},
     "output_type": "execute_result"
    }
   ],
   "source": [
    "#precision \n",
    "#out of retrieved results , which fraction is relevant\n",
    "#setosa\n",
    "df.query('result == \"a\" and prediction==\"a\"').shape[0]/df.query('result == \"a\" ').shape[0]"
   ]
  },
  {
   "cell_type": "code",
   "execution_count": 6,
   "id": "b3d7443a",
   "metadata": {},
   "outputs": [
    {
     "data": {
      "text/plain": [
       "0.6666666666666666"
      ]
     },
     "execution_count": 6,
     "metadata": {},
     "output_type": "execute_result"
    }
   ],
   "source": [
    "#virginica\n",
    "df.query('result == \"b\" and prediction==\"b\"').shape[0]/df.query('result == \"b\" ').shape[0]"
   ]
  },
  {
   "cell_type": "code",
   "execution_count": 7,
   "id": "d01c4921",
   "metadata": {},
   "outputs": [
    {
     "data": {
      "text/plain": [
       "0.42857142857142855"
      ]
     },
     "execution_count": 7,
     "metadata": {},
     "output_type": "execute_result"
    }
   ],
   "source": [
    "#versicolor\n",
    "df.query('result == \"c\" and prediction==\"c\"').shape[0]/df.query('result == \"c\" ').shape[0]"
   ]
  },
  {
   "cell_type": "code",
   "execution_count": 8,
   "id": "bb627ccc",
   "metadata": {},
   "outputs": [
    {
     "data": {
      "text/plain": [
       "0.42857142857142855"
      ]
     },
     "execution_count": 8,
     "metadata": {},
     "output_type": "execute_result"
    }
   ],
   "source": [
    "#Recall\n",
    "#out of all relevant results, which fraction is retrieved\n",
    "#setosa\n",
    "df.query('result == \"a\" and prediction==\"a\"').shape[0]/df.query('prediction == \"a\" ').shape[0]"
   ]
  },
  {
   "cell_type": "code",
   "execution_count": 34,
   "id": "4dbb003a",
   "metadata": {},
   "outputs": [
    {
     "data": {
      "text/plain": [
       "1.0"
      ]
     },
     "execution_count": 34,
     "metadata": {},
     "output_type": "execute_result"
    }
   ],
   "source": [
    "#virginica\n",
    "df.query('retrieved == \"virginica\" and gold==\"virginica\"').shape[0]/df.query('gold == \"virginica\" ').shape[0]"
   ]
  },
  {
   "cell_type": "code",
   "execution_count": 35,
   "id": "66fc1a47",
   "metadata": {},
   "outputs": [
    {
     "data": {
      "text/plain": [
       "0.7894736842105263"
      ]
     },
     "execution_count": 35,
     "metadata": {},
     "output_type": "execute_result"
    }
   ],
   "source": [
    "#versicolor\n",
    "df.query('retrieved == \"versicolor\" and gold==\"versicolor\"').shape[0]/df.query('gold == \"versicolor\" ').shape[0]"
   ]
  },
  {
   "cell_type": "markdown",
   "id": "18b00e52",
   "metadata": {},
   "source": [
    "# MAP, p@k"
   ]
  },
  {
   "cell_type": "code",
   "execution_count": 30,
   "id": "c075033f",
   "metadata": {},
   "outputs": [
    {
     "data": {
      "text/plain": [
       "array(['a', 'a', 'c', 'b', 'd', 'd', 'a', 'a', 'a', 'c', 'c', 'e', 'e',\n",
       "       'e', 'e', 'b', 'a', 'b', 'c', 'e', 'c', 'd', 'c', 'c', 'd', 'd',\n",
       "       'd', 'b', 'b', 'b'], dtype=object)"
      ]
     },
     "execution_count": 30,
     "metadata": {},
     "output_type": "execute_result"
    }
   ],
   "source": [
    "retrieved = df.loc[:,'result'].to_numpy()\n",
    "retrieved"
   ]
  },
  {
   "cell_type": "code",
   "execution_count": 31,
   "id": "ba64c8a9",
   "metadata": {},
   "outputs": [
    {
     "data": {
      "text/plain": [
       "array(['a', 'd', 'b', 'b', 'e', 'd', 'a', 'e', 'b', 'a', 'c', 'e', 'a',\n",
       "       'b', 'd', 'b', 'a', 'b', 'c', 'e', 'c', 'd', 'a', 'b', 'd', 'b',\n",
       "       'd', 'b', 'e', 'a'], dtype=object)"
      ]
     },
     "execution_count": 31,
     "metadata": {},
     "output_type": "execute_result"
    }
   ],
   "source": [
    "gold =df.loc[:,'prediction'].to_numpy()\n",
    "gold"
   ]
  },
  {
   "cell_type": "code",
   "execution_count": null,
   "id": "2250774a",
   "metadata": {},
   "outputs": [],
   "source": []
  },
  {
   "cell_type": "code",
   "execution_count": 63,
   "id": "98267de1",
   "metadata": {},
   "outputs": [],
   "source": [
    "def precision(gold,retrieved):\n",
    "    \n",
    "   \n",
    "    p_a = 0\n",
    "    p_b = 0\n",
    "    p_c = 0\n",
    "    p_d = 0\n",
    "    p_e = 0\n",
    "    for a,b in zip(gold,retrieved):\n",
    "        \n",
    "        if(a==b):\n",
    "            if(a=='a'):\n",
    "                p_a+=1\n",
    "            if(a=='b'):\n",
    "                p_b+=1\n",
    "            if(a=='c'):\n",
    "                p_c+=1\n",
    "            if(a=='d'):\n",
    "                p_d+=1\n",
    "            if(a=='e'):\n",
    "                p_e+=1\n",
    "    if(list(retrieved).count('a')==0):\n",
    "        pr_a = 0\n",
    "    else:\n",
    "        pr_a = p_a/list(retrieved).count('a')\n",
    "    if(list(retrieved).count('b')==0):\n",
    "        pr_b = 0\n",
    "    else:\n",
    "        pr_b = p_b/list(retrieved).count('b')\n",
    "    if(list(retrieved).count('c')==0):\n",
    "        pr_c = 0\n",
    "    else:\n",
    "        pr_c = p_c/list(retrieved).count('c')\n",
    "    if(list(retrieved).count('d')==0):\n",
    "        pr_d = 0\n",
    "    else:\n",
    "        pr_d = p_d/list(retrieved).count('d')\n",
    "    if(list(retrieved).count('e')==0):\n",
    "        pr_e = 0\n",
    "    else:\n",
    "        pr_e = p_e/list(retrieved).count('e')\n",
    "        \n",
    "    print(\"Precision is:\")\n",
    "    print(pr_a)\n",
    "    print(pr_b)\n",
    "    print(pr_c)\n",
    "    print(pr_d)\n",
    "    print(pr_e)\n",
    "    "
   ]
  },
  {
   "cell_type": "code",
   "execution_count": 64,
   "id": "2eac030a",
   "metadata": {},
   "outputs": [],
   "source": [
    "def precision_k(gold,retrieved,k):\n",
    "    retrieved_k = retrieved[:k]\n",
    "    gold_k = gold[:k]\n",
    "    \n",
    "    return precision(gold_k,retrieved_k)"
   ]
  },
  {
   "cell_type": "code",
   "execution_count": 66,
   "id": "2602aad5",
   "metadata": {},
   "outputs": [
    {
     "name": "stdout",
     "output_type": "stream",
     "text": [
      "Precision is:\n",
      "0.4\n",
      "1.0\n",
      "0.0\n",
      "0.5\n",
      "0\n"
     ]
    }
   ],
   "source": [
    "precision_k(gold,retrieved,10)"
   ]
  },
  {
   "cell_type": "code",
   "execution_count": null,
   "id": "3d22bcb9",
   "metadata": {},
   "outputs": [],
   "source": []
  },
  {
   "cell_type": "code",
   "execution_count": 61,
   "id": "3002a571",
   "metadata": {},
   "outputs": [],
   "source": []
  },
  {
   "cell_type": "code",
   "execution_count": 69,
   "id": "cfa81e6a",
   "metadata": {},
   "outputs": [],
   "source": [
    "#mean average precision\n",
    "#calculate average precision of each query\n",
    "#then find mean of all of them\n",
    "\n",
    "def mean_average_precision(gold,retrieved):\n",
    "    p_a = []\n",
    "    p_b = []\n",
    "    p_c = []\n",
    "    p_d = []\n",
    "    p_e = []\n",
    "    i = 1\n",
    "    pa = 0\n",
    "    pb = 0\n",
    "    pc = 0\n",
    "    pd = 0\n",
    "    pe = 0\n",
    "    \n",
    "    for a,b in zip(gold,retrieved):\n",
    "        if(a==b):\n",
    "            if(a=='a'):\n",
    "                pa += 1\n",
    "                p_a.append(pa/i)\n",
    "            if(a=='b'):\n",
    "                pb += 1\n",
    "                p_b.append(pb/i)\n",
    "            if(a=='c'):\n",
    "                pc += 1\n",
    "                p_c.append(pc/i)\n",
    "            if(a=='d'):\n",
    "                pd += 1\n",
    "                p_d.append(pd/i)\n",
    "            if(a=='e'):\n",
    "                pe += 1\n",
    "                p_e.append(pe/i)\n",
    "        i+=1\n",
    "            \n",
    "    avg_p_a = sum(p_a)/len(p_a)\n",
    "    avg_p_b = sum(p_b)/len(p_b)\n",
    "    avg_p_c = sum(p_c)/len(p_c)\n",
    "    avg_p_d = sum(p_d)/len(p_d)\n",
    "    avg_p_e = sum(p_e)/len(p_e)\n",
    " \n",
    "    \n",
    "    return((avg_p_a + avg_p_b + avg_p_c + avg_p_d + avg_p_e)/5)\n",
    "            "
   ]
  },
  {
   "cell_type": "code",
   "execution_count": 70,
   "id": "d8b2fe13",
   "metadata": {},
   "outputs": [
    {
     "data": {
      "text/plain": [
       "0.19892667013642246"
      ]
     },
     "execution_count": 70,
     "metadata": {},
     "output_type": "execute_result"
    }
   ],
   "source": [
    "mean_average_precision(gold,retrieved)"
   ]
  },
  {
   "cell_type": "code",
   "execution_count": 65,
   "id": "3793ba4c",
   "metadata": {},
   "outputs": [],
   "source": []
  },
  {
   "cell_type": "markdown",
   "id": "6e2a4925",
   "metadata": {},
   "source": [
    "# Fallout"
   ]
  },
  {
   "cell_type": "code",
   "execution_count": 71,
   "id": "f062257d",
   "metadata": {},
   "outputs": [
    {
     "data": {
      "text/plain": [
       "0.21428571428571427"
      ]
     },
     "execution_count": 71,
     "metadata": {},
     "output_type": "execute_result"
    }
   ],
   "source": [
    "#fallout\n",
    "df.query('result==\"a\" and result != prediction ').shape[0]/df.query('result != prediction').shape[0]"
   ]
  },
  {
   "cell_type": "code",
   "execution_count": null,
   "id": "8b077be8",
   "metadata": {},
   "outputs": [],
   "source": []
  },
  {
   "cell_type": "code",
   "execution_count": 82,
   "id": "6b4cd63d",
   "metadata": {},
   "outputs": [],
   "source": []
  },
  {
   "cell_type": "code",
   "execution_count": null,
   "id": "d0085613",
   "metadata": {},
   "outputs": [],
   "source": []
  },
  {
   "cell_type": "code",
   "execution_count": 86,
   "id": "5199f5a9",
   "metadata": {},
   "outputs": [],
   "source": []
  },
  {
   "cell_type": "code",
   "execution_count": null,
   "id": "dfc7c487",
   "metadata": {},
   "outputs": [],
   "source": []
  },
  {
   "cell_type": "code",
   "execution_count": null,
   "id": "dd0f5044",
   "metadata": {},
   "outputs": [],
   "source": []
  },
  {
   "cell_type": "code",
   "execution_count": null,
   "id": "614f8505",
   "metadata": {},
   "outputs": [],
   "source": []
  },
  {
   "cell_type": "code",
   "execution_count": null,
   "id": "f7c1ca05",
   "metadata": {},
   "outputs": [],
   "source": []
  },
  {
   "cell_type": "code",
   "execution_count": null,
   "id": "b5185d34",
   "metadata": {},
   "outputs": [],
   "source": []
  },
  {
   "cell_type": "code",
   "execution_count": 26,
   "id": "44e23cd7",
   "metadata": {},
   "outputs": [],
   "source": []
  },
  {
   "cell_type": "code",
   "execution_count": null,
   "id": "5f603634",
   "metadata": {},
   "outputs": [],
   "source": []
  },
  {
   "cell_type": "code",
   "execution_count": 28,
   "id": "663cffd7",
   "metadata": {},
   "outputs": [],
   "source": []
  },
  {
   "cell_type": "code",
   "execution_count": null,
   "id": "766b0910",
   "metadata": {},
   "outputs": [],
   "source": []
  },
  {
   "cell_type": "code",
   "execution_count": null,
   "id": "7c81bc33",
   "metadata": {},
   "outputs": [],
   "source": []
  },
  {
   "cell_type": "code",
   "execution_count": null,
   "id": "a8474e26",
   "metadata": {},
   "outputs": [],
   "source": []
  }
 ],
 "metadata": {
  "kernelspec": {
   "display_name": "Python 3",
   "language": "python",
   "name": "python3"
  },
  "language_info": {
   "codemirror_mode": {
    "name": "ipython",
    "version": 3
   },
   "file_extension": ".py",
   "mimetype": "text/x-python",
   "name": "python",
   "nbconvert_exporter": "python",
   "pygments_lexer": "ipython3",
   "version": "3.8.8"
  }
 },
 "nbformat": 4,
 "nbformat_minor": 5
}

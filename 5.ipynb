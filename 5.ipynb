{
 "cells": [
  {
   "cell_type": "code",
   "execution_count": 1,
   "id": "47c389d3",
   "metadata": {},
   "outputs": [],
   "source": [
    "import pandas as pd\n",
    "import numpy as np\n",
    "\n",
    "\n",
    "d0 = \"cats runs behind rats\"\n",
    "d1 = \"dogs runs behind cats\"\n",
    "d2 = \"rats runs cats\"\n",
    "d3 =\"behind runs cats dogs\"\n",
    "\n",
    "corpus=[d0,d1,d2,d3]\n",
    "\n",
    "word_bag= set(d0.split()+d1.split()+d2.split()+d3.split())"
   ]
  },
  {
   "cell_type": "code",
   "execution_count": 2,
   "id": "36ddec56",
   "metadata": {},
   "outputs": [],
   "source": [
    "def term_frequency(corpus,word_bag):\n",
    "    tf_df = pd.DataFrame(index = list(word_bag), columns = ['d0','d1','d2','d3'])\n",
    "    for doc,col in zip(corpus,tf_df.columns):\n",
    "        for word in word_bag:\n",
    "            tf_df[col][word] = doc.count(word)\n",
    "                \n",
    "    return tf_df"
   ]
  },
  {
   "cell_type": "code",
   "execution_count": 3,
   "id": "ac1c014a",
   "metadata": {},
   "outputs": [
    {
     "data": {
      "text/html": [
       "<div>\n",
       "<style scoped>\n",
       "    .dataframe tbody tr th:only-of-type {\n",
       "        vertical-align: middle;\n",
       "    }\n",
       "\n",
       "    .dataframe tbody tr th {\n",
       "        vertical-align: top;\n",
       "    }\n",
       "\n",
       "    .dataframe thead th {\n",
       "        text-align: right;\n",
       "    }\n",
       "</style>\n",
       "<table border=\"1\" class=\"dataframe\">\n",
       "  <thead>\n",
       "    <tr style=\"text-align: right;\">\n",
       "      <th></th>\n",
       "      <th>d0</th>\n",
       "      <th>d1</th>\n",
       "      <th>d2</th>\n",
       "      <th>d3</th>\n",
       "    </tr>\n",
       "  </thead>\n",
       "  <tbody>\n",
       "    <tr>\n",
       "      <th>rats</th>\n",
       "      <td>1</td>\n",
       "      <td>0</td>\n",
       "      <td>1</td>\n",
       "      <td>0</td>\n",
       "    </tr>\n",
       "    <tr>\n",
       "      <th>dogs</th>\n",
       "      <td>0</td>\n",
       "      <td>1</td>\n",
       "      <td>0</td>\n",
       "      <td>1</td>\n",
       "    </tr>\n",
       "    <tr>\n",
       "      <th>runs</th>\n",
       "      <td>1</td>\n",
       "      <td>1</td>\n",
       "      <td>1</td>\n",
       "      <td>1</td>\n",
       "    </tr>\n",
       "    <tr>\n",
       "      <th>behind</th>\n",
       "      <td>1</td>\n",
       "      <td>1</td>\n",
       "      <td>0</td>\n",
       "      <td>1</td>\n",
       "    </tr>\n",
       "    <tr>\n",
       "      <th>cats</th>\n",
       "      <td>1</td>\n",
       "      <td>1</td>\n",
       "      <td>1</td>\n",
       "      <td>1</td>\n",
       "    </tr>\n",
       "  </tbody>\n",
       "</table>\n",
       "</div>"
      ],
      "text/plain": [
       "       d0 d1 d2 d3\n",
       "rats    1  0  1  0\n",
       "dogs    0  1  0  1\n",
       "runs    1  1  1  1\n",
       "behind  1  1  0  1\n",
       "cats    1  1  1  1"
      ]
     },
     "execution_count": 3,
     "metadata": {},
     "output_type": "execute_result"
    }
   ],
   "source": [
    "df = term_frequency(corpus,word_bag)\n",
    "df"
   ]
  },
  {
   "cell_type": "markdown",
   "id": "74bd7f9e",
   "metadata": {},
   "source": [
    "# P_Mc(t) : probability of the term appearing in the whole corpus"
   ]
  },
  {
   "cell_type": "code",
   "execution_count": 4,
   "id": "49121388",
   "metadata": {},
   "outputs": [
    {
     "data": {
      "text/plain": [
       "15"
      ]
     },
     "execution_count": 4,
     "metadata": {},
     "output_type": "execute_result"
    }
   ],
   "source": [
    "len_corpus = len(d0.split()) + len(d1.split()) + len(d2.split()) + len(d3.split())\n",
    "len_corpus"
   ]
  },
  {
   "cell_type": "code",
   "execution_count": 12,
   "id": "67068430",
   "metadata": {},
   "outputs": [
    {
     "data": {
      "text/html": [
       "<div>\n",
       "<style scoped>\n",
       "    .dataframe tbody tr th:only-of-type {\n",
       "        vertical-align: middle;\n",
       "    }\n",
       "\n",
       "    .dataframe tbody tr th {\n",
       "        vertical-align: top;\n",
       "    }\n",
       "\n",
       "    .dataframe thead th {\n",
       "        text-align: right;\n",
       "    }\n",
       "</style>\n",
       "<table border=\"1\" class=\"dataframe\">\n",
       "  <thead>\n",
       "    <tr style=\"text-align: right;\">\n",
       "      <th></th>\n",
       "      <th>d0</th>\n",
       "      <th>d1</th>\n",
       "      <th>d2</th>\n",
       "      <th>d3</th>\n",
       "      <th>P_Mc(t)</th>\n",
       "    </tr>\n",
       "  </thead>\n",
       "  <tbody>\n",
       "    <tr>\n",
       "      <th>rats</th>\n",
       "      <td>1</td>\n",
       "      <td>0</td>\n",
       "      <td>1</td>\n",
       "      <td>0</td>\n",
       "      <td>0.133333</td>\n",
       "    </tr>\n",
       "    <tr>\n",
       "      <th>dogs</th>\n",
       "      <td>0</td>\n",
       "      <td>1</td>\n",
       "      <td>0</td>\n",
       "      <td>1</td>\n",
       "      <td>0.133333</td>\n",
       "    </tr>\n",
       "    <tr>\n",
       "      <th>runs</th>\n",
       "      <td>1</td>\n",
       "      <td>1</td>\n",
       "      <td>1</td>\n",
       "      <td>1</td>\n",
       "      <td>0.266667</td>\n",
       "    </tr>\n",
       "    <tr>\n",
       "      <th>behind</th>\n",
       "      <td>1</td>\n",
       "      <td>1</td>\n",
       "      <td>0</td>\n",
       "      <td>1</td>\n",
       "      <td>0.200000</td>\n",
       "    </tr>\n",
       "    <tr>\n",
       "      <th>cats</th>\n",
       "      <td>1</td>\n",
       "      <td>1</td>\n",
       "      <td>1</td>\n",
       "      <td>1</td>\n",
       "      <td>0.266667</td>\n",
       "    </tr>\n",
       "  </tbody>\n",
       "</table>\n",
       "</div>"
      ],
      "text/plain": [
       "       d0 d1 d2 d3   P_Mc(t)\n",
       "rats    1  0  1  0  0.133333\n",
       "dogs    0  1  0  1  0.133333\n",
       "runs    1  1  1  1  0.266667\n",
       "behind  1  1  0  1  0.200000\n",
       "cats    1  1  1  1  0.266667"
      ]
     },
     "execution_count": 12,
     "metadata": {},
     "output_type": "execute_result"
    }
   ],
   "source": [
    "#change axis to 0 and then again to 1 to get correct values\n",
    "df['P_Mc(t)'] = df.sum(axis=1)/len_corpus\n",
    "df"
   ]
  },
  {
   "cell_type": "code",
   "execution_count": null,
   "id": "4d8d6354",
   "metadata": {},
   "outputs": [],
   "source": []
  },
  {
   "cell_type": "markdown",
   "id": "c38134ce",
   "metadata": {},
   "source": [
    "# PMd(t): the probability of term occurring in the document"
   ]
  },
  {
   "cell_type": "code",
   "execution_count": 13,
   "id": "54c5d477",
   "metadata": {},
   "outputs": [
    {
     "data": {
      "text/html": [
       "<div>\n",
       "<style scoped>\n",
       "    .dataframe tbody tr th:only-of-type {\n",
       "        vertical-align: middle;\n",
       "    }\n",
       "\n",
       "    .dataframe tbody tr th {\n",
       "        vertical-align: top;\n",
       "    }\n",
       "\n",
       "    .dataframe thead th {\n",
       "        text-align: right;\n",
       "    }\n",
       "</style>\n",
       "<table border=\"1\" class=\"dataframe\">\n",
       "  <thead>\n",
       "    <tr style=\"text-align: right;\">\n",
       "      <th></th>\n",
       "      <th>d0</th>\n",
       "      <th>d1</th>\n",
       "      <th>d2</th>\n",
       "      <th>d3</th>\n",
       "      <th>P_Mc(t)</th>\n",
       "      <th>PMd0(t)</th>\n",
       "      <th>PMd1(t)</th>\n",
       "      <th>PMd2(t)</th>\n",
       "      <th>PMd3(t)</th>\n",
       "    </tr>\n",
       "  </thead>\n",
       "  <tbody>\n",
       "    <tr>\n",
       "      <th>rats</th>\n",
       "      <td>1</td>\n",
       "      <td>0</td>\n",
       "      <td>1</td>\n",
       "      <td>0</td>\n",
       "      <td>0.133333</td>\n",
       "      <td>0.25</td>\n",
       "      <td>0.0</td>\n",
       "      <td>0.333333</td>\n",
       "      <td>0.0</td>\n",
       "    </tr>\n",
       "    <tr>\n",
       "      <th>dogs</th>\n",
       "      <td>0</td>\n",
       "      <td>1</td>\n",
       "      <td>0</td>\n",
       "      <td>1</td>\n",
       "      <td>0.133333</td>\n",
       "      <td>0.0</td>\n",
       "      <td>0.25</td>\n",
       "      <td>0.0</td>\n",
       "      <td>0.25</td>\n",
       "    </tr>\n",
       "    <tr>\n",
       "      <th>runs</th>\n",
       "      <td>1</td>\n",
       "      <td>1</td>\n",
       "      <td>1</td>\n",
       "      <td>1</td>\n",
       "      <td>0.266667</td>\n",
       "      <td>0.25</td>\n",
       "      <td>0.25</td>\n",
       "      <td>0.333333</td>\n",
       "      <td>0.25</td>\n",
       "    </tr>\n",
       "    <tr>\n",
       "      <th>behind</th>\n",
       "      <td>1</td>\n",
       "      <td>1</td>\n",
       "      <td>0</td>\n",
       "      <td>1</td>\n",
       "      <td>0.200000</td>\n",
       "      <td>0.25</td>\n",
       "      <td>0.25</td>\n",
       "      <td>0.0</td>\n",
       "      <td>0.25</td>\n",
       "    </tr>\n",
       "    <tr>\n",
       "      <th>cats</th>\n",
       "      <td>1</td>\n",
       "      <td>1</td>\n",
       "      <td>1</td>\n",
       "      <td>1</td>\n",
       "      <td>0.266667</td>\n",
       "      <td>0.25</td>\n",
       "      <td>0.25</td>\n",
       "      <td>0.333333</td>\n",
       "      <td>0.25</td>\n",
       "    </tr>\n",
       "  </tbody>\n",
       "</table>\n",
       "</div>"
      ],
      "text/plain": [
       "       d0 d1 d2 d3   P_Mc(t) PMd0(t) PMd1(t)   PMd2(t) PMd3(t)\n",
       "rats    1  0  1  0  0.133333    0.25     0.0  0.333333     0.0\n",
       "dogs    0  1  0  1  0.133333     0.0    0.25       0.0    0.25\n",
       "runs    1  1  1  1  0.266667    0.25    0.25  0.333333    0.25\n",
       "behind  1  1  0  1  0.200000    0.25    0.25       0.0    0.25\n",
       "cats    1  1  1  1  0.266667    0.25    0.25  0.333333    0.25"
      ]
     },
     "execution_count": 13,
     "metadata": {},
     "output_type": "execute_result"
    }
   ],
   "source": [
    "df['PMd0(t)'] = df['d0']/(len(d0.split()))\n",
    "df['PMd1(t)'] = df['d1']/(len(d1.split()))\n",
    "df['PMd2(t)'] = df['d2']/(len(d2.split()))\n",
    "df['PMd3(t)'] = df['d3']/(len(d3.split()))\n",
    "df"
   ]
  },
  {
   "cell_type": "code",
   "execution_count": null,
   "id": "af1edf6a",
   "metadata": {},
   "outputs": [],
   "source": []
  },
  {
   "cell_type": "markdown",
   "id": "f4066205",
   "metadata": {},
   "source": [
    "#  A un-smoothed, unigram model: Puni(d | q) = ∏t∈q PMd(t)"
   ]
  },
  {
   "cell_type": "code",
   "execution_count": 14,
   "id": "18f040ab",
   "metadata": {},
   "outputs": [],
   "source": [
    "def unsmoothed(q):\n",
    "    d0 = d1 = d2 = d3 = 1\n",
    "    for word in q.split():\n",
    "        d0 = d0 * df['PMd0(t)'][word]\n",
    "        d1 = d1 * df['PMd1(t)'][word]\n",
    "        d2 = d2 * df['PMd2(t)'][word]\n",
    "        d3 = d3 * df['PMd3(t)'][word]\n",
    "        \n",
    "    res = [d0,d1,d2,d3]\n",
    "    return res"
   ]
  },
  {
   "cell_type": "code",
   "execution_count": 15,
   "id": "c8595d56",
   "metadata": {},
   "outputs": [
    {
     "data": {
      "text/plain": [
       "[0.0625, 0.0, 0.0, 0.0]"
      ]
     },
     "execution_count": 15,
     "metadata": {},
     "output_type": "execute_result"
    }
   ],
   "source": [
    "q = \"behind rats\"\n",
    "sorted(unsmoothed(q),reverse = True)"
   ]
  },
  {
   "cell_type": "code",
   "execution_count": 16,
   "id": "310596aa",
   "metadata": {},
   "outputs": [
    {
     "data": {
      "text/plain": [
       "[0.0625, 0.0, 0.0, 0.0]"
      ]
     },
     "execution_count": 16,
     "metadata": {},
     "output_type": "execute_result"
    }
   ],
   "source": [
    "q = \"behind rats\"\n",
    "unsmoothed(q)"
   ]
  },
  {
   "cell_type": "code",
   "execution_count": null,
   "id": "c2341e7e",
   "metadata": {},
   "outputs": [],
   "source": []
  },
  {
   "cell_type": "markdown",
   "id": "ce20eb91",
   "metadata": {},
   "source": [
    "# linear-interpolated,uni : Pinterp-uni(d | q) = ∏t∈q [λ. PMd(t) + (1-λ). PMc(t)]"
   ]
  },
  {
   "cell_type": "code",
   "execution_count": 17,
   "id": "6ddad4b9",
   "metadata": {},
   "outputs": [],
   "source": [
    "def linear(q,lamb):\n",
    "    d0 = d1 = d2 = d3 = 1\n",
    "    for word in q.split():\n",
    "        d0 = d0 * ((lamb * df['PMd0(t)'][word]) + ((1-lamb) * df['P_Mc(t)'][word]))\n",
    "        d1 = d1 * ((lamb * df['PMd1(t)'][word]) + ((1-lamb) * df['P_Mc(t)'][word]))\n",
    "        d2 = d2 * ((lamb * df['PMd2(t)'][word]) + ((1-lamb) * df['P_Mc(t)'][word]))\n",
    "        d3 = d3 * ((lamb * df['PMd3(t)'][word]) + ((1-lamb) * df['P_Mc(t)'][word]))\n",
    "    res = [d0,d1,d2,d3]\n",
    "    return res"
   ]
  },
  {
   "cell_type": "code",
   "execution_count": 18,
   "id": "2b0e2447",
   "metadata": {},
   "outputs": [
    {
     "data": {
      "text/plain": [
       "[0.043125, 0.023333333333333334, 0.015, 0.015]"
      ]
     },
     "execution_count": 18,
     "metadata": {},
     "output_type": "execute_result"
    }
   ],
   "source": [
    "q = \"behind rats\"\n",
    "sorted(linear(q,0.5),reverse=True)"
   ]
  },
  {
   "cell_type": "code",
   "execution_count": 19,
   "id": "62b2208f",
   "metadata": {},
   "outputs": [
    {
     "data": {
      "text/plain": [
       "[0.043125, 0.015, 0.023333333333333334, 0.015]"
      ]
     },
     "execution_count": 19,
     "metadata": {},
     "output_type": "execute_result"
    }
   ],
   "source": [
    "q = \"behind rats\"\n",
    "linear(q,0.5)"
   ]
  },
  {
   "cell_type": "code",
   "execution_count": null,
   "id": "0b1674b4",
   "metadata": {},
   "outputs": [],
   "source": []
  },
  {
   "cell_type": "markdown",
   "id": "71a475c0",
   "metadata": {},
   "source": [
    "# Bigram/Trigram"
   ]
  },
  {
   "cell_type": "code",
   "execution_count": 20,
   "id": "137b28b1",
   "metadata": {},
   "outputs": [],
   "source": [
    "q0 = \"cats runs behind rat\"\n",
    "𝑞1 = \"dogs runs behind cats\"\n",
    "𝑞2 = \"rats runs cats\"\n",
    "𝑞3 = \"behind runs cats dogs\"\n",
    "𝑞4 = \"behind rats\"\n",
    "\n",
    "corpus_single = q0.split()+q1.split()+q2.split()+q3.split()+q4.split()\n",
    "corpus_n = q0+\" \"+q1+\" \"+q2+\" \"+q3+\" \"+q4\n",
    "\n",
    "vocab = set(q0.split()+q1.split()+q2.split()+q3.split()+q4.split())\n",
    "corpus_len = len(q0.split()+q1.split()+q2.split()+q3.split()+q4.split())\n"
   ]
  },
  {
   "cell_type": "code",
   "execution_count": 30,
   "id": "5468e8d1",
   "metadata": {},
   "outputs": [],
   "source": [
    "def puni(s):\n",
    "    return corpus_single.count(s)/len_corpus\n",
    "    "
   ]
  },
  {
   "cell_type": "code",
   "execution_count": 34,
   "id": "38001854",
   "metadata": {},
   "outputs": [],
   "source": [
    "def pbi(s2,s1):\n",
    "    if((corpus_single.count(s1))==0):\n",
    "        return 0\n",
    "    else:\n",
    "        return corpus_n.count(s1+\" \"+s2)/corpus_single.count(s1)"
   ]
  },
  {
   "cell_type": "code",
   "execution_count": 35,
   "id": "3341ff66",
   "metadata": {},
   "outputs": [],
   "source": [
    "def ptri(s3,s1,s2):\n",
    "    if(corpus_n.count(s1+\" \"+s2)==0):\n",
    "        return 0\n",
    "    else:\n",
    "        return corpus_n.count(s1+\" \"+s2+\" \"+s3)/corpus_n.count(s1+\" \"+s2)"
   ]
  },
  {
   "cell_type": "code",
   "execution_count": 36,
   "id": "33c36222",
   "metadata": {},
   "outputs": [],
   "source": [
    "def bigram(s1,s2):\n",
    "    for i in vocab:\n",
    "        p = puni(s1) * pbi(s2,s1) * pbi(i,s2)\n",
    "        print(str(i) + \":\" + str(p))"
   ]
  },
  {
   "cell_type": "code",
   "execution_count": 37,
   "id": "6b172747",
   "metadata": {},
   "outputs": [],
   "source": [
    "def trigram(s1,s2):\n",
    "    for i in vocab:\n",
    "        p = puni(s1) * pbi(s2,s1) * ptri(i,s1,s2)\n",
    "        print(str(i) + \":\" + str(p))"
   ]
  },
  {
   "cell_type": "code",
   "execution_count": 40,
   "id": "4e40badf",
   "metadata": {},
   "outputs": [
    {
     "name": "stdout",
     "output_type": "stream",
     "text": [
      "rats:0.0\n",
      "dogs:0.0\n",
      "runs:0.0\n",
      "behind:0.03333333333333333\n",
      "rat:0.0\n",
      "cats:0.03333333333333333\n"
     ]
    }
   ],
   "source": [
    "bigram('cats','runs')"
   ]
  },
  {
   "cell_type": "code",
   "execution_count": 41,
   "id": "5afd72d5",
   "metadata": {},
   "outputs": [
    {
     "name": "stdout",
     "output_type": "stream",
     "text": [
      "rats:0.0\n",
      "dogs:0.0\n",
      "runs:0.0\n",
      "behind:0.06666666666666667\n",
      "rat:0.0\n",
      "cats:0.0\n"
     ]
    }
   ],
   "source": [
    "trigram('cats','runs')"
   ]
  },
  {
   "cell_type": "code",
   "execution_count": null,
   "id": "115cb34b",
   "metadata": {},
   "outputs": [],
   "source": []
  },
  {
   "cell_type": "code",
   "execution_count": null,
   "id": "d1765450",
   "metadata": {},
   "outputs": [],
   "source": []
  },
  {
   "cell_type": "code",
   "execution_count": null,
   "id": "6ec2f9d3",
   "metadata": {},
   "outputs": [],
   "source": []
  },
  {
   "cell_type": "code",
   "execution_count": null,
   "id": "7eb408be",
   "metadata": {},
   "outputs": [],
   "source": []
  },
  {
   "cell_type": "code",
   "execution_count": null,
   "id": "f4f8b257",
   "metadata": {},
   "outputs": [],
   "source": []
  },
  {
   "cell_type": "code",
   "execution_count": null,
   "id": "d42ec1be",
   "metadata": {},
   "outputs": [],
   "source": []
  },
  {
   "cell_type": "code",
   "execution_count": null,
   "id": "0fad297d",
   "metadata": {},
   "outputs": [],
   "source": []
  },
  {
   "cell_type": "code",
   "execution_count": null,
   "id": "d8624725",
   "metadata": {},
   "outputs": [],
   "source": []
  },
  {
   "cell_type": "code",
   "execution_count": null,
   "id": "2f6cc329",
   "metadata": {},
   "outputs": [],
   "source": []
  },
  {
   "cell_type": "code",
   "execution_count": null,
   "id": "2d9c5579",
   "metadata": {},
   "outputs": [],
   "source": []
  },
  {
   "cell_type": "code",
   "execution_count": null,
   "id": "a4b6c908",
   "metadata": {},
   "outputs": [],
   "source": []
  }
 ],
 "metadata": {
  "kernelspec": {
   "display_name": "Python 3",
   "language": "python",
   "name": "python3"
  },
  "language_info": {
   "codemirror_mode": {
    "name": "ipython",
    "version": 3
   },
   "file_extension": ".py",
   "mimetype": "text/x-python",
   "name": "python",
   "nbconvert_exporter": "python",
   "pygments_lexer": "ipython3",
   "version": "3.8.8"
  }
 },
 "nbformat": 4,
 "nbformat_minor": 5
}

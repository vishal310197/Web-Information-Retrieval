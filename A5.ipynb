{
 "cells": [
  {
   "cell_type": "code",
   "execution_count": 1,
   "id": "47c389d3",
   "metadata": {},
   "outputs": [],
   "source": [
    "import pandas as pd\n",
    "import numpy as np\n",
    "\n",
    "\n",
    "d0 = \"vaccine research corona virus research\"\n",
    "d1 = \"research research cancer vaccine vaccine\"\n",
    "d2 = \"virus virus corona vaccine lab\"\n",
    "d3 = \"cancer lab research lab\"\n",
    "\n",
    "corpus=[d0,d1,d2,d3]\n",
    "\n",
    "word_bag= set(d0.split()+d1.split()+d2.split()+d3.split())"
   ]
  },
  {
   "cell_type": "code",
   "execution_count": 2,
   "id": "36ddec56",
   "metadata": {},
   "outputs": [],
   "source": [
    "def term_frequency(corpus,word_bag):\n",
    "    tf_df = pd.DataFrame(index = list(word_bag), columns = ['d0','d1','d2','d3'])\n",
    "    for doc,col in zip(corpus,tf_df.columns):\n",
    "        for word in word_bag:\n",
    "            tf_df[col][word] = doc.count(word)\n",
    "                \n",
    "    return tf_df"
   ]
  },
  {
   "cell_type": "code",
   "execution_count": 3,
   "id": "ac1c014a",
   "metadata": {},
   "outputs": [
    {
     "data": {
      "text/html": [
       "<div>\n",
       "<style scoped>\n",
       "    .dataframe tbody tr th:only-of-type {\n",
       "        vertical-align: middle;\n",
       "    }\n",
       "\n",
       "    .dataframe tbody tr th {\n",
       "        vertical-align: top;\n",
       "    }\n",
       "\n",
       "    .dataframe thead th {\n",
       "        text-align: right;\n",
       "    }\n",
       "</style>\n",
       "<table border=\"1\" class=\"dataframe\">\n",
       "  <thead>\n",
       "    <tr style=\"text-align: right;\">\n",
       "      <th></th>\n",
       "      <th>d0</th>\n",
       "      <th>d1</th>\n",
       "      <th>d2</th>\n",
       "      <th>d3</th>\n",
       "    </tr>\n",
       "  </thead>\n",
       "  <tbody>\n",
       "    <tr>\n",
       "      <th>vaccine</th>\n",
       "      <td>1</td>\n",
       "      <td>2</td>\n",
       "      <td>1</td>\n",
       "      <td>0</td>\n",
       "    </tr>\n",
       "    <tr>\n",
       "      <th>cancer</th>\n",
       "      <td>0</td>\n",
       "      <td>1</td>\n",
       "      <td>0</td>\n",
       "      <td>1</td>\n",
       "    </tr>\n",
       "    <tr>\n",
       "      <th>virus</th>\n",
       "      <td>1</td>\n",
       "      <td>0</td>\n",
       "      <td>2</td>\n",
       "      <td>0</td>\n",
       "    </tr>\n",
       "    <tr>\n",
       "      <th>research</th>\n",
       "      <td>2</td>\n",
       "      <td>2</td>\n",
       "      <td>0</td>\n",
       "      <td>1</td>\n",
       "    </tr>\n",
       "    <tr>\n",
       "      <th>lab</th>\n",
       "      <td>0</td>\n",
       "      <td>0</td>\n",
       "      <td>1</td>\n",
       "      <td>2</td>\n",
       "    </tr>\n",
       "    <tr>\n",
       "      <th>corona</th>\n",
       "      <td>1</td>\n",
       "      <td>0</td>\n",
       "      <td>1</td>\n",
       "      <td>0</td>\n",
       "    </tr>\n",
       "  </tbody>\n",
       "</table>\n",
       "</div>"
      ],
      "text/plain": [
       "         d0 d1 d2 d3\n",
       "vaccine   1  2  1  0\n",
       "cancer    0  1  0  1\n",
       "virus     1  0  2  0\n",
       "research  2  2  0  1\n",
       "lab       0  0  1  2\n",
       "corona    1  0  1  0"
      ]
     },
     "execution_count": 3,
     "metadata": {},
     "output_type": "execute_result"
    }
   ],
   "source": [
    "df = term_frequency(corpus,word_bag)\n",
    "df"
   ]
  },
  {
   "cell_type": "markdown",
   "id": "74bd7f9e",
   "metadata": {},
   "source": [
    "# P_Mc(t) : probability of the term appearing in the whole corpus"
   ]
  },
  {
   "cell_type": "code",
   "execution_count": 4,
   "id": "49121388",
   "metadata": {},
   "outputs": [
    {
     "data": {
      "text/plain": [
       "19"
      ]
     },
     "execution_count": 4,
     "metadata": {},
     "output_type": "execute_result"
    }
   ],
   "source": [
    "len_corpus = len(d0.split()) + len(d1.split()) + len(d2.split()) + len(d3.split())\n",
    "len_corpus"
   ]
  },
  {
   "cell_type": "code",
   "execution_count": 5,
   "id": "67068430",
   "metadata": {},
   "outputs": [
    {
     "data": {
      "text/html": [
       "<div>\n",
       "<style scoped>\n",
       "    .dataframe tbody tr th:only-of-type {\n",
       "        vertical-align: middle;\n",
       "    }\n",
       "\n",
       "    .dataframe tbody tr th {\n",
       "        vertical-align: top;\n",
       "    }\n",
       "\n",
       "    .dataframe thead th {\n",
       "        text-align: right;\n",
       "    }\n",
       "</style>\n",
       "<table border=\"1\" class=\"dataframe\">\n",
       "  <thead>\n",
       "    <tr style=\"text-align: right;\">\n",
       "      <th></th>\n",
       "      <th>d0</th>\n",
       "      <th>d1</th>\n",
       "      <th>d2</th>\n",
       "      <th>d3</th>\n",
       "      <th>P_Mc(t)</th>\n",
       "    </tr>\n",
       "  </thead>\n",
       "  <tbody>\n",
       "    <tr>\n",
       "      <th>vaccine</th>\n",
       "      <td>1</td>\n",
       "      <td>2</td>\n",
       "      <td>1</td>\n",
       "      <td>0</td>\n",
       "      <td>0.210526</td>\n",
       "    </tr>\n",
       "    <tr>\n",
       "      <th>cancer</th>\n",
       "      <td>0</td>\n",
       "      <td>1</td>\n",
       "      <td>0</td>\n",
       "      <td>1</td>\n",
       "      <td>0.105263</td>\n",
       "    </tr>\n",
       "    <tr>\n",
       "      <th>virus</th>\n",
       "      <td>1</td>\n",
       "      <td>0</td>\n",
       "      <td>2</td>\n",
       "      <td>0</td>\n",
       "      <td>0.157895</td>\n",
       "    </tr>\n",
       "    <tr>\n",
       "      <th>research</th>\n",
       "      <td>2</td>\n",
       "      <td>2</td>\n",
       "      <td>0</td>\n",
       "      <td>1</td>\n",
       "      <td>0.263158</td>\n",
       "    </tr>\n",
       "    <tr>\n",
       "      <th>lab</th>\n",
       "      <td>0</td>\n",
       "      <td>0</td>\n",
       "      <td>1</td>\n",
       "      <td>2</td>\n",
       "      <td>0.157895</td>\n",
       "    </tr>\n",
       "    <tr>\n",
       "      <th>corona</th>\n",
       "      <td>1</td>\n",
       "      <td>0</td>\n",
       "      <td>1</td>\n",
       "      <td>0</td>\n",
       "      <td>0.105263</td>\n",
       "    </tr>\n",
       "  </tbody>\n",
       "</table>\n",
       "</div>"
      ],
      "text/plain": [
       "         d0 d1 d2 d3   P_Mc(t)\n",
       "vaccine   1  2  1  0  0.210526\n",
       "cancer    0  1  0  1  0.105263\n",
       "virus     1  0  2  0  0.157895\n",
       "research  2  2  0  1  0.263158\n",
       "lab       0  0  1  2  0.157895\n",
       "corona    1  0  1  0  0.105263"
      ]
     },
     "execution_count": 5,
     "metadata": {},
     "output_type": "execute_result"
    }
   ],
   "source": [
    "df['P_Mc(t)'] = df.sum(axis=1)/19\n",
    "df"
   ]
  },
  {
   "cell_type": "code",
   "execution_count": null,
   "id": "4d8d6354",
   "metadata": {},
   "outputs": [],
   "source": []
  },
  {
   "cell_type": "markdown",
   "id": "c38134ce",
   "metadata": {},
   "source": [
    "# PMd(t): the probability of term occurring in the document"
   ]
  },
  {
   "cell_type": "code",
   "execution_count": 6,
   "id": "54c5d477",
   "metadata": {},
   "outputs": [
    {
     "data": {
      "text/html": [
       "<div>\n",
       "<style scoped>\n",
       "    .dataframe tbody tr th:only-of-type {\n",
       "        vertical-align: middle;\n",
       "    }\n",
       "\n",
       "    .dataframe tbody tr th {\n",
       "        vertical-align: top;\n",
       "    }\n",
       "\n",
       "    .dataframe thead th {\n",
       "        text-align: right;\n",
       "    }\n",
       "</style>\n",
       "<table border=\"1\" class=\"dataframe\">\n",
       "  <thead>\n",
       "    <tr style=\"text-align: right;\">\n",
       "      <th></th>\n",
       "      <th>d0</th>\n",
       "      <th>d1</th>\n",
       "      <th>d2</th>\n",
       "      <th>d3</th>\n",
       "      <th>P_Mc(t)</th>\n",
       "      <th>PMd0(t)</th>\n",
       "      <th>PMd1(t)</th>\n",
       "      <th>PMd2(t)</th>\n",
       "      <th>PMd3(t)</th>\n",
       "    </tr>\n",
       "  </thead>\n",
       "  <tbody>\n",
       "    <tr>\n",
       "      <th>vaccine</th>\n",
       "      <td>1</td>\n",
       "      <td>2</td>\n",
       "      <td>1</td>\n",
       "      <td>0</td>\n",
       "      <td>0.210526</td>\n",
       "      <td>0.2</td>\n",
       "      <td>0.4</td>\n",
       "      <td>0.2</td>\n",
       "      <td>0.0</td>\n",
       "    </tr>\n",
       "    <tr>\n",
       "      <th>cancer</th>\n",
       "      <td>0</td>\n",
       "      <td>1</td>\n",
       "      <td>0</td>\n",
       "      <td>1</td>\n",
       "      <td>0.105263</td>\n",
       "      <td>0.0</td>\n",
       "      <td>0.2</td>\n",
       "      <td>0.0</td>\n",
       "      <td>0.25</td>\n",
       "    </tr>\n",
       "    <tr>\n",
       "      <th>virus</th>\n",
       "      <td>1</td>\n",
       "      <td>0</td>\n",
       "      <td>2</td>\n",
       "      <td>0</td>\n",
       "      <td>0.157895</td>\n",
       "      <td>0.2</td>\n",
       "      <td>0.0</td>\n",
       "      <td>0.4</td>\n",
       "      <td>0.0</td>\n",
       "    </tr>\n",
       "    <tr>\n",
       "      <th>research</th>\n",
       "      <td>2</td>\n",
       "      <td>2</td>\n",
       "      <td>0</td>\n",
       "      <td>1</td>\n",
       "      <td>0.263158</td>\n",
       "      <td>0.4</td>\n",
       "      <td>0.4</td>\n",
       "      <td>0.0</td>\n",
       "      <td>0.25</td>\n",
       "    </tr>\n",
       "    <tr>\n",
       "      <th>lab</th>\n",
       "      <td>0</td>\n",
       "      <td>0</td>\n",
       "      <td>1</td>\n",
       "      <td>2</td>\n",
       "      <td>0.157895</td>\n",
       "      <td>0.0</td>\n",
       "      <td>0.0</td>\n",
       "      <td>0.2</td>\n",
       "      <td>0.5</td>\n",
       "    </tr>\n",
       "    <tr>\n",
       "      <th>corona</th>\n",
       "      <td>1</td>\n",
       "      <td>0</td>\n",
       "      <td>1</td>\n",
       "      <td>0</td>\n",
       "      <td>0.105263</td>\n",
       "      <td>0.2</td>\n",
       "      <td>0.0</td>\n",
       "      <td>0.2</td>\n",
       "      <td>0.0</td>\n",
       "    </tr>\n",
       "  </tbody>\n",
       "</table>\n",
       "</div>"
      ],
      "text/plain": [
       "         d0 d1 d2 d3   P_Mc(t) PMd0(t) PMd1(t) PMd2(t) PMd3(t)\n",
       "vaccine   1  2  1  0  0.210526     0.2     0.4     0.2     0.0\n",
       "cancer    0  1  0  1  0.105263     0.0     0.2     0.0    0.25\n",
       "virus     1  0  2  0  0.157895     0.2     0.0     0.4     0.0\n",
       "research  2  2  0  1  0.263158     0.4     0.4     0.0    0.25\n",
       "lab       0  0  1  2  0.157895     0.0     0.0     0.2     0.5\n",
       "corona    1  0  1  0  0.105263     0.2     0.0     0.2     0.0"
      ]
     },
     "execution_count": 6,
     "metadata": {},
     "output_type": "execute_result"
    }
   ],
   "source": [
    "df['PMd0(t)'] = df['d0']/(len(d0.split()))\n",
    "df['PMd1(t)'] = df['d1']/(len(d1.split()))\n",
    "df['PMd2(t)'] = df['d2']/(len(d2.split()))\n",
    "df['PMd3(t)'] = df['d3']/(len(d3.split()))\n",
    "df"
   ]
  },
  {
   "cell_type": "code",
   "execution_count": null,
   "id": "af1edf6a",
   "metadata": {},
   "outputs": [],
   "source": []
  },
  {
   "cell_type": "markdown",
   "id": "f4066205",
   "metadata": {},
   "source": [
    "#  A un-smoothed, unigram model: Puni(d | q) = ∏t∈q PMd(t)"
   ]
  },
  {
   "cell_type": "code",
   "execution_count": 7,
   "id": "18f040ab",
   "metadata": {},
   "outputs": [],
   "source": [
    "def unsmoothed(q):\n",
    "    d0 = d1 = d2 = d3 = 1\n",
    "    for word in q.split():\n",
    "        d0 = d0 * df['PMd0(t)'][word]\n",
    "        d1 = d1 * df['PMd1(t)'][word]\n",
    "        d2 = d2 * df['PMd2(t)'][word]\n",
    "        d3 = d3 * df['PMd3(t)'][word]\n",
    "        \n",
    "    res = [d0,d1,d2,d3]\n",
    "    return res"
   ]
  },
  {
   "cell_type": "code",
   "execution_count": 8,
   "id": "c8595d56",
   "metadata": {},
   "outputs": [
    {
     "data": {
      "text/plain": [
       "[0.012800000000000004, 0.0, 0.0, 0.0]"
      ]
     },
     "execution_count": 8,
     "metadata": {},
     "output_type": "execute_result"
    }
   ],
   "source": [
    "q = \"vaccine vaccine research cancer\"\n",
    "sorted(unsmoothed(q),reverse = True)"
   ]
  },
  {
   "cell_type": "code",
   "execution_count": 9,
   "id": "310596aa",
   "metadata": {},
   "outputs": [
    {
     "data": {
      "text/plain": [
       "[0.08000000000000002, 0.16000000000000003, 0.0, 0.0]"
      ]
     },
     "execution_count": 9,
     "metadata": {},
     "output_type": "execute_result"
    }
   ],
   "source": [
    "q = \"vaccine research\"\n",
    "unsmoothed(q)"
   ]
  },
  {
   "cell_type": "code",
   "execution_count": null,
   "id": "c2341e7e",
   "metadata": {},
   "outputs": [],
   "source": []
  },
  {
   "cell_type": "markdown",
   "id": "ce20eb91",
   "metadata": {},
   "source": [
    "# linear-interpolated,uni : Pinterp-uni(d | q) = ∏t∈q [λ. PMd(t) + (1-λ). PMc(t)]"
   ]
  },
  {
   "cell_type": "code",
   "execution_count": 10,
   "id": "6ddad4b9",
   "metadata": {},
   "outputs": [],
   "source": [
    "def linear(q,lamb):\n",
    "    d0 = d1 = d2 = d3 = 1\n",
    "    for word in q.split():\n",
    "        d0 = d0 * ((lamb * df['PMd0(t)'][word]) + ((1-lamb) * df['P_Mc(t)'][word]))\n",
    "        d1 = d1 * ((lamb * df['PMd1(t)'][word]) + ((1-lamb) * df['P_Mc(t)'][word]))\n",
    "        d2 = d2 * ((lamb * df['PMd2(t)'][word]) + ((1-lamb) * df['P_Mc(t)'][word]))\n",
    "        d3 = d3 * ((lamb * df['PMd3(t)'][word]) + ((1-lamb) * df['P_Mc(t)'][word]))\n",
    "    res = [d0,d1,d2,d3]\n",
    "    return res"
   ]
  },
  {
   "cell_type": "code",
   "execution_count": 11,
   "id": "2b0e2447",
   "metadata": {},
   "outputs": [
    {
     "data": {
      "text/plain": [
       "[0.004716068784002579,\n",
       " 0.0007352844131030303,\n",
       " 0.0005050030309773557,\n",
       " 0.000291779529009139]"
      ]
     },
     "execution_count": 11,
     "metadata": {},
     "output_type": "execute_result"
    }
   ],
   "source": [
    "q = \"vaccine vaccine research cancer\"\n",
    "sorted(linear(q,0.5),reverse=True)"
   ]
  },
  {
   "cell_type": "code",
   "execution_count": 12,
   "id": "62b2208f",
   "metadata": {},
   "outputs": [
    {
     "data": {
      "text/plain": [
       "[0.06806094182825485,\n",
       " 0.10121883656509696,\n",
       " 0.027008310249307478,\n",
       " 0.027008310249307475]"
      ]
     },
     "execution_count": 12,
     "metadata": {},
     "output_type": "execute_result"
    }
   ],
   "source": [
    "q = \"vaccine research\"\n",
    "linear(q,0.5)"
   ]
  },
  {
   "cell_type": "code",
   "execution_count": null,
   "id": "0b1674b4",
   "metadata": {},
   "outputs": [],
   "source": []
  },
  {
   "cell_type": "markdown",
   "id": "71a475c0",
   "metadata": {},
   "source": [
    "# Bigram/Trigram"
   ]
  },
  {
   "cell_type": "code",
   "execution_count": 1,
   "id": "137b28b1",
   "metadata": {},
   "outputs": [],
   "source": [
    "q0 = \"regression weak classification intelligence kernel\"\n",
    "𝑞1 = \"network weights weak classification\"\n",
    "𝑞2 = \"regression weak tangent\"\n",
    "𝑞3 = \"weak classification artificial\"\n",
    "𝑞4 = \"regression weak tangent intelligence\"\n",
    "\n",
    "corpus_single = q0.split()+q1.split()+q2.split()+q3.split()+q4.split()\n",
    "corpus_n = q0+\" \"+q1+\" \"+q2+\" \"+q3+\" \"+q4\n",
    "\n",
    "vocab = set(q0.split()+q1.split()+q2.split()+q3.split()+q4.split())\n",
    "corpus_len = len(q0.split()+q1.split()+q2.split()+q3.split()+q4.split())\n"
   ]
  },
  {
   "cell_type": "code",
   "execution_count": 2,
   "id": "5468e8d1",
   "metadata": {},
   "outputs": [],
   "source": [
    "def puni(s):\n",
    "    return corpus_single.count(s)/corpus_len\n",
    "    "
   ]
  },
  {
   "cell_type": "code",
   "execution_count": 3,
   "id": "38001854",
   "metadata": {},
   "outputs": [],
   "source": [
    "def pbi(s2,s1):\n",
    "    if((corpus_single.count(s1))==0):\n",
    "        return 0\n",
    "    else:\n",
    "        return corpus_n.count(s1+\" \"+s2)/corpus_single.count(s1)"
   ]
  },
  {
   "cell_type": "code",
   "execution_count": 4,
   "id": "3341ff66",
   "metadata": {},
   "outputs": [],
   "source": [
    "def ptri(s3,s1,s2):\n",
    "    if(corpus_n.count(s1+\" \"+s2)==0):\n",
    "        return 0\n",
    "    else:\n",
    "        return corpus_n.count(s1+\" \"+s2+\" \"+s3)/corpus_n.count(s1+\" \"+s2)"
   ]
  },
  {
   "cell_type": "code",
   "execution_count": 5,
   "id": "33c36222",
   "metadata": {},
   "outputs": [],
   "source": [
    "def bigram(s1,s2):\n",
    "    for i in vocab:\n",
    "        p = puni(s1) * pbi(s2,s1) * pbi(i,s2)\n",
    "        print(str(i) + \":\" + str(p))"
   ]
  },
  {
   "cell_type": "code",
   "execution_count": 6,
   "id": "6b172747",
   "metadata": {},
   "outputs": [],
   "source": [
    "def trigram(s1,s2):\n",
    "    for i in vocab:\n",
    "        p = puni(s1) * pbi(s2,s1) * ptri(i,s1,s2)\n",
    "        print(str(i) + \":\" + str(p))"
   ]
  },
  {
   "cell_type": "code",
   "execution_count": 7,
   "id": "4e40badf",
   "metadata": {},
   "outputs": [
    {
     "name": "stdout",
     "output_type": "stream",
     "text": [
      "tangent:0.06315789473684211\n",
      "weak:0.0\n",
      "regression:0.0\n",
      "network:0.0\n",
      "intelligence:0.0\n",
      "weights:0.0\n",
      "kernel:0.0\n",
      "classification:0.09473684210526315\n",
      "artificial:0.0\n"
     ]
    }
   ],
   "source": [
    "bigram('regression','weak')"
   ]
  },
  {
   "cell_type": "code",
   "execution_count": 8,
   "id": "5afd72d5",
   "metadata": {},
   "outputs": [
    {
     "name": "stdout",
     "output_type": "stream",
     "text": [
      "tangent:0.10526315789473684\n",
      "weak:0.0\n",
      "regression:0.0\n",
      "network:0.0\n",
      "intelligence:0.0\n",
      "weights:0.0\n",
      "kernel:0.0\n",
      "classification:0.05263157894736842\n",
      "artificial:0.0\n"
     ]
    }
   ],
   "source": [
    "trigram('regression','weak')"
   ]
  },
  {
   "cell_type": "code",
   "execution_count": null,
   "id": "115cb34b",
   "metadata": {},
   "outputs": [],
   "source": []
  },
  {
   "cell_type": "code",
   "execution_count": null,
   "id": "d1765450",
   "metadata": {},
   "outputs": [],
   "source": []
  },
  {
   "cell_type": "code",
   "execution_count": null,
   "id": "6ec2f9d3",
   "metadata": {},
   "outputs": [],
   "source": []
  },
  {
   "cell_type": "code",
   "execution_count": null,
   "id": "7eb408be",
   "metadata": {},
   "outputs": [],
   "source": []
  },
  {
   "cell_type": "code",
   "execution_count": null,
   "id": "f4f8b257",
   "metadata": {},
   "outputs": [],
   "source": []
  },
  {
   "cell_type": "code",
   "execution_count": null,
   "id": "d42ec1be",
   "metadata": {},
   "outputs": [],
   "source": []
  },
  {
   "cell_type": "code",
   "execution_count": null,
   "id": "0fad297d",
   "metadata": {},
   "outputs": [],
   "source": []
  },
  {
   "cell_type": "code",
   "execution_count": null,
   "id": "d8624725",
   "metadata": {},
   "outputs": [],
   "source": []
  },
  {
   "cell_type": "code",
   "execution_count": null,
   "id": "2f6cc329",
   "metadata": {},
   "outputs": [],
   "source": []
  },
  {
   "cell_type": "code",
   "execution_count": null,
   "id": "2d9c5579",
   "metadata": {},
   "outputs": [],
   "source": []
  },
  {
   "cell_type": "code",
   "execution_count": null,
   "id": "a4b6c908",
   "metadata": {},
   "outputs": [],
   "source": []
  }
 ],
 "metadata": {
  "kernelspec": {
   "display_name": "Python 3",
   "language": "python",
   "name": "python3"
  },
  "language_info": {
   "codemirror_mode": {
    "name": "ipython",
    "version": 3
   },
   "file_extension": ".py",
   "mimetype": "text/x-python",
   "name": "python",
   "nbconvert_exporter": "python",
   "pygments_lexer": "ipython3",
   "version": "3.8.8"
  }
 },
 "nbformat": 4,
 "nbformat_minor": 5
}

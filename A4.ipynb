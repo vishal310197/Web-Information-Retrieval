{
 "cells": [
  {
   "cell_type": "code",
   "execution_count": 13,
   "id": "d87e7a6a",
   "metadata": {},
   "outputs": [],
   "source": [
    "import pandas as pd\n",
    "import numpy as np\n",
    "from math import log10, sqrt"
   ]
  },
  {
   "cell_type": "markdown",
   "id": "76ee86bd",
   "metadata": {},
   "source": [
    "# Query/Document Vector"
   ]
  },
  {
   "cell_type": "code",
   "execution_count": 14,
   "id": "b6b1e671",
   "metadata": {},
   "outputs": [],
   "source": [
    "D0=\"linear venn venn artificial\"\n",
    "D1=\"linear artificial scikit artificial regression artificial\"\n",
    "D2=\"scikit regression intelligence regression\"\n",
    "D3=\"artificial venn tandem intelligence artificial\"\n",
    "D4 = \"regression scikit regression\"\n",
    "q=\"scikit regression artificial\"\n",
    "\n",
    "corpus=[D0,D1,D2,D3,D4,q]\n",
    "word_bag= set(D0.split()+D1.split()+D2.split()+D3.split()+D4.split()+q.split())"
   ]
  },
  {
   "cell_type": "code",
   "execution_count": 15,
   "id": "4496d2c8",
   "metadata": {},
   "outputs": [],
   "source": [
    "def term_frequency(corpus,word_bag):\n",
    "    tf_df = pd.DataFrame(index = list(word_bag), columns = ['d0','d1','d2','d3','d4','q'])\n",
    "    for doc,col in zip(corpus,tf_df.columns):\n",
    "        for word in word_bag:\n",
    "            tf_df[col][word] = doc.count(word)\n",
    "                \n",
    "    return tf_df"
   ]
  },
  {
   "cell_type": "code",
   "execution_count": 16,
   "id": "f4720b5a",
   "metadata": {},
   "outputs": [
    {
     "data": {
      "text/html": [
       "<div>\n",
       "<style scoped>\n",
       "    .dataframe tbody tr th:only-of-type {\n",
       "        vertical-align: middle;\n",
       "    }\n",
       "\n",
       "    .dataframe tbody tr th {\n",
       "        vertical-align: top;\n",
       "    }\n",
       "\n",
       "    .dataframe thead th {\n",
       "        text-align: right;\n",
       "    }\n",
       "</style>\n",
       "<table border=\"1\" class=\"dataframe\">\n",
       "  <thead>\n",
       "    <tr style=\"text-align: right;\">\n",
       "      <th></th>\n",
       "      <th>d0</th>\n",
       "      <th>d1</th>\n",
       "      <th>d2</th>\n",
       "      <th>d3</th>\n",
       "      <th>d4</th>\n",
       "      <th>q</th>\n",
       "    </tr>\n",
       "  </thead>\n",
       "  <tbody>\n",
       "    <tr>\n",
       "      <th>artificial</th>\n",
       "      <td>1</td>\n",
       "      <td>3</td>\n",
       "      <td>0</td>\n",
       "      <td>2</td>\n",
       "      <td>0</td>\n",
       "      <td>1</td>\n",
       "    </tr>\n",
       "    <tr>\n",
       "      <th>scikit</th>\n",
       "      <td>0</td>\n",
       "      <td>1</td>\n",
       "      <td>1</td>\n",
       "      <td>0</td>\n",
       "      <td>1</td>\n",
       "      <td>1</td>\n",
       "    </tr>\n",
       "    <tr>\n",
       "      <th>venn</th>\n",
       "      <td>2</td>\n",
       "      <td>0</td>\n",
       "      <td>0</td>\n",
       "      <td>1</td>\n",
       "      <td>0</td>\n",
       "      <td>0</td>\n",
       "    </tr>\n",
       "    <tr>\n",
       "      <th>linear</th>\n",
       "      <td>1</td>\n",
       "      <td>1</td>\n",
       "      <td>0</td>\n",
       "      <td>0</td>\n",
       "      <td>0</td>\n",
       "      <td>0</td>\n",
       "    </tr>\n",
       "    <tr>\n",
       "      <th>intelligence</th>\n",
       "      <td>0</td>\n",
       "      <td>0</td>\n",
       "      <td>1</td>\n",
       "      <td>1</td>\n",
       "      <td>0</td>\n",
       "      <td>0</td>\n",
       "    </tr>\n",
       "    <tr>\n",
       "      <th>tandem</th>\n",
       "      <td>0</td>\n",
       "      <td>0</td>\n",
       "      <td>0</td>\n",
       "      <td>1</td>\n",
       "      <td>0</td>\n",
       "      <td>0</td>\n",
       "    </tr>\n",
       "    <tr>\n",
       "      <th>regression</th>\n",
       "      <td>0</td>\n",
       "      <td>1</td>\n",
       "      <td>2</td>\n",
       "      <td>0</td>\n",
       "      <td>2</td>\n",
       "      <td>1</td>\n",
       "    </tr>\n",
       "  </tbody>\n",
       "</table>\n",
       "</div>"
      ],
      "text/plain": [
       "             d0 d1 d2 d3 d4  q\n",
       "artificial    1  3  0  2  0  1\n",
       "scikit        0  1  1  0  1  1\n",
       "venn          2  0  0  1  0  0\n",
       "linear        1  1  0  0  0  0\n",
       "intelligence  0  0  1  1  0  0\n",
       "tandem        0  0  0  1  0  0\n",
       "regression    0  1  2  0  2  1"
      ]
     },
     "execution_count": 16,
     "metadata": {},
     "output_type": "execute_result"
    }
   ],
   "source": [
    "tf_df = term_frequency(corpus,word_bag)\n",
    "tf_df"
   ]
  },
  {
   "cell_type": "code",
   "execution_count": 19,
   "id": "29b92efb",
   "metadata": {},
   "outputs": [],
   "source": [
    "document_frequencies = {}\n",
    "def document_frequency(corpus,word_bag):\n",
    "    \n",
    "    for word in word_bag:\n",
    "        for doc in corpus[:-1]: #excludingb q\n",
    "            if word not in document_frequencies.keys():\n",
    "                document_frequencies[word]=1\n",
    "            elif word in doc:\n",
    "                document_frequencies[word]+=1"
   ]
  },
  {
   "cell_type": "code",
   "execution_count": 20,
   "id": "61e6dc03",
   "metadata": {},
   "outputs": [
    {
     "data": {
      "text/plain": [
       "{'artificial': 3,\n",
       " 'scikit': 4,\n",
       " 'venn': 2,\n",
       " 'linear': 2,\n",
       " 'intelligence': 3,\n",
       " 'tandem': 2,\n",
       " 'regression': 4}"
      ]
     },
     "execution_count": 20,
     "metadata": {},
     "output_type": "execute_result"
    }
   ],
   "source": [
    "document_frequency(corpus,word_bag)\n",
    "document_frequencies\n"
   ]
  },
  {
   "cell_type": "code",
   "execution_count": 22,
   "id": "308c2c47",
   "metadata": {},
   "outputs": [
    {
     "data": {
      "text/plain": [
       "{'artificial': 3,\n",
       " 'scikit': 3,\n",
       " 'venn': 2,\n",
       " 'linear': 2,\n",
       " 'intelligence': 2,\n",
       " 'tandem': 1,\n",
       " 'regression': 3}"
      ]
     },
     "execution_count": 22,
     "metadata": {},
     "output_type": "execute_result"
    }
   ],
   "source": [
    "document_frequencies['scikit'] = 3\n",
    "document_frequencies['intelligence'] = 2\n",
    "document_frequencies['tandem'] = 1\n",
    "document_frequencies['regression'] = 3\n",
    "document_frequencies"
   ]
  },
  {
   "cell_type": "code",
   "execution_count": 23,
   "id": "f60eeca7",
   "metadata": {},
   "outputs": [],
   "source": [
    "tf_idf_df = pd.DataFrame(index = list(word_bag), columns = ['d0','d1','d2','d3','d4','q'])\n",
    "\n",
    "def tf_idf():\n",
    "    for word in word_bag:\n",
    "        tf_idf_df.loc[word] = tf_df.loc[word]*(log10((len(corpus)-1)/document_frequencies[word]))"
   ]
  },
  {
   "cell_type": "code",
   "execution_count": 24,
   "id": "39f50ee1",
   "metadata": {},
   "outputs": [
    {
     "data": {
      "text/html": [
       "<div>\n",
       "<style scoped>\n",
       "    .dataframe tbody tr th:only-of-type {\n",
       "        vertical-align: middle;\n",
       "    }\n",
       "\n",
       "    .dataframe tbody tr th {\n",
       "        vertical-align: top;\n",
       "    }\n",
       "\n",
       "    .dataframe thead th {\n",
       "        text-align: right;\n",
       "    }\n",
       "</style>\n",
       "<table border=\"1\" class=\"dataframe\">\n",
       "  <thead>\n",
       "    <tr style=\"text-align: right;\">\n",
       "      <th></th>\n",
       "      <th>d0</th>\n",
       "      <th>d1</th>\n",
       "      <th>d2</th>\n",
       "      <th>d3</th>\n",
       "      <th>d4</th>\n",
       "      <th>q</th>\n",
       "    </tr>\n",
       "  </thead>\n",
       "  <tbody>\n",
       "    <tr>\n",
       "      <th>artificial</th>\n",
       "      <td>0.221849</td>\n",
       "      <td>0.665546</td>\n",
       "      <td>0.0</td>\n",
       "      <td>0.443697</td>\n",
       "      <td>0.0</td>\n",
       "      <td>0.221849</td>\n",
       "    </tr>\n",
       "    <tr>\n",
       "      <th>scikit</th>\n",
       "      <td>0.0</td>\n",
       "      <td>0.221849</td>\n",
       "      <td>0.221849</td>\n",
       "      <td>0.0</td>\n",
       "      <td>0.221849</td>\n",
       "      <td>0.221849</td>\n",
       "    </tr>\n",
       "    <tr>\n",
       "      <th>venn</th>\n",
       "      <td>0.79588</td>\n",
       "      <td>0.0</td>\n",
       "      <td>0.0</td>\n",
       "      <td>0.39794</td>\n",
       "      <td>0.0</td>\n",
       "      <td>0.0</td>\n",
       "    </tr>\n",
       "    <tr>\n",
       "      <th>linear</th>\n",
       "      <td>0.39794</td>\n",
       "      <td>0.39794</td>\n",
       "      <td>0.0</td>\n",
       "      <td>0.0</td>\n",
       "      <td>0.0</td>\n",
       "      <td>0.0</td>\n",
       "    </tr>\n",
       "    <tr>\n",
       "      <th>intelligence</th>\n",
       "      <td>0.0</td>\n",
       "      <td>0.0</td>\n",
       "      <td>0.39794</td>\n",
       "      <td>0.39794</td>\n",
       "      <td>0.0</td>\n",
       "      <td>0.0</td>\n",
       "    </tr>\n",
       "    <tr>\n",
       "      <th>tandem</th>\n",
       "      <td>0.0</td>\n",
       "      <td>0.0</td>\n",
       "      <td>0.0</td>\n",
       "      <td>0.69897</td>\n",
       "      <td>0.0</td>\n",
       "      <td>0.0</td>\n",
       "    </tr>\n",
       "    <tr>\n",
       "      <th>regression</th>\n",
       "      <td>0.0</td>\n",
       "      <td>0.221849</td>\n",
       "      <td>0.443697</td>\n",
       "      <td>0.0</td>\n",
       "      <td>0.443697</td>\n",
       "      <td>0.221849</td>\n",
       "    </tr>\n",
       "  </tbody>\n",
       "</table>\n",
       "</div>"
      ],
      "text/plain": [
       "                    d0        d1        d2        d3        d4         q\n",
       "artificial    0.221849  0.665546       0.0  0.443697       0.0  0.221849\n",
       "scikit             0.0  0.221849  0.221849       0.0  0.221849  0.221849\n",
       "venn           0.79588       0.0       0.0   0.39794       0.0       0.0\n",
       "linear         0.39794   0.39794       0.0       0.0       0.0       0.0\n",
       "intelligence       0.0       0.0   0.39794   0.39794       0.0       0.0\n",
       "tandem             0.0       0.0       0.0   0.69897       0.0       0.0\n",
       "regression         0.0  0.221849  0.443697       0.0  0.443697  0.221849"
      ]
     },
     "execution_count": 24,
     "metadata": {},
     "output_type": "execute_result"
    }
   ],
   "source": [
    "tf_idf()\n",
    "tf_idf_df"
   ]
  },
  {
   "cell_type": "code",
   "execution_count": 28,
   "id": "440f2e0a",
   "metadata": {},
   "outputs": [
    {
     "data": {
      "text/plain": [
       "0.6989700043360189"
      ]
     },
     "execution_count": 28,
     "metadata": {},
     "output_type": "execute_result"
    }
   ],
   "source": [
    "#idf\n",
    "log10((len(corpus)-1))/document_frequencies['tandem']"
   ]
  },
  {
   "cell_type": "markdown",
   "id": "9c047115",
   "metadata": {},
   "source": []
  },
  {
   "cell_type": "code",
   "execution_count": null,
   "id": "b6e21b1b",
   "metadata": {},
   "outputs": [],
   "source": []
  },
  {
   "cell_type": "markdown",
   "id": "2252fd9f",
   "metadata": {},
   "source": [
    "# Rocchio Feedback"
   ]
  },
  {
   "cell_type": "code",
   "execution_count": 9,
   "id": "b5ff139e",
   "metadata": {},
   "outputs": [],
   "source": [
    "#Rocchio feedback\n",
    "def rocchio(alpha,beta,gamma):\n",
    "    q_updates = (alpha*tf_idf_df['q']) + (beta*tf_idf_df['d1']) - (gamma*tf_idf_df['d3'])\n",
    "    return q_updates"
   ]
  },
  {
   "cell_type": "code",
   "execution_count": 10,
   "id": "e91369e2",
   "metadata": {},
   "outputs": [
    {
     "data": {
      "text/plain": [
       "dogs      0.087457\n",
       "rats       0.30103\n",
       "behind    0.212396\n",
       "cats           0.0\n",
       "runs           0.0\n",
       "dtype: object"
      ]
     },
     "execution_count": 10,
     "metadata": {},
     "output_type": "execute_result"
    }
   ],
   "source": [
    "rocchio(1,0.8,0.1)"
   ]
  },
  {
   "cell_type": "code",
   "execution_count": 11,
   "id": "bdeaa9d4",
   "metadata": {},
   "outputs": [
    {
     "data": {
      "text/plain": [
       "dogs     -0.099951\n",
       "rats       0.30103\n",
       "behind    0.024988\n",
       "cats           0.0\n",
       "runs           0.0\n",
       "dtype: object"
      ]
     },
     "execution_count": 11,
     "metadata": {},
     "output_type": "execute_result"
    }
   ],
   "source": [
    "rocchio(1,0.1,0.9)"
   ]
  },
  {
   "cell_type": "code",
   "execution_count": 12,
   "id": "c18deadc",
   "metadata": {},
   "outputs": [
    {
     "data": {
      "text/plain": [
       "dogs           0.0\n",
       "rats       0.30103\n",
       "behind    0.124939\n",
       "cats           0.0\n",
       "runs           0.0\n",
       "dtype: object"
      ]
     },
     "execution_count": 12,
     "metadata": {},
     "output_type": "execute_result"
    }
   ],
   "source": [
    "rocchio(1,1,1)"
   ]
  },
  {
   "cell_type": "markdown",
   "id": "92e5aaf2",
   "metadata": {},
   "source": [
    "# Query/Document vector using df"
   ]
  },
  {
   "cell_type": "code",
   "execution_count": 13,
   "id": "dfa60b94",
   "metadata": {},
   "outputs": [],
   "source": [
    "d0 = \"preliminary findings in corona research\"\n",
    "d1 = \"novel corona research findings\"\n",
    "d2 = \"new research to corona healing\"\n",
    "d3 = \"healing novel corona research\"\n",
    "query = \"novel novel preliminary new research\"\n",
    "D={d0, d1, d2, d3}\n",
    "vocab = {\"preliminary\", \"findings\", \"in\", \"corona\", \"research\", \"novel\",\n",
    "\"new\", \"to\", \"healing\"}"
   ]
  },
  {
   "cell_type": "code",
   "execution_count": 14,
   "id": "4aa1bc89",
   "metadata": {},
   "outputs": [],
   "source": [
    "def term_frequency2(vocab):\n",
    "    d0_dict = dict.fromkeys(vocab,0)\n",
    "    d1_dict = dict.fromkeys(vocab,0)\n",
    "    d2_dict = dict.fromkeys(vocab,0)\n",
    "    d3_dict = dict.fromkeys(vocab,0)\n",
    "    query_dict = dict.fromkeys(vocab,0)\n",
    "    \n",
    "    for word in d0.split():\n",
    "        d0_dict[word]+=1\n",
    "    for word in d1.split():\n",
    "        d1_dict[word]+=1\n",
    "    for word in d2.split():\n",
    "        d2_dict[word]+=1\n",
    "    for word in d3.split():\n",
    "        d3_dict[word]+=1\n",
    "    for word in query.split():\n",
    "        query_dict[word]+=1\n",
    "    \n",
    "    return pd.DataFrame([d0_dict,d1_dict,d2_dict,d3_dict,query_dict], index = ['d0','d1','d2','d3','query']).transpose()"
   ]
  },
  {
   "cell_type": "code",
   "execution_count": 15,
   "id": "cbf4cf58",
   "metadata": {},
   "outputs": [
    {
     "data": {
      "text/html": [
       "<div>\n",
       "<style scoped>\n",
       "    .dataframe tbody tr th:only-of-type {\n",
       "        vertical-align: middle;\n",
       "    }\n",
       "\n",
       "    .dataframe tbody tr th {\n",
       "        vertical-align: top;\n",
       "    }\n",
       "\n",
       "    .dataframe thead th {\n",
       "        text-align: right;\n",
       "    }\n",
       "</style>\n",
       "<table border=\"1\" class=\"dataframe\">\n",
       "  <thead>\n",
       "    <tr style=\"text-align: right;\">\n",
       "      <th></th>\n",
       "      <th>d0</th>\n",
       "      <th>d1</th>\n",
       "      <th>d2</th>\n",
       "      <th>d3</th>\n",
       "      <th>query</th>\n",
       "    </tr>\n",
       "  </thead>\n",
       "  <tbody>\n",
       "    <tr>\n",
       "      <th>new</th>\n",
       "      <td>0</td>\n",
       "      <td>0</td>\n",
       "      <td>1</td>\n",
       "      <td>0</td>\n",
       "      <td>1</td>\n",
       "    </tr>\n",
       "    <tr>\n",
       "      <th>research</th>\n",
       "      <td>1</td>\n",
       "      <td>1</td>\n",
       "      <td>1</td>\n",
       "      <td>1</td>\n",
       "      <td>1</td>\n",
       "    </tr>\n",
       "    <tr>\n",
       "      <th>preliminary</th>\n",
       "      <td>1</td>\n",
       "      <td>0</td>\n",
       "      <td>0</td>\n",
       "      <td>0</td>\n",
       "      <td>1</td>\n",
       "    </tr>\n",
       "    <tr>\n",
       "      <th>to</th>\n",
       "      <td>0</td>\n",
       "      <td>0</td>\n",
       "      <td>1</td>\n",
       "      <td>0</td>\n",
       "      <td>0</td>\n",
       "    </tr>\n",
       "    <tr>\n",
       "      <th>novel</th>\n",
       "      <td>0</td>\n",
       "      <td>1</td>\n",
       "      <td>0</td>\n",
       "      <td>1</td>\n",
       "      <td>2</td>\n",
       "    </tr>\n",
       "    <tr>\n",
       "      <th>findings</th>\n",
       "      <td>1</td>\n",
       "      <td>1</td>\n",
       "      <td>0</td>\n",
       "      <td>0</td>\n",
       "      <td>0</td>\n",
       "    </tr>\n",
       "    <tr>\n",
       "      <th>healing</th>\n",
       "      <td>0</td>\n",
       "      <td>0</td>\n",
       "      <td>1</td>\n",
       "      <td>1</td>\n",
       "      <td>0</td>\n",
       "    </tr>\n",
       "    <tr>\n",
       "      <th>in</th>\n",
       "      <td>1</td>\n",
       "      <td>0</td>\n",
       "      <td>0</td>\n",
       "      <td>0</td>\n",
       "      <td>0</td>\n",
       "    </tr>\n",
       "    <tr>\n",
       "      <th>corona</th>\n",
       "      <td>1</td>\n",
       "      <td>1</td>\n",
       "      <td>1</td>\n",
       "      <td>1</td>\n",
       "      <td>0</td>\n",
       "    </tr>\n",
       "  </tbody>\n",
       "</table>\n",
       "</div>"
      ],
      "text/plain": [
       "             d0  d1  d2  d3  query\n",
       "new           0   0   1   0      1\n",
       "research      1   1   1   1      1\n",
       "preliminary   1   0   0   0      1\n",
       "to            0   0   1   0      0\n",
       "novel         0   1   0   1      2\n",
       "findings      1   1   0   0      0\n",
       "healing       0   0   1   1      0\n",
       "in            1   0   0   0      0\n",
       "corona        1   1   1   1      0"
      ]
     },
     "execution_count": 15,
     "metadata": {},
     "output_type": "execute_result"
    }
   ],
   "source": [
    "df = term_frequency2(vocab)\n",
    "df"
   ]
  },
  {
   "cell_type": "code",
   "execution_count": 16,
   "id": "697ade8a",
   "metadata": {},
   "outputs": [
    {
     "data": {
      "text/html": [
       "<div>\n",
       "<style scoped>\n",
       "    .dataframe tbody tr th:only-of-type {\n",
       "        vertical-align: middle;\n",
       "    }\n",
       "\n",
       "    .dataframe tbody tr th {\n",
       "        vertical-align: top;\n",
       "    }\n",
       "\n",
       "    .dataframe thead th {\n",
       "        text-align: right;\n",
       "    }\n",
       "</style>\n",
       "<table border=\"1\" class=\"dataframe\">\n",
       "  <thead>\n",
       "    <tr style=\"text-align: right;\">\n",
       "      <th></th>\n",
       "      <th>d0</th>\n",
       "      <th>d1</th>\n",
       "      <th>d2</th>\n",
       "      <th>d3</th>\n",
       "      <th>query</th>\n",
       "      <th>docfreq</th>\n",
       "    </tr>\n",
       "  </thead>\n",
       "  <tbody>\n",
       "    <tr>\n",
       "      <th>new</th>\n",
       "      <td>0</td>\n",
       "      <td>0</td>\n",
       "      <td>1</td>\n",
       "      <td>0</td>\n",
       "      <td>1</td>\n",
       "      <td>1</td>\n",
       "    </tr>\n",
       "    <tr>\n",
       "      <th>research</th>\n",
       "      <td>1</td>\n",
       "      <td>1</td>\n",
       "      <td>1</td>\n",
       "      <td>1</td>\n",
       "      <td>1</td>\n",
       "      <td>4</td>\n",
       "    </tr>\n",
       "    <tr>\n",
       "      <th>preliminary</th>\n",
       "      <td>1</td>\n",
       "      <td>0</td>\n",
       "      <td>0</td>\n",
       "      <td>0</td>\n",
       "      <td>1</td>\n",
       "      <td>1</td>\n",
       "    </tr>\n",
       "    <tr>\n",
       "      <th>to</th>\n",
       "      <td>0</td>\n",
       "      <td>0</td>\n",
       "      <td>1</td>\n",
       "      <td>0</td>\n",
       "      <td>0</td>\n",
       "      <td>1</td>\n",
       "    </tr>\n",
       "    <tr>\n",
       "      <th>novel</th>\n",
       "      <td>0</td>\n",
       "      <td>1</td>\n",
       "      <td>0</td>\n",
       "      <td>1</td>\n",
       "      <td>2</td>\n",
       "      <td>2</td>\n",
       "    </tr>\n",
       "    <tr>\n",
       "      <th>findings</th>\n",
       "      <td>1</td>\n",
       "      <td>1</td>\n",
       "      <td>0</td>\n",
       "      <td>0</td>\n",
       "      <td>0</td>\n",
       "      <td>2</td>\n",
       "    </tr>\n",
       "    <tr>\n",
       "      <th>healing</th>\n",
       "      <td>0</td>\n",
       "      <td>0</td>\n",
       "      <td>1</td>\n",
       "      <td>1</td>\n",
       "      <td>0</td>\n",
       "      <td>2</td>\n",
       "    </tr>\n",
       "    <tr>\n",
       "      <th>in</th>\n",
       "      <td>1</td>\n",
       "      <td>0</td>\n",
       "      <td>0</td>\n",
       "      <td>0</td>\n",
       "      <td>0</td>\n",
       "      <td>1</td>\n",
       "    </tr>\n",
       "    <tr>\n",
       "      <th>corona</th>\n",
       "      <td>1</td>\n",
       "      <td>1</td>\n",
       "      <td>1</td>\n",
       "      <td>1</td>\n",
       "      <td>0</td>\n",
       "      <td>4</td>\n",
       "    </tr>\n",
       "  </tbody>\n",
       "</table>\n",
       "</div>"
      ],
      "text/plain": [
       "             d0  d1  d2  d3  query  docfreq\n",
       "new           0   0   1   0      1        1\n",
       "research      1   1   1   1      1        4\n",
       "preliminary   1   0   0   0      1        1\n",
       "to            0   0   1   0      0        1\n",
       "novel         0   1   0   1      2        2\n",
       "findings      1   1   0   0      0        2\n",
       "healing       0   0   1   1      0        2\n",
       "in            1   0   0   0      0        1\n",
       "corona        1   1   1   1      0        4"
      ]
     },
     "execution_count": 16,
     "metadata": {},
     "output_type": "execute_result"
    }
   ],
   "source": [
    "#Document Frequency\n",
    "df['docfreq'] = df['d0'] + df['d1'] + df['d2'] + df['d3']\n",
    "df"
   ]
  },
  {
   "cell_type": "code",
   "execution_count": 17,
   "id": "dd6b0c32",
   "metadata": {},
   "outputs": [
    {
     "data": {
      "text/html": [
       "<div>\n",
       "<style scoped>\n",
       "    .dataframe tbody tr th:only-of-type {\n",
       "        vertical-align: middle;\n",
       "    }\n",
       "\n",
       "    .dataframe tbody tr th {\n",
       "        vertical-align: top;\n",
       "    }\n",
       "\n",
       "    .dataframe thead th {\n",
       "        text-align: right;\n",
       "    }\n",
       "</style>\n",
       "<table border=\"1\" class=\"dataframe\">\n",
       "  <thead>\n",
       "    <tr style=\"text-align: right;\">\n",
       "      <th></th>\n",
       "      <th>d0</th>\n",
       "      <th>d1</th>\n",
       "      <th>d2</th>\n",
       "      <th>d3</th>\n",
       "      <th>query</th>\n",
       "      <th>docfreq</th>\n",
       "      <th>global_weights</th>\n",
       "    </tr>\n",
       "  </thead>\n",
       "  <tbody>\n",
       "    <tr>\n",
       "      <th>new</th>\n",
       "      <td>0</td>\n",
       "      <td>0</td>\n",
       "      <td>1</td>\n",
       "      <td>0</td>\n",
       "      <td>1</td>\n",
       "      <td>1</td>\n",
       "      <td>0.60206</td>\n",
       "    </tr>\n",
       "    <tr>\n",
       "      <th>research</th>\n",
       "      <td>1</td>\n",
       "      <td>1</td>\n",
       "      <td>1</td>\n",
       "      <td>1</td>\n",
       "      <td>1</td>\n",
       "      <td>4</td>\n",
       "      <td>0.00000</td>\n",
       "    </tr>\n",
       "    <tr>\n",
       "      <th>preliminary</th>\n",
       "      <td>1</td>\n",
       "      <td>0</td>\n",
       "      <td>0</td>\n",
       "      <td>0</td>\n",
       "      <td>1</td>\n",
       "      <td>1</td>\n",
       "      <td>0.60206</td>\n",
       "    </tr>\n",
       "    <tr>\n",
       "      <th>to</th>\n",
       "      <td>0</td>\n",
       "      <td>0</td>\n",
       "      <td>1</td>\n",
       "      <td>0</td>\n",
       "      <td>0</td>\n",
       "      <td>1</td>\n",
       "      <td>0.60206</td>\n",
       "    </tr>\n",
       "    <tr>\n",
       "      <th>novel</th>\n",
       "      <td>0</td>\n",
       "      <td>1</td>\n",
       "      <td>0</td>\n",
       "      <td>1</td>\n",
       "      <td>2</td>\n",
       "      <td>2</td>\n",
       "      <td>0.30103</td>\n",
       "    </tr>\n",
       "    <tr>\n",
       "      <th>findings</th>\n",
       "      <td>1</td>\n",
       "      <td>1</td>\n",
       "      <td>0</td>\n",
       "      <td>0</td>\n",
       "      <td>0</td>\n",
       "      <td>2</td>\n",
       "      <td>0.30103</td>\n",
       "    </tr>\n",
       "    <tr>\n",
       "      <th>healing</th>\n",
       "      <td>0</td>\n",
       "      <td>0</td>\n",
       "      <td>1</td>\n",
       "      <td>1</td>\n",
       "      <td>0</td>\n",
       "      <td>2</td>\n",
       "      <td>0.30103</td>\n",
       "    </tr>\n",
       "    <tr>\n",
       "      <th>in</th>\n",
       "      <td>1</td>\n",
       "      <td>0</td>\n",
       "      <td>0</td>\n",
       "      <td>0</td>\n",
       "      <td>0</td>\n",
       "      <td>1</td>\n",
       "      <td>0.60206</td>\n",
       "    </tr>\n",
       "    <tr>\n",
       "      <th>corona</th>\n",
       "      <td>1</td>\n",
       "      <td>1</td>\n",
       "      <td>1</td>\n",
       "      <td>1</td>\n",
       "      <td>0</td>\n",
       "      <td>4</td>\n",
       "      <td>0.00000</td>\n",
       "    </tr>\n",
       "  </tbody>\n",
       "</table>\n",
       "</div>"
      ],
      "text/plain": [
       "             d0  d1  d2  d3  query  docfreq  global_weights\n",
       "new           0   0   1   0      1        1         0.60206\n",
       "research      1   1   1   1      1        4         0.00000\n",
       "preliminary   1   0   0   0      1        1         0.60206\n",
       "to            0   0   1   0      0        1         0.60206\n",
       "novel         0   1   0   1      2        2         0.30103\n",
       "findings      1   1   0   0      0        2         0.30103\n",
       "healing       0   0   1   1      0        2         0.30103\n",
       "in            1   0   0   0      0        1         0.60206\n",
       "corona        1   1   1   1      0        4         0.00000"
      ]
     },
     "execution_count": 17,
     "metadata": {},
     "output_type": "execute_result"
    }
   ],
   "source": [
    "#global weights\n",
    "df['global_weights'] = np.log10((len(D))/df['docfreq'])\n",
    "df"
   ]
  },
  {
   "cell_type": "code",
   "execution_count": 18,
   "id": "7ad08ef8",
   "metadata": {},
   "outputs": [
    {
     "data": {
      "text/html": [
       "<div>\n",
       "<style scoped>\n",
       "    .dataframe tbody tr th:only-of-type {\n",
       "        vertical-align: middle;\n",
       "    }\n",
       "\n",
       "    .dataframe tbody tr th {\n",
       "        vertical-align: top;\n",
       "    }\n",
       "\n",
       "    .dataframe thead th {\n",
       "        text-align: right;\n",
       "    }\n",
       "</style>\n",
       "<table border=\"1\" class=\"dataframe\">\n",
       "  <thead>\n",
       "    <tr style=\"text-align: right;\">\n",
       "      <th></th>\n",
       "      <th>d0</th>\n",
       "      <th>d1</th>\n",
       "      <th>d2</th>\n",
       "      <th>d3</th>\n",
       "      <th>query</th>\n",
       "      <th>docfreq</th>\n",
       "      <th>global_weights</th>\n",
       "      <th>d0_tfidf</th>\n",
       "      <th>d1_tfidf</th>\n",
       "      <th>d2_tfidf</th>\n",
       "      <th>d3_tfidf</th>\n",
       "      <th>query_tfidf</th>\n",
       "    </tr>\n",
       "  </thead>\n",
       "  <tbody>\n",
       "    <tr>\n",
       "      <th>new</th>\n",
       "      <td>0</td>\n",
       "      <td>0</td>\n",
       "      <td>1</td>\n",
       "      <td>0</td>\n",
       "      <td>1</td>\n",
       "      <td>1</td>\n",
       "      <td>0.60206</td>\n",
       "      <td>0.00000</td>\n",
       "      <td>0.00000</td>\n",
       "      <td>0.60206</td>\n",
       "      <td>0.00000</td>\n",
       "      <td>0.60206</td>\n",
       "    </tr>\n",
       "    <tr>\n",
       "      <th>research</th>\n",
       "      <td>1</td>\n",
       "      <td>1</td>\n",
       "      <td>1</td>\n",
       "      <td>1</td>\n",
       "      <td>1</td>\n",
       "      <td>4</td>\n",
       "      <td>0.00000</td>\n",
       "      <td>0.00000</td>\n",
       "      <td>0.00000</td>\n",
       "      <td>0.00000</td>\n",
       "      <td>0.00000</td>\n",
       "      <td>0.00000</td>\n",
       "    </tr>\n",
       "    <tr>\n",
       "      <th>preliminary</th>\n",
       "      <td>1</td>\n",
       "      <td>0</td>\n",
       "      <td>0</td>\n",
       "      <td>0</td>\n",
       "      <td>1</td>\n",
       "      <td>1</td>\n",
       "      <td>0.60206</td>\n",
       "      <td>0.60206</td>\n",
       "      <td>0.00000</td>\n",
       "      <td>0.00000</td>\n",
       "      <td>0.00000</td>\n",
       "      <td>0.60206</td>\n",
       "    </tr>\n",
       "    <tr>\n",
       "      <th>to</th>\n",
       "      <td>0</td>\n",
       "      <td>0</td>\n",
       "      <td>1</td>\n",
       "      <td>0</td>\n",
       "      <td>0</td>\n",
       "      <td>1</td>\n",
       "      <td>0.60206</td>\n",
       "      <td>0.00000</td>\n",
       "      <td>0.00000</td>\n",
       "      <td>0.60206</td>\n",
       "      <td>0.00000</td>\n",
       "      <td>0.00000</td>\n",
       "    </tr>\n",
       "    <tr>\n",
       "      <th>novel</th>\n",
       "      <td>0</td>\n",
       "      <td>1</td>\n",
       "      <td>0</td>\n",
       "      <td>1</td>\n",
       "      <td>2</td>\n",
       "      <td>2</td>\n",
       "      <td>0.30103</td>\n",
       "      <td>0.00000</td>\n",
       "      <td>0.30103</td>\n",
       "      <td>0.00000</td>\n",
       "      <td>0.30103</td>\n",
       "      <td>0.60206</td>\n",
       "    </tr>\n",
       "    <tr>\n",
       "      <th>findings</th>\n",
       "      <td>1</td>\n",
       "      <td>1</td>\n",
       "      <td>0</td>\n",
       "      <td>0</td>\n",
       "      <td>0</td>\n",
       "      <td>2</td>\n",
       "      <td>0.30103</td>\n",
       "      <td>0.30103</td>\n",
       "      <td>0.30103</td>\n",
       "      <td>0.00000</td>\n",
       "      <td>0.00000</td>\n",
       "      <td>0.00000</td>\n",
       "    </tr>\n",
       "    <tr>\n",
       "      <th>healing</th>\n",
       "      <td>0</td>\n",
       "      <td>0</td>\n",
       "      <td>1</td>\n",
       "      <td>1</td>\n",
       "      <td>0</td>\n",
       "      <td>2</td>\n",
       "      <td>0.30103</td>\n",
       "      <td>0.00000</td>\n",
       "      <td>0.00000</td>\n",
       "      <td>0.30103</td>\n",
       "      <td>0.30103</td>\n",
       "      <td>0.00000</td>\n",
       "    </tr>\n",
       "    <tr>\n",
       "      <th>in</th>\n",
       "      <td>1</td>\n",
       "      <td>0</td>\n",
       "      <td>0</td>\n",
       "      <td>0</td>\n",
       "      <td>0</td>\n",
       "      <td>1</td>\n",
       "      <td>0.60206</td>\n",
       "      <td>0.60206</td>\n",
       "      <td>0.00000</td>\n",
       "      <td>0.00000</td>\n",
       "      <td>0.00000</td>\n",
       "      <td>0.00000</td>\n",
       "    </tr>\n",
       "    <tr>\n",
       "      <th>corona</th>\n",
       "      <td>1</td>\n",
       "      <td>1</td>\n",
       "      <td>1</td>\n",
       "      <td>1</td>\n",
       "      <td>0</td>\n",
       "      <td>4</td>\n",
       "      <td>0.00000</td>\n",
       "      <td>0.00000</td>\n",
       "      <td>0.00000</td>\n",
       "      <td>0.00000</td>\n",
       "      <td>0.00000</td>\n",
       "      <td>0.00000</td>\n",
       "    </tr>\n",
       "  </tbody>\n",
       "</table>\n",
       "</div>"
      ],
      "text/plain": [
       "             d0  d1  d2  d3  query  docfreq  global_weights  d0_tfidf  \\\n",
       "new           0   0   1   0      1        1         0.60206   0.00000   \n",
       "research      1   1   1   1      1        4         0.00000   0.00000   \n",
       "preliminary   1   0   0   0      1        1         0.60206   0.60206   \n",
       "to            0   0   1   0      0        1         0.60206   0.00000   \n",
       "novel         0   1   0   1      2        2         0.30103   0.00000   \n",
       "findings      1   1   0   0      0        2         0.30103   0.30103   \n",
       "healing       0   0   1   1      0        2         0.30103   0.00000   \n",
       "in            1   0   0   0      0        1         0.60206   0.60206   \n",
       "corona        1   1   1   1      0        4         0.00000   0.00000   \n",
       "\n",
       "             d1_tfidf  d2_tfidf  d3_tfidf  query_tfidf  \n",
       "new           0.00000   0.60206   0.00000      0.60206  \n",
       "research      0.00000   0.00000   0.00000      0.00000  \n",
       "preliminary   0.00000   0.00000   0.00000      0.60206  \n",
       "to            0.00000   0.60206   0.00000      0.00000  \n",
       "novel         0.30103   0.00000   0.30103      0.60206  \n",
       "findings      0.30103   0.00000   0.00000      0.00000  \n",
       "healing       0.00000   0.30103   0.30103      0.00000  \n",
       "in            0.00000   0.00000   0.00000      0.00000  \n",
       "corona        0.00000   0.00000   0.00000      0.00000  "
      ]
     },
     "execution_count": 18,
     "metadata": {},
     "output_type": "execute_result"
    }
   ],
   "source": [
    "#query vector\n",
    "df['d0_tfidf'] = df['global_weights']*df['d0']\n",
    "df['d1_tfidf'] = df['global_weights']*df['d1']\n",
    "df['d2_tfidf'] = df['global_weights']*df['d2']\n",
    "df['d3_tfidf'] = df['global_weights']*df['d3']\n",
    "df['query_tfidf'] = df['global_weights']*df['query']\n",
    "df"
   ]
  },
  {
   "cell_type": "markdown",
   "id": "5afa82cd",
   "metadata": {},
   "source": [
    "# Cosine Similarity(Relevance(d,q))"
   ]
  },
  {
   "cell_type": "code",
   "execution_count": 30,
   "id": "73b82ba6",
   "metadata": {},
   "outputs": [],
   "source": [
    "import math\n",
    "def magnitude(vector): \n",
    "    return math.sqrt(sum(pow(element, 2) for element in vector))"
   ]
  },
  {
   "cell_type": "code",
   "execution_count": 31,
   "id": "f85c4bde",
   "metadata": {},
   "outputs": [],
   "source": [
    "#cosine similarity\n",
    "\n",
    "def cos(query,document):\n",
    "    return np.dot(query,document)/(magnitude(query) * magnitude(document))\n",
    "    \n",
    "\n",
    "#np.dot(df['query_tfidf'],df['d3_tfidf'])/(magnitude(df['query_tfidf'] * magnitude(df['d3_tfidf'])))"
   ]
  },
  {
   "cell_type": "code",
   "execution_count": 21,
   "id": "b566cfc6",
   "metadata": {},
   "outputs": [
    {
     "data": {
      "text/plain": [
       "0.4082482904638631"
      ]
     },
     "execution_count": 21,
     "metadata": {},
     "output_type": "execute_result"
    }
   ],
   "source": [
    "#query to doc 3\n",
    "cos(df['query_tfidf'],df['d3_tfidf'])"
   ]
  },
  {
   "cell_type": "code",
   "execution_count": 22,
   "id": "3b4f7de3",
   "metadata": {},
   "outputs": [
    {
     "data": {
      "text/plain": [
       "0.3849001794597505"
      ]
     },
     "execution_count": 22,
     "metadata": {},
     "output_type": "execute_result"
    }
   ],
   "source": [
    "cos(df['query_tfidf'],df['d2_tfidf'])"
   ]
  },
  {
   "cell_type": "code",
   "execution_count": 23,
   "id": "3b38251e",
   "metadata": {},
   "outputs": [
    {
     "data": {
      "text/plain": [
       "0.4082482904638631"
      ]
     },
     "execution_count": 23,
     "metadata": {},
     "output_type": "execute_result"
    }
   ],
   "source": [
    "cos(df['query_tfidf'],df['d1_tfidf'])"
   ]
  },
  {
   "cell_type": "code",
   "execution_count": 34,
   "id": "5bdeef40",
   "metadata": {},
   "outputs": [
    {
     "data": {
      "text/plain": [
       "0.7745966692414833"
      ]
     },
     "execution_count": 34,
     "metadata": {},
     "output_type": "execute_result"
    }
   ],
   "source": [
    "cos(tf_idf_df['q'],tf_idf_df['d4'])"
   ]
  },
  {
   "cell_type": "code",
   "execution_count": 33,
   "id": "01c63c1e",
   "metadata": {},
   "outputs": [
    {
     "data": {
      "text/plain": [
       "0.38425330593115575"
      ]
     },
     "execution_count": 33,
     "metadata": {},
     "output_type": "execute_result"
    }
   ],
   "source": [
    "magnitude(tf_idf_df['q'])"
   ]
  },
  {
   "cell_type": "code",
   "execution_count": null,
   "id": "0b067eaa",
   "metadata": {},
   "outputs": [],
   "source": []
  },
  {
   "cell_type": "markdown",
   "id": "eaa69c6b",
   "metadata": {},
   "source": [
    "# T-D Matrix"
   ]
  },
  {
   "cell_type": "code",
   "execution_count": 1,
   "id": "1f979f03",
   "metadata": {},
   "outputs": [],
   "source": [
    "D0=\"coffee coffee\"\n",
    "D1=\"tea cup jar jar tea\"\n",
    "D2=\"cup coffee jar cup\"\n",
    "D3=\"coffee cup coffee jar tea cup coffee jar cup jar\"\n",
    "D4 = 'jar water water jar'\n",
    "q=\"behind rats\"\n",
    "\n",
    "corpus=[D0,D1,D2,D3,D4,q]\n",
    "word_bag= set(D0.split()+D1.split()+D2.split()+D3.split()+D4.split()+q.split())"
   ]
  },
  {
   "cell_type": "code",
   "execution_count": 6,
   "id": "a3d5a878",
   "metadata": {},
   "outputs": [],
   "source": [
    "def td_matrix(corpus,word_bag):\n",
    "    td = pd.DataFrame(index = list(word_bag), columns = ['d0','d1','d2','d3','d4','q'])\n",
    "    for doc,col in zip(corpus,td.columns):\n",
    "        for word in word_bag:\n",
    "            if((doc.count(word))>=1):\n",
    "                td[col][word]=1\n",
    "            else:\n",
    "                td[col][word]=0\n",
    "                \n",
    "    return td"
   ]
  },
  {
   "cell_type": "code",
   "execution_count": 7,
   "id": "46cb5159",
   "metadata": {},
   "outputs": [
    {
     "data": {
      "text/html": [
       "<div>\n",
       "<style scoped>\n",
       "    .dataframe tbody tr th:only-of-type {\n",
       "        vertical-align: middle;\n",
       "    }\n",
       "\n",
       "    .dataframe tbody tr th {\n",
       "        vertical-align: top;\n",
       "    }\n",
       "\n",
       "    .dataframe thead th {\n",
       "        text-align: right;\n",
       "    }\n",
       "</style>\n",
       "<table border=\"1\" class=\"dataframe\">\n",
       "  <thead>\n",
       "    <tr style=\"text-align: right;\">\n",
       "      <th></th>\n",
       "      <th>d0</th>\n",
       "      <th>d1</th>\n",
       "      <th>d2</th>\n",
       "      <th>d3</th>\n",
       "      <th>d4</th>\n",
       "      <th>q</th>\n",
       "    </tr>\n",
       "  </thead>\n",
       "  <tbody>\n",
       "    <tr>\n",
       "      <th>rats</th>\n",
       "      <td>0</td>\n",
       "      <td>0</td>\n",
       "      <td>0</td>\n",
       "      <td>0</td>\n",
       "      <td>0</td>\n",
       "      <td>1</td>\n",
       "    </tr>\n",
       "    <tr>\n",
       "      <th>coffee</th>\n",
       "      <td>1</td>\n",
       "      <td>0</td>\n",
       "      <td>1</td>\n",
       "      <td>1</td>\n",
       "      <td>0</td>\n",
       "      <td>0</td>\n",
       "    </tr>\n",
       "    <tr>\n",
       "      <th>water</th>\n",
       "      <td>0</td>\n",
       "      <td>0</td>\n",
       "      <td>0</td>\n",
       "      <td>0</td>\n",
       "      <td>1</td>\n",
       "      <td>0</td>\n",
       "    </tr>\n",
       "    <tr>\n",
       "      <th>behind</th>\n",
       "      <td>0</td>\n",
       "      <td>0</td>\n",
       "      <td>0</td>\n",
       "      <td>0</td>\n",
       "      <td>0</td>\n",
       "      <td>1</td>\n",
       "    </tr>\n",
       "    <tr>\n",
       "      <th>tea</th>\n",
       "      <td>0</td>\n",
       "      <td>1</td>\n",
       "      <td>0</td>\n",
       "      <td>1</td>\n",
       "      <td>0</td>\n",
       "      <td>0</td>\n",
       "    </tr>\n",
       "    <tr>\n",
       "      <th>cup</th>\n",
       "      <td>0</td>\n",
       "      <td>1</td>\n",
       "      <td>1</td>\n",
       "      <td>1</td>\n",
       "      <td>0</td>\n",
       "      <td>0</td>\n",
       "    </tr>\n",
       "    <tr>\n",
       "      <th>jar</th>\n",
       "      <td>0</td>\n",
       "      <td>1</td>\n",
       "      <td>1</td>\n",
       "      <td>1</td>\n",
       "      <td>1</td>\n",
       "      <td>0</td>\n",
       "    </tr>\n",
       "  </tbody>\n",
       "</table>\n",
       "</div>"
      ],
      "text/plain": [
       "       d0 d1 d2 d3 d4  q\n",
       "rats    0  0  0  0  0  1\n",
       "coffee  1  0  1  1  0  0\n",
       "water   0  0  0  0  1  0\n",
       "behind  0  0  0  0  0  1\n",
       "tea     0  1  0  1  0  0\n",
       "cup     0  1  1  1  0  0\n",
       "jar     0  1  1  1  1  0"
      ]
     },
     "execution_count": 7,
     "metadata": {},
     "output_type": "execute_result"
    }
   ],
   "source": [
    "td_matrix(corpus,word_bag)"
   ]
  },
  {
   "cell_type": "code",
   "execution_count": null,
   "id": "9f526497",
   "metadata": {},
   "outputs": [],
   "source": []
  }
 ],
 "metadata": {
  "kernelspec": {
   "display_name": "Python 3",
   "language": "python",
   "name": "python3"
  },
  "language_info": {
   "codemirror_mode": {
    "name": "ipython",
    "version": 3
   },
   "file_extension": ".py",
   "mimetype": "text/x-python",
   "name": "python",
   "nbconvert_exporter": "python",
   "pygments_lexer": "ipython3",
   "version": "3.8.8"
  }
 },
 "nbformat": 4,
 "nbformat_minor": 5
}

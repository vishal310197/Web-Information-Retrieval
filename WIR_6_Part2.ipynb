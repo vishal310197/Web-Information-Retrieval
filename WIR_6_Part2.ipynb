{
 "cells": [
  {
   "cell_type": "code",
   "execution_count": 10,
   "metadata": {},
   "outputs": [],
   "source": [
    "import pandas as pd\n",
    "import numpy as np\n",
    "\n",
    "Doc_A1 = \"a bump on the log in the hole in the bottom of the sea\"\n",
    "Doc_A1 = Doc_A1.split()\n",
    "Doc_A2 = \"a frog on the bump on the log in the hole in the bottom of the sea\"\n",
    "Doc_A2 = Doc_A2.split()"
   ]
  },
  {
   "cell_type": "code",
   "execution_count": 11,
   "metadata": {},
   "outputs": [
    {
     "name": "stdout",
     "output_type": "stream",
     "text": [
      "[['a', 'bump'], ['bump', 'on'], ['on', 'the'], ['the', 'log'], ['log', 'in'], ['in', 'the'], ['the', 'hole'], ['hole', 'in'], ['in', 'the'], ['the', 'bottom'], ['bottom', 'of'], ['of', 'the'], ['the', 'sea']]\n",
      "[['a', 'bump'], ['bump', 'on'], ['on', 'the'], ['the', 'log'], ['log', 'in'], ['in', 'the'], ['the', 'hole'], ['hole', 'in'], ['the', 'bottom'], ['bottom', 'of'], ['of', 'the'], ['the', 'sea']]\n"
     ]
    }
   ],
   "source": [
    "#\"a bump on the log in the hole in the bottom of the sea\"\n",
    "\n",
    "list1 = []\n",
    "for i in range(0,len(Doc_A1)):\n",
    "    if(i<=(len(Doc_A1)-2)):\n",
    "        list1.append(Doc_A1[i:i+2])\n",
    "print(list1)\n",
    "\n",
    "A = []\n",
    "for j in list1:\n",
    "    if j not in A:\n",
    "        A.append(j)\n",
    "print(A)\n",
    "    \n",
    "    \n",
    "    "
   ]
  },
  {
   "cell_type": "code",
   "execution_count": 12,
   "metadata": {},
   "outputs": [
    {
     "name": "stdout",
     "output_type": "stream",
     "text": [
      "[['a', 'frog'], ['frog', 'on'], ['on', 'the'], ['the', 'bump'], ['bump', 'on'], ['on', 'the'], ['the', 'log'], ['log', 'in'], ['in', 'the'], ['the', 'hole'], ['hole', 'in'], ['in', 'the'], ['the', 'bottom'], ['bottom', 'of'], ['of', 'the'], ['the', 'sea']]\n",
      "[['a', 'frog'], ['frog', 'on'], ['on', 'the'], ['the', 'bump'], ['bump', 'on'], ['the', 'log'], ['log', 'in'], ['in', 'the'], ['the', 'hole'], ['hole', 'in'], ['the', 'bottom'], ['bottom', 'of'], ['of', 'the'], ['the', 'sea']]\n"
     ]
    }
   ],
   "source": [
    "#\"a frog on the bump on the log in the hole in the bottom of the sea\"\n",
    "\n",
    "list2 = []\n",
    "for i in range(0,len(Doc_A2)):\n",
    "    if(i<=(len(Doc_A2)-2)):\n",
    "        list2.append(Doc_A2[i:i+2])\n",
    "print(list2)\n",
    "\n",
    "B = []\n",
    "for j in list2:\n",
    "    if j not in B:\n",
    "        B.append(j)\n",
    "print(B)"
   ]
  },
  {
   "cell_type": "code",
   "execution_count": 14,
   "metadata": {},
   "outputs": [
    {
     "name": "stdout",
     "output_type": "stream",
     "text": [
      "[['bump', 'on'], ['on', 'the'], ['the', 'log'], ['log', 'in'], ['in', 'the'], ['the', 'hole'], ['hole', 'in'], ['the', 'bottom'], ['bottom', 'of'], ['of', 'the'], ['the', 'sea']]\n",
      "11\n",
      "[['a', 'bump'], ['a', 'frog'], ['frog', 'on'], ['the', 'bump']]\n",
      "[['bump', 'on'], ['on', 'the'], ['the', 'log'], ['log', 'in'], ['in', 'the'], ['the', 'hole'], ['hole', 'in'], ['the', 'bottom'], ['bottom', 'of'], ['of', 'the'], ['the', 'sea'], ['a', 'bump'], ['a', 'frog'], ['frog', 'on'], ['the', 'bump']]\n",
      "15\n",
      "\n",
      "\n",
      "0.73\n",
      "11\n",
      "[['bump', 'on'], ['on', 'the'], ['the', 'log'], ['log', 'in'], ['in', 'the'], ['the', 'hole'], ['hole', 'in'], ['the', 'bottom'], ['bottom', 'of'], ['of', 'the'], ['the', 'sea']]\n"
     ]
    }
   ],
   "source": [
    "AIB = [value for value in A if value in B]\n",
    "print(AIB)\n",
    "print(len(AIB))\n",
    "\n",
    "C = A+B\n",
    "un = [value for value in C if value not in AIB]\n",
    "print(un)\n",
    "\n",
    "AUB = AIB+un\n",
    "print(AUB)\n",
    "print(len(AUB))\n",
    "\n",
    "#Jaccard Coefficient1(2 word)\n",
    "jc2 = len(AIB)/len(AUB)\n",
    "print('\\n')\n",
    "print(round(jc2,2))\n",
    "print(len(AIB))\n",
    "print(AIB)"
   ]
  },
  {
   "cell_type": "code",
   "execution_count": null,
   "metadata": {},
   "outputs": [],
   "source": []
  },
  {
   "cell_type": "code",
   "execution_count": 33,
   "metadata": {},
   "outputs": [],
   "source": [
    "Doc_B1 = \"your mother drives you in the car\"\n",
    "Doc_B1 = Doc_B1.split()\n",
    "Doc_B2 = \"in mother russia car drives you\"\n",
    "Doc_B2 = Doc_B2.split()"
   ]
  },
  {
   "cell_type": "code",
   "execution_count": 36,
   "metadata": {},
   "outputs": [
    {
     "name": "stdout",
     "output_type": "stream",
     "text": [
      "[['your', 'mother'], ['mother', 'drives'], ['drives', 'you'], ['you', 'in'], ['in', 'the'], ['the', 'car']]\n",
      "[['your', 'mother'], ['mother', 'drives'], ['drives', 'you'], ['you', 'in'], ['in', 'the'], ['the', 'car']]\n"
     ]
    }
   ],
   "source": [
    "#your mother drives you in the car\n",
    "\n",
    "list1 = []\n",
    "for i in range(0,len(Doc_B1)):\n",
    "    if(i<=(len(Doc_B1)-2)):\n",
    "        list1.append(Doc_B1[i:i+2])\n",
    "print(list1)\n",
    "\n",
    "A2 = []\n",
    "for j in list1:\n",
    "    if j not in A2:\n",
    "        A2.append(j)\n",
    "print(A2)"
   ]
  },
  {
   "cell_type": "code",
   "execution_count": 37,
   "metadata": {},
   "outputs": [
    {
     "name": "stdout",
     "output_type": "stream",
     "text": [
      "[['in', 'mother'], ['mother', 'russia'], ['russia', 'car'], ['car', 'drives'], ['drives', 'you']]\n",
      "[['in', 'mother'], ['mother', 'russia'], ['russia', 'car'], ['car', 'drives'], ['drives', 'you']]\n"
     ]
    }
   ],
   "source": [
    "#in mother russia car drives you\n",
    "\n",
    "list2 = []\n",
    "for i in range(0,len(Doc_B2)):\n",
    "    if(i<=(len(Doc_B2)-2)):\n",
    "        list2.append(Doc_B2[i:i+2])\n",
    "print(list2)\n",
    "\n",
    "B2 = []\n",
    "for j in list2:\n",
    "    if j not in B2:\n",
    "        B2.append(j)\n",
    "print(B2)"
   ]
  },
  {
   "cell_type": "code",
   "execution_count": 38,
   "metadata": {},
   "outputs": [
    {
     "name": "stdout",
     "output_type": "stream",
     "text": [
      "[['drives', 'you']]\n",
      "1\n",
      "[['your', 'mother'], ['mother', 'drives'], ['you', 'in'], ['in', 'the'], ['the', 'car'], ['in', 'mother'], ['mother', 'russia'], ['russia', 'car'], ['car', 'drives']]\n",
      "[['drives', 'you'], ['your', 'mother'], ['mother', 'drives'], ['you', 'in'], ['in', 'the'], ['the', 'car'], ['in', 'mother'], ['mother', 'russia'], ['russia', 'car'], ['car', 'drives']]\n",
      "10\n",
      "\n",
      "\n",
      "0.1\n"
     ]
    }
   ],
   "source": [
    "AIB2 = [value for value in A2 if value in B2]\n",
    "print(AIB2)\n",
    "print(len(AIB2))\n",
    "\n",
    "C2 = A2+B2\n",
    "un2 = [value for value in C2 if value not in AIB2]\n",
    "print(un2)\n",
    "\n",
    "AUB2 = AIB2+un2\n",
    "print(AUB2)\n",
    "print(len(AUB2))\n",
    "\n",
    "#Jaccard Coefficient1(2 word)\n",
    "jc2 = len(AIB2)/len(AUB2)\n",
    "print('\\n')\n",
    "print(round(jc2,2))"
   ]
  },
  {
   "cell_type": "code",
   "execution_count": 40,
   "metadata": {},
   "outputs": [
    {
     "name": "stdout",
     "output_type": "stream",
     "text": [
      "[['a', 'bump', 'on'], ['bump', 'on', 'the'], ['on', 'the', 'log'], ['the', 'log', 'in'], ['log', 'in', 'the'], ['in', 'the', 'hole'], ['the', 'hole', 'in'], ['hole', 'in', 'the'], ['in', 'the', 'bottom'], ['the', 'bottom', 'of'], ['bottom', 'of', 'the'], ['of', 'the', 'sea']]\n",
      "[['a', 'bump', 'on'], ['bump', 'on', 'the'], ['on', 'the', 'log'], ['the', 'log', 'in'], ['log', 'in', 'the'], ['in', 'the', 'hole'], ['the', 'hole', 'in'], ['hole', 'in', 'the'], ['in', 'the', 'bottom'], ['the', 'bottom', 'of'], ['bottom', 'of', 'the'], ['of', 'the', 'sea']]\n"
     ]
    }
   ],
   "source": [
    "#\"a bump on the log in the hole in the bottom of the sea\"\n",
    "\n",
    "list1 = []\n",
    "for i in range(0,len(Doc_A1)):\n",
    "    if(i<=(len(Doc_A1)-3)):\n",
    "        list1.append(Doc_A1[i:i+3])\n",
    "print(list1)\n",
    "\n",
    "A3 = []\n",
    "for j in list1:\n",
    "    if j not in A3:\n",
    "        A3.append(j)\n",
    "print(A3)"
   ]
  },
  {
   "cell_type": "code",
   "execution_count": 41,
   "metadata": {},
   "outputs": [
    {
     "name": "stdout",
     "output_type": "stream",
     "text": [
      "[['a', 'frog', 'on'], ['frog', 'on', 'the'], ['on', 'the', 'bump'], ['the', 'bump', 'on'], ['bump', 'on', 'the'], ['on', 'the', 'log'], ['the', 'log', 'in'], ['log', 'in', 'the'], ['in', 'the', 'hole'], ['the', 'hole', 'in'], ['hole', 'in', 'the'], ['in', 'the', 'bottom'], ['the', 'bottom', 'of'], ['bottom', 'of', 'the'], ['of', 'the', 'sea']]\n",
      "[['a', 'frog', 'on'], ['frog', 'on', 'the'], ['on', 'the', 'bump'], ['the', 'bump', 'on'], ['bump', 'on', 'the'], ['on', 'the', 'log'], ['the', 'log', 'in'], ['log', 'in', 'the'], ['in', 'the', 'hole'], ['the', 'hole', 'in'], ['hole', 'in', 'the'], ['in', 'the', 'bottom'], ['the', 'bottom', 'of'], ['bottom', 'of', 'the'], ['of', 'the', 'sea']]\n"
     ]
    }
   ],
   "source": [
    "#\"a frog on the bump on the log in the hole in the bottom of the sea\"\n",
    "\n",
    "list2 = []\n",
    "for i in range(0,len(Doc_A2)):\n",
    "    if(i<=(len(Doc_A2)-3)):\n",
    "        list2.append(Doc_A2[i:i+3])\n",
    "print(list2)\n",
    "\n",
    "B3 = []\n",
    "for j in list2:\n",
    "    if j not in B3:\n",
    "        B3.append(j)\n",
    "print(B3)"
   ]
  },
  {
   "cell_type": "code",
   "execution_count": 42,
   "metadata": {},
   "outputs": [
    {
     "name": "stdout",
     "output_type": "stream",
     "text": [
      "[['bump', 'on', 'the'], ['on', 'the', 'log'], ['the', 'log', 'in'], ['log', 'in', 'the'], ['in', 'the', 'hole'], ['the', 'hole', 'in'], ['hole', 'in', 'the'], ['in', 'the', 'bottom'], ['the', 'bottom', 'of'], ['bottom', 'of', 'the'], ['of', 'the', 'sea']]\n",
      "11\n",
      "[['a', 'bump', 'on'], ['a', 'frog', 'on'], ['frog', 'on', 'the'], ['on', 'the', 'bump'], ['the', 'bump', 'on']]\n",
      "[['bump', 'on', 'the'], ['on', 'the', 'log'], ['the', 'log', 'in'], ['log', 'in', 'the'], ['in', 'the', 'hole'], ['the', 'hole', 'in'], ['hole', 'in', 'the'], ['in', 'the', 'bottom'], ['the', 'bottom', 'of'], ['bottom', 'of', 'the'], ['of', 'the', 'sea'], ['a', 'bump', 'on'], ['a', 'frog', 'on'], ['frog', 'on', 'the'], ['on', 'the', 'bump'], ['the', 'bump', 'on']]\n",
      "16\n",
      "\n",
      "\n",
      "0.69\n"
     ]
    }
   ],
   "source": [
    "AIB3 = [value for value in A3 if value in B3]\n",
    "print(AIB3)\n",
    "print(len(AIB3))\n",
    "\n",
    "C3 = A3+B3\n",
    "un3 = [value for value in C3 if value not in AIB3]\n",
    "print(un3)\n",
    "\n",
    "AUB3 = AIB3+un3\n",
    "print(AUB3)\n",
    "print(len(AUB3))\n",
    "\n",
    "#Jaccard Coefficient1(3 word)\n",
    "jc3 = len(AIB3)/len(AUB3)\n",
    "print('\\n')\n",
    "print(round(jc3,2))"
   ]
  },
  {
   "cell_type": "code",
   "execution_count": null,
   "metadata": {},
   "outputs": [],
   "source": []
  },
  {
   "cell_type": "code",
   "execution_count": 43,
   "metadata": {},
   "outputs": [
    {
     "name": "stdout",
     "output_type": "stream",
     "text": [
      "[['your', 'mother', 'drives'], ['mother', 'drives', 'you'], ['drives', 'you', 'in'], ['you', 'in', 'the'], ['in', 'the', 'car']]\n",
      "[['your', 'mother', 'drives'], ['mother', 'drives', 'you'], ['drives', 'you', 'in'], ['you', 'in', 'the'], ['in', 'the', 'car']]\n"
     ]
    }
   ],
   "source": [
    "#your mother drives you in the car\n",
    "\n",
    "list1 = []\n",
    "for i in range(0,len(Doc_B1)):\n",
    "    if(i<=(len(Doc_B1)-3)):\n",
    "        list1.append(Doc_B1[i:i+3])\n",
    "print(list1)\n",
    "\n",
    "A4 = []\n",
    "for j in list1:\n",
    "    if j not in A4:\n",
    "        A4.append(j)\n",
    "print(A4)"
   ]
  },
  {
   "cell_type": "code",
   "execution_count": 44,
   "metadata": {},
   "outputs": [
    {
     "name": "stdout",
     "output_type": "stream",
     "text": [
      "[['in', 'mother', 'russia'], ['mother', 'russia', 'car'], ['russia', 'car', 'drives'], ['car', 'drives', 'you']]\n",
      "[['in', 'mother', 'russia'], ['mother', 'russia', 'car'], ['russia', 'car', 'drives'], ['car', 'drives', 'you']]\n"
     ]
    }
   ],
   "source": [
    "#in mother russia car drives you\n",
    "\n",
    "list2 = []\n",
    "for i in range(0,len(Doc_B2)):\n",
    "    if(i<=(len(Doc_B2)-3)):\n",
    "        list2.append(Doc_B2[i:i+3])\n",
    "print(list2)\n",
    "\n",
    "B4 = []\n",
    "for j in list2:\n",
    "    if j not in B4:\n",
    "        B4.append(j)\n",
    "print(B4)"
   ]
  },
  {
   "cell_type": "code",
   "execution_count": 45,
   "metadata": {},
   "outputs": [
    {
     "name": "stdout",
     "output_type": "stream",
     "text": [
      "[]\n",
      "0\n",
      "[['your', 'mother', 'drives'], ['mother', 'drives', 'you'], ['drives', 'you', 'in'], ['you', 'in', 'the'], ['in', 'the', 'car'], ['in', 'mother', 'russia'], ['mother', 'russia', 'car'], ['russia', 'car', 'drives'], ['car', 'drives', 'you']]\n",
      "[['your', 'mother', 'drives'], ['mother', 'drives', 'you'], ['drives', 'you', 'in'], ['you', 'in', 'the'], ['in', 'the', 'car'], ['in', 'mother', 'russia'], ['mother', 'russia', 'car'], ['russia', 'car', 'drives'], ['car', 'drives', 'you']]\n",
      "9\n",
      "\n",
      "\n",
      "0.0\n"
     ]
    }
   ],
   "source": [
    "AIB4 = [value for value in A4 if value in B4]\n",
    "print(AIB4)\n",
    "print(len(AIB4))\n",
    "\n",
    "C4 = A4+B4\n",
    "un4 = [value for value in C4 if value not in AIB4]\n",
    "print(un4)\n",
    "\n",
    "AUB4 = AIB4+un4\n",
    "print(AUB4)\n",
    "print(len(AUB4))\n",
    "\n",
    "#Jaccard Coefficient1(3 word)\n",
    "jc3 = len(AIB4)/len(AUB4)\n",
    "print('\\n')\n",
    "print(round(jc3,2))"
   ]
  },
  {
   "cell_type": "code",
   "execution_count": null,
   "metadata": {},
   "outputs": [],
   "source": []
  },
  {
   "cell_type": "code",
   "execution_count": null,
   "metadata": {},
   "outputs": [],
   "source": []
  },
  {
   "cell_type": "code",
   "execution_count": null,
   "metadata": {},
   "outputs": [],
   "source": []
  }
 ],
 "metadata": {
  "kernelspec": {
   "display_name": "Python 3",
   "language": "python",
   "name": "python3"
  },
  "language_info": {
   "codemirror_mode": {
    "name": "ipython",
    "version": 3
   },
   "file_extension": ".py",
   "mimetype": "text/x-python",
   "name": "python",
   "nbconvert_exporter": "python",
   "pygments_lexer": "ipython3",
   "version": "3.8.8"
  }
 },
 "nbformat": 4,
 "nbformat_minor": 4
}
